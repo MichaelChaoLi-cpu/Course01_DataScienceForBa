


%pwd








import os
import pandas as pd








Data_Folder = "../Data"
Code_Folder = "../Code"
Results_Folder = "../Results"








raw_df = pd.read_csv(os.path.join(Data_Folder, 'D01_RawDataWb4WaveX_v1.csv'))


raw_df.head()


raw_df = pd.read_csv(os.path.join(Data_Folder, 'D01_RawDataWb4WaveX_v1.csv'), index_col = 0)


raw_df.head()


raw_df.index


raw_df.columns


raw_df.describe()


for column, item in zip(raw_df.columns, raw_df.isna().sum()):
    print(column, item)


df = raw_df.copy()











variable_list = []





df['wave'].value_counts().sort_index()


df['wave'] = df['wave'].astype(int)


df['wave'].value_counts().sort_index()


variable_list.append('wave')





variable_list.append('INCOME_2')


code = 'INCOME_5'
name = 'Income_level'


df[name] = df[code]


print(df[code].value_counts(dropna=False).sort_index())








df['Cantril_ladder'] = df['WP16']


df['Cantril_ladder'].value_counts(dropna=False).sort_index()


df = df[df['Cantril_ladder'] < 11]


df['Cantril_ladder'].value_counts(dropna=False).sort_index()






