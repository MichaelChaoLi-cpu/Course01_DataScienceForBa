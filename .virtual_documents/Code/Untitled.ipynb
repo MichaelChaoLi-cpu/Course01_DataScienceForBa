


%pwd








import numpy as np
import os
import pandas as pd








Data_Folder = "../Data"
Code_Folder = "../Code"
Results_Folder = "../Results"








raw_df = pd.read_csv(os.path.join(Data_Folder, 'D01_RawDataWb4WaveX_v1.csv'))


raw_df.head()


raw_df = pd.read_csv(os.path.join(Data_Folder, 'D01_RawDataWb4WaveX_v1.csv'), index_col = 0)


raw_df.head()


raw_df.index


raw_df.columns


raw_df.describe()


for column, item in zip(raw_df.columns, raw_df.isna().sum()):
    print(column, item)


df = raw_df.copy()











variable_list = []





df['wave'].value_counts().sort_index()


df['wave'] = df['wave'].astype(int)


df['wave'].value_counts().sort_index()


variable_list.append('wave')





variable_list.append('INCOME_2')


code = 'INCOME_5'
name = 'Income_level'


df[name] = df[code]


print(df[code].value_counts(dropna=False).sort_index())








df['Cantril_ladder'] = df['WP16']


df['Cantril_ladder'].value_counts(dropna=False).sort_index()


df = df[df['Cantril_ladder'] < 11]


df['Cantril_ladder'].value_counts(dropna=False).sort_index()











df['WP23'].value_counts(dropna=False).sort_index()


df['Health_disable'] = df['WP23']


df = df[df['Health_disable'] < 3] 


df['Health_disable'].value_counts(dropna=False).sort_index()


df['Health_disable'] = np.abs(df['Health_disable']-2)


df['Health_disable'].value_counts(dropna=False).sort_index()


variable_list.append('Health_disable')











df['WP27'].value_counts(dropna=False).sort_index()


df['WP27'] = df['WP27'].replace(4.0, np.nan)


df['WP27'].value_counts(dropna=False).sort_index()


df['Relative_have'] = df['WP27']


df['Relative_have'] = df['Relative_have'].fillna(2)


df.loc[df['Relative_have'].isin([3, 4]), 'Relative_have'] = 2


df['Relative_have'].value_counts(dropna=False).sort_index()


df['Relative_have'] = np.abs(df['Relative_have']-2)


df['Relative_have'].value_counts(dropna=False).sort_index()


variable_list.append('Relative_have')











df['WP30'].value_counts(dropna=False).sort_index()


df['Life_satisfaction'] = df['WP30']


df['Life_satisfaction'] = df['Life_satisfaction'].fillna(2)


df.loc[df['Life_satisfaction'].isin([3, 4]), 'Life_satisfaction'] = 2


df['Life_satisfaction'].value_counts(dropna=False).sort_index()


df['Life_satisfaction'] = np.abs(df['Life_satisfaction']-2)


df['Life_satisfaction'].value_counts(dropna=False).sort_index()












