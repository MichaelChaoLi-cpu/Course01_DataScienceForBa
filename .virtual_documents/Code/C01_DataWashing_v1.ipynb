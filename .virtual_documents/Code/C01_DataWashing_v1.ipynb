


%pwd








import numpy as np
import os
import pandas as pd








Data_Folder = "../Data"
Code_Folder = "../Code"
Results_Folder = "../Results"








raw_df = pd.read_csv(os.path.join(Data_Folder, 'D01_RawDataWb4WaveX_v1.csv'))


raw_df


raw_df.head()


help(pd.read_csv)


raw_df = pd.read_csv(os.path.join(Data_Folder, 'D01_RawDataWb4WaveX_v1.csv'), index_col = 0)


raw_df.head()


raw_df.index


raw_df.columns


raw_df.describe()


raw_df[['WP16', 'WP18', 'WP23', 'WP30']].describe()


list1 = [1,2,3]


type(list1)


raw_df.isna().sum()


for column, item in zip(raw_df.columns, raw_df.isna().sum()):
    print(column, item)


raw_df.columns


df = raw_df[['wave', 'INCOME_1', 'INCOME_2', 'INCOME_3', 'INCOME_4', 'INCOME_5',
             'INCOME_7', 'WP16', 'WP18', 'WP23', 'WP27', 'WP30', 'WP31',
       'WP40', 'WP43', 'WP60', 'WP61', 'WP63', 'WP65', 'WP67', 'WP68', 'WP69',
       'WP70', 'WP71', 'WP74', 'WP83', 'WP85', 'WP86', 'WP19472', 'WP88',
       'WP89', 'WP91', 'WP92', 'WP93', 'WP94', 'WP95', 'WP97', 'WP98',
       'WP10248', 'WP103', 'WP105', 'WP106', 'WP108', 'WP109', 'WP110',
       'WP111', 'WP112', 'WP113', 'WP117', 'WP118', 'WP119', 'WP129', 'WP130',
       'WP9050', 'WP131', 'WP132', 'WP134', 'WP1219', 'WP1220', 'WP1223', 'EMP_2010',
       'WP1230', 'WP1233', 'WP2319', 'WP4657', 'WP9042', 'WP9048', 'WP17625',
       'WP17626', 'WP16056', 'WP15862', 'WP19544', 'WP3117'
            ]].copy()


df


df.columns




















variable_list = []
### list kept variable











# WP16 -> Cantril_ladder generate
df['Cantril_ladder'] = df['WP16']


df.head()


df['Cantril_ladder'].value_counts(dropna=False).sort_index()








df[df['Cantril_ladder'] < 11]


df = df[df['Cantril_ladder'] < 11]





df['Cantril_ladder'].value_counts(dropna=False).sort_index()














df['wave'].value_counts().sort_index()


df['wave'] = df['wave'].astype(int)


df['wave'].value_counts().sort_index()


variable_list.append('wave')





variable_list.append('INCOME_2')


code = 'INCOME_5'
name = 'Income_level'


df[name] = df[code]


print(df[code].value_counts(dropna=False).sort_index())











df['WP23'].value_counts(dropna=False).sort_index()


df['Health_disable'] = df['WP23']


df = df[df['Health_disable'] < 3] 


df['Health_disable'].value_counts(dropna=False).sort_index()


df['Health_disable'] = np.abs(df['Health_disable']-2)


df['Health_disable'].value_counts(dropna=False).sort_index()


variable_list.append('Health_disable')











df['WP27'].value_counts(dropna=False).sort_index()


df['WP27'] = df['WP27'].replace(4.0, np.nan)


df['WP27'].value_counts(dropna=False).sort_index()


df['Relative_have'] = df['WP27']


df['Relative_have'] = df['Relative_have'].fillna(2)


df.loc[df['Relative_have'].isin([3, 4]), 'Relative_have'] = 2


df['Relative_have'].value_counts(dropna=False).sort_index()


df['Relative_have'] = np.abs(df['Relative_have']-2)


df['Relative_have'].value_counts(dropna=False).sort_index()


variable_list.append('Relative_have')











df['WP30'].value_counts(dropna=False).sort_index()


df['Life_satisfaction'] = df['WP30']


df['Life_satisfaction'] = df['Life_satisfaction'].fillna(2)


df.loc[df['Life_satisfaction'].isin([3, 4]), 'Life_satisfaction'] = 2


df['Life_satisfaction'].value_counts(dropna=False).sort_index()


df['Life_satisfaction'] = np.abs(df['Life_satisfaction']-2)


df['Life_satisfaction'].value_counts(dropna=False).sort_index()












