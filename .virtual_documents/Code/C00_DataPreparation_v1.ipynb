





import pandas as pd








#data_location  = "*/Data/GallupWB_WashedRawData17Wave_v1.parquet"


df = pd.read_parquet(data_location)


df.head()


df.shape


df.columns


df_4wave = df[df['wave'] > 13.9]


df_4wave_chn = df_4wave[df_4wave['COUNTRY_ISO3'] == 'CHN']


df_4wave_chn.shape


df_4wave_chn = df_4wave_chn.drop(columns = ['COUNTRY_ISO3'])


df_4wave_chn.head()


df_4wave_chn.to_csv('../Data/D01_RawDataWb4WaveX_v1.csv')















