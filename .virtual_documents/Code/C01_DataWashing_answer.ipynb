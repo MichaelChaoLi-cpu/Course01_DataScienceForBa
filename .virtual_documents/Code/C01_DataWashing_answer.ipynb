


%pwd





import numpy as np
import os
import pandas as pd








Data_Folder = "../Data"
Code_Folder = "../Code"
Results_Folder = "../Results"











df = pd.read_csv(os.path.join(Data_Folder, 'D01_RawDataWb4WaveX_v1.csv'), index_col = 0)


df.shape


df.head()


variable_list = []








df['wave'].value_counts().sort_index()


df['wave'] = df['wave'].astype(int)


df['wave'].value_counts().sort_index()


df = df[df['wave'].isin([12, 13, 14, 15, 16, 17])]


df['wave'].value_counts().sort_index()


df.shape


df.head()


variable_list.append('wave')








df['INCOME_2'].isna().sum()


df['INCOME_2'].head()


variable_list.append('INCOME_2')


code = 'INCOME_5'
name = 'Income_level'


df[name] = df[code]


print(df[code].value_counts(dropna=False).sort_index())














df['Cantril_ladder'] = df['WP16']


df['Cantril_ladder'].value_counts(dropna=False).sort_index()


df = df[df['Cantril_ladder'] < 11]



df['Cantril_ladder'].value_counts(dropna=False).sort_index()


df.shape


variable_list.append('Cantril_ladder')








df['WP18'].value_counts(dropna=False).sort_index()











df['WP23'].value_counts(dropna=False).sort_index()


df['Health_disable'] = df['WP23']


df = df[df['Health_disable'] < 3] 


df['Health_disable'].value_counts(dropna=False).sort_index()


df['Health_disable'] = np.abs(df['Health_disable']-2)


df['Health_disable'].value_counts(dropna=False).sort_index()


variable_list.append('Health_disable')








df['WP27'].value_counts(dropna=False).sort_index()


df['Relative_have'] = df['WP27']


df['Relative_have'] = df['Relative_have'].fillna(2)


df.loc[df['Relative_have'].isin([3, 4]), 'Relative_have'] = 2


df['Relative_have'].value_counts(dropna=False).sort_index()


df['Relative_have'] = np.abs(df['Relative_have']-2)


df['Relative_have'].value_counts(dropna=False).sort_index()


variable_list.append('Relative_have')








df['WP30'].value_counts(dropna=False).sort_index()


df['Life_satisfaction'] = df['WP30']


df['Life_satisfaction'] = df['Life_satisfaction'].fillna(2)


df.loc[df['Life_satisfaction'].isin([3, 4]), 'Life_satisfaction'] = 2


df['Life_satisfaction'].value_counts(dropna=False).sort_index()


df['Life_satisfaction'] = np.abs(df['Life_satisfaction']-2)


df['Life_satisfaction'].value_counts(dropna=False).sort_index()


variable_list.append('Life_satisfaction')








df['WP31'].value_counts(dropna=False).sort_index()


df['Living_standard_trend'] = df['WP31']


df['Living_standard_trend'] = df['Living_standard_trend'].fillna(2)


df.loc[df['Living_standard_trend'].isin([4, 5]), 'Living_standard_trend'] = 2


df['Living_standard_trend'].value_counts(dropna=False).sort_index()


df['Living_standard_trend'] = -(df['Living_standard_trend'] - 2)


df['Living_standard_trend'].value_counts(dropna=False).sort_index()


variable_list.append('Living_standard_trend')








name_list = ['Enough_food', 'Enough_shelter']


df['Enough_food'] = df['WP40']
df['Enough_shelter'] = df['WP43']


df['Enough_food'].value_counts(dropna=False).sort_index()


df['Enough_food'] = df['Enough_food'].fillna(2)
df['Enough_shelter'] = df['Enough_shelter'].fillna(2)


df['Enough_shelter'].value_counts(dropna=False).sort_index()


columns_to_replace = ['Enough_food', 'Enough_shelter']

for column in columns_to_replace:
    df.loc[df[column].isin([3, 4]), column] = 2


df['Enough_food'] = np.abs(df['Enough_food']-2)      


df['Enough_shelter'] = np.abs(df['Enough_shelter']-2)  


df['Enough_food'].value_counts(dropna=False).sort_index()    


df['Enough_shelter'].value_counts(dropna=False).sort_index()


variable_list = variable_list + name_list








name_list = ["Well_rested", "Respected", "Smile", "Interesting_thing"]


code_list = ["WP60", "WP61", "WP63", "WP65"]


for code, name in zip(code_list, name_list):
    print(df[code].value_counts(dropna=False).sort_index())
    df[name] = df[code]
    df[name] = df[name].fillna(2)
    df.loc[df[name].isin([3, 4]), name] = 2
    df[name] = np.abs(df[name]-2) 
    print(df[name].value_counts(dropna=False).sort_index())


variable_list = variable_list + name_list








name_list = ["Enjoyment", "Physical_pain", "Worry", "Sadness", "Stress", "Anger"]


code_list = ["WP67", "WP68", "WP69", "WP70", "WP71", "WP74"]


for code, name in zip(code_list, name_list):
    print(df[code].value_counts(dropna=False).sort_index())
    df[name] = df[code]
    df[name] = df[name].fillna(2)
    df.loc[df[name].isin([3, 4]), name] = 2
    df[name] = np.abs(df[name]-2) 
    print(df[name].value_counts(dropna=False).sort_index())


variable_list = variable_list + name_list











code = 'WP83'
name = 'City_satisfaction'


print(df[code].value_counts().sort_index())
df[name] = df[code]
df[name] = df[name].fillna(2)
df.loc[df[name] > 1, name] = 0
print(df[name].value_counts().sort_index())


variable_list.append(name)











#code = 'WP85'


#name = 'Move_place'


#print(df[code].value_counts(dropna=False).sort_index())
#df[name] = df[code]
#df[name] = df[name].fillna(2)
#df.loc[df[name] > 1, name] = 0
#print(df[name].value_counts().sort_index())


#variable_list.append(name)











code = 'WP86'
name = 'Recommended_live_place'


print(df[code].value_counts(dropna=False).sort_index())
df[name] = df[code]
df[name] = df[name].fillna(2)
df.loc[df[name] > 1, name] = 0
print(df[name].value_counts(dropna=False).sort_index())


variable_list.append(name)








code = 'WP19472'
name = 'Economic_rating'


print(df[code].value_counts(dropna=False).sort_index())


df[name] = df[code]
df[name] = df[name].fillna(2)
df.loc[df[name].isin([8, 9]), name] = 2
print(df[name].value_counts(dropna=False).sort_index())


variable_list.append(name)








code = 'WP88'
name = 'Economic_trend'


print(df[code].value_counts(dropna=False).sort_index())


df[name] = df[code]
df[name] = df[name].fillna(2)
df.loc[df[name].isin([4, 5]), name] = 2
df[name] = -(df[name] - 2)
print(df[name].value_counts(dropna=False).sort_index())


variable_list.append(name)








code = 'WP89'
name = 'Local_job_outlook'


print(df[code].value_counts(dropna=False).sort_index())
df[name] = df[code]
df[name] = df[name].fillna(2)
df.loc[df[name] > 1, name] = 0
print(df[name].value_counts(dropna=False).sort_index())


variable_list.append(name)








name_list = ['Satisfied_pubtran', 'Satisfied_road', 'Satisfied_edu', 'Satisfied_qualityair', 'Satisfied_qualitywater', 'Satisfied_healthcare', 'Satisfied_affhouse', 'Satisfied_oppofriend']


code_list = ['WP91', 'WP92', 'WP93', 'WP94', 'WP95', 'WP97', 'WP98', 'WP10248']


for code, name in zip(code_list, name_list):
    print(df[code].value_counts(dropna=False).sort_index())
    df[name] = df[code]
    df[name] = df[name].fillna(2)
    df.loc[df[name] > 1, name] = 0
    print(df[name].value_counts(dropna=False).sort_index())


variable_list = variable_list + name_list








name_list = ['Good_minorities', 'Good_homo', 'Good_immigrants']


code_list = ['WP103', 'WP105', 'WP106']


for code, name in zip(code_list, name_list):
    print(df[code].value_counts(dropna=False).sort_index())
    df[name] = df[code]
    df[name] = df[name].fillna(2)
    df.loc[df[name] > 1, name] = 0
    print(df[name].value_counts(dropna=False).sort_index())


variable_list = variable_list + name_list








name_list = ['Donated', 'Volunteer', 'Help_stranger', 'Voice_official']


code_list = ['WP108', 'WP109', 'WP110', 'WP111']


for code, name in zip(code_list, name_list):
    print(df[code].value_counts(dropna=False).sort_index())
    df[name] = df[code]
    df[name] = df[name].fillna(2)
    df.loc[df[name] > 1, name] = 0
    print(df[name].value_counts(dropna=False).sort_index())


variable_list = variable_list + name_list








name_list = ['Local_police_confidence', 'Safety_walk', 'Stolen', 'Assualted']


code_list = ['WP112', 'WP113', 'WP117', 'WP118']


for code, name in zip(code_list, name_list):
    print(df[code].value_counts(dropna=False).sort_index())
    df[name] = df[code]
    df[name] = df[name].fillna(2)
    df.loc[df[name] > 1, name] = 0
    print(df[name].value_counts(dropna=False).sort_index())


variable_list = variable_list + name_list








name_list = ['Religion_importance', 'Children_respected', 'Children_learn', 'Women_respected']


code_list = ['WP119', 'WP129', 'WP130', 'WP9050']


for code, name in zip(code_list, name_list):
    print(df[code].value_counts(dropna=False).sort_index())
    df[name] = df[code]
    df[name] = df[name].fillna(2)
    df.loc[df[name] > 1, name] = 0
    print(df[name].value_counts(dropna=False).sort_index())


variable_list = variable_list + name_list








name_list = ['Satisfied_dealpoor', 'Satisfied_Env_preservation', 'Satisfied_Personalfreedom']


code_list = ['WP131', 'WP132', 'WP134']


for code, name in zip(code_list, name_list):
    print(df[code].value_counts(dropna=False).sort_index())
    df[name] = df[code]
    df[name] = df[name].fillna(2)
    df.loc[df[name] > 1, name] = 0
    print(df[name].value_counts(dropna=False).sort_index())


variable_list = variable_list + name_list








name_list = ['Confidence_military', 'Confidence_judicial', 'Confidence_gov', 'Confidence_fin', 'Confidence_honestyelections']


code_list = ['WP137', 'WP138', 'WP139', 'WP141', 'WP144']


for code, name in zip(code_list, name_list):
    print(df[code].value_counts(dropna=False).sort_index())
    df[name] = df[code]
    df[name] = df[name].fillna(2)
    df.loc[df[name] > 1, name] = 0
    print(df[name].value_counts(dropna=False).sort_index())


variable_list = variable_list + name_list








name_list = ['Freedom_media', 'Corruption_business', 'Corruption_government', 'Performance_leadership']


code_list = ['WP10251', 'WP145', 'WP146', 'WP150']


for code, name in zip(code_list, name_list):
    print(df[code].value_counts(dropna=False).sort_index())
    df[name] = df[code]
    df[name] = df[name].fillna(2)
    df.loc[df[name] > 1, name] = 0
    print(df[name].value_counts(dropna=False).sort_index())


variable_list = variable_list + name_list








code = 'WP1219'
name = 'Gender_female'


df[name] = df[code]


print(df[code].value_counts(dropna=False).sort_index())


df[name] = df[name] - 1


print(df[name].value_counts(dropna=False).sort_index())


variable_list.append(name)








code = 'WP1220'
name = 'Age'


df[name] = df[code]


print(df[code].value_counts(dropna=False).sort_index())


df[name] = df[name].fillna(100)


df.shape


df = df[df[name] < 100]


df.shape


print(df[name].value_counts(dropna=False).sort_index())


variable_list.append(name)





code = 'WP3117'
name = 'Education'


df[name] = df[code]


print(df[code].value_counts(dropna=False).sort_index())


df[name] = df[name].fillna(2)  


df.loc[df[name] > 3, name] = 2


print(df[name].value_counts(dropna=False).sort_index())


df[name] = (df[name] - 2)


print(df[name].value_counts(dropna=False).sort_index())


variable_list.append(name)








code = 'WP1223'
name = 'Marital_status'


df[name] = df[code]


print(df[code].value_counts(dropna=False).sort_index())


df[name] = df[name].fillna(6)


df = df[df[name] != 6]
df = df[df[name] != 7]


print(df[name].value_counts(dropna=False).sort_index())


variable_list.append(name)





code = 'EMP_2010'
name = 'Employment'


df[name] = df[code]


print(df[code].value_counts(dropna=False).sort_index())


df[name] = df[name].fillna(10)


df.shape


df = df[df[name] != 10]


df.shape


print(df[name].value_counts(dropna=False).sort_index())


variable_list.append(name)








code = 'WP1230'
name = 'Children_under15'


df[name] = df[code]


print(df[code].value_counts(dropna=False).sort_index())


df[name] = df[name].fillna(100)


print(df[name].value_counts(dropna=False).sort_index())


df.loc[df[name] > 0, name] = 1


print(df[name].value_counts(dropna=False).sort_index())


variable_list.append(name)








code = 'WP2319'
name = 'Feeling_income'


df[name] = df[code]


print(df[code].value_counts(dropna=False).sort_index())


df[name] = df[name].fillna(5)


df.shape


df = df[df[name] < 5]


df.shape


print(df[name].value_counts(dropna=False).sort_index())


variable_list.append(name)





code = 'WP4657'
name = 'Born_here'


df[name] = df[code]


print(df[code].value_counts(dropna=False).sort_index())


df[name] = df[name].fillna(2)


df.loc[df[name].isin([3, 4]), name] = 2


df[name] = np.abs(df[name]-2)


print(df[name].value_counts(dropna=False).sort_index())


variable_list.append(name)








code = 'WP17625'
name = 'Home_handline'


df[name] = df[code]


print(df[code].value_counts(dropna=False).sort_index())


df[name] = df[name].fillna(3)


df = df[df[name] < 3]


print(df[name].value_counts(dropna=False).sort_index())


df[name] = np.abs(df[name]-2)


print(df[name].value_counts(dropna=False).sort_index())


variable_list.append(name)








code = 'WP17626'
name = 'Mobile_phone'


df[name] = df[code]


print(df[code].value_counts(dropna=False).sort_index())


df[name] = df[name].fillna(3)


df = df[df[name] < 3]


df[name] = np.abs(df[name]-2)


print(df[name].value_counts(dropna=False).sort_index())


variable_list.append(name)








code = 'WP16056'
name = 'Internet_access_available'


df[name] = df[code]


print(df[code].value_counts(dropna=False).sort_index())


df[name] = df[name].fillna(3)


df = df[df[name] < 3]


df[name] = np.abs(df[name]-2)


print(df[name].value_counts(dropna=False).sort_index())


variable_list.append(name)








code = 'WP15862'
name = 'Used_internet_recently'


df[name] = df[code]


print(df[code].value_counts(dropna=False).sort_index())


df[name] = df[name].fillna(2)
df = df[df[name] < 3]


df[name] = np.abs(df[name]-2)


print(df[name].value_counts(dropna=False).sort_index())


variable_list.append(name)





df['Internet_access_available'].value_counts(dropna=False).sort_index()





code = 'WP19544'
name = 'Phone_internet_access'


df[name] = df[code]


print(df[code].value_counts(dropna=False).sort_index())


df[name] = df[name].fillna(2)
df = df[df[name] < 3]


df[name] = np.abs(df[name]-2)


print(df[name].value_counts(dropna=False).sort_index())


variable_list.append(name)





df['Internet_access_available'].value_counts(dropna=False).sort_index()








code = 'INCOME_5'
name = 'Income_level'


df[name] = df[code]


print(df[code].value_counts(dropna=False).sort_index())


df.shape


df = df.dropna(subset=['INCOME_5'])


df.shape


variable_list.append(name)





variable_list


len(variable_list)


WahsedDataset = df[variable_list]


WahsedDataset.shape


WahsedDataset.isna().any().any()


#WahsedDataset.to_parquet(os.path.join(Data_Folder, 'D02_WashedData_v1.parquet'))



