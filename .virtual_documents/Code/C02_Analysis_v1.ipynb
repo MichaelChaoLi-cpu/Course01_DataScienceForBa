


%pwd








import matplotlib.pyplot as plt
import numpy as np
import os
import pandas as pd
import seaborn as sns
from sklearn.ensemble import RandomForestRegressor, RandomForestClassifier
from sklearn.model_selection import train_test_split
from sklearn.linear_model import LinearRegression, LogisticRegression
from sklearn.metrics import mean_squared_error, mean_absolute_error, r2_score, accuracy_score, confusion_matrix, classification_report








Data_Folder = "../Data"
Code_Folder = "../Code"
Results_Folder = "../Results"








WahsedDataset = pd.read_parquet(os.path.join(Data_Folder, 'D02_WashedData_v1.parquet'))


WahsedDataset


WahsedDataset.head()


WahsedDataset.columns


WahsedDataset.describe()








y = WahsedDataset['Cantril_ladder']


X = WahsedDataset.drop(columns = ['Cantril_ladder'])


model = LinearRegression()
model.fit(X, y)


# Making predictions
y_pred = model.predict(X)

# Computing R2, MSE, and MAE
r2 = r2_score(y, y_pred)
mse = mean_squared_error(y, y_pred)
mae = mean_absolute_error(y, y_pred)

# Printing the results
print(f"R² Score: {r2*100:.2f}%")
print(f"Mean Squared Error: {mse:.2f}")
print(f"Mean Absolute Error: {mae:.2f}")


y - y_pred








# Calculate residuals
residuals = y - y_pred


plt.figure(figsize=(10, 6))
plt.hist(residuals, bins=30, color='blue', alpha=0.7)
plt.title('Histogram of Residuals')
plt.xlabel('Residuals')
plt.ylabel('Frequency')
plt.grid(True)
plt.show()









X_train, X_test, y_train, y_test = train_test_split(X, y, test_size=0.1, random_state=42)


model = LinearRegression()
model.fit(X_train, y_train)


# Making predictions
y_pred = model.predict(X_test)

# Computing R2, MSE, and MAE
r2 = r2_score(y_test, y_pred)
mse = mean_squared_error(y_test, y_pred)
mae = mean_absolute_error(y_test, y_pred)

# Printing the results
print(f"R² Score: {r2*100:.2f}%")
print(f"Mean Squared Error: {mse:.2f}")
print(f"Mean Absolute Error: {mae:.2f}")








# Initialize the RandomForestRegressor
model = RandomForestRegressor(n_estimators=100, random_state=42)  # 100 trees in the forest

# Train the model
model.fit(X_train, y_train)


# Making predictions
y_pred = model.predict(X)

# Computing R2, MSE, and MAE
r2 = r2_score(y, y_pred)
mse = mean_squared_error(y, y_pred)
mae = mean_absolute_error(y, y_pred)

# Printing the results
print(f"R² Score: {r2*100:.2f}%")
print(f"Mean Squared Error: {mse:.2f}")
print(f"Mean Absolute Error: {mae:.2f}")








model = RandomForestRegressor(n_estimators=100, random_state=42) 
model.fit(X_train, y_train)


# Making predictions
y_pred = model.predict(X_test)

# Computing R2, MSE, and MAE
r2 = r2_score(y_test, y_pred)
mse = mean_squared_error(y_test, y_pred)
mae = mean_absolute_error(y_test, y_pred)

# Printing the results
print(f"R² Score: {r2*100:.2f}%")
print(f"Mean Squared Error: {mse:.2f}")
print(f"Mean Absolute Error: {mae:.2f}")











y = WahsedDataset['Life_satisfaction']


X = WahsedDataset.drop(columns = ['Cantril_ladder', 'Life_satisfaction'])


model = LogisticRegression()
model.fit(X, y)


# Making predictions
y_pred = model.predict(X)


# Calculate accuracy
accuracy = accuracy_score(y, y_pred)
print(f"Accuracy: {accuracy:.2f}")

# Compute and plot the confusion matrix
conf_matrix = confusion_matrix(y, y_pred)

plt.figure(figsize=(8, 6))
sns.heatmap(conf_matrix, annot=True, fmt='d', cmap='Blues', xticklabels=['Class 0', 'Class 1'], yticklabels=['Class 0', 'Class 1'])
plt.title('Confusion Matrix')
plt.ylabel('True Label')
plt.xlabel('Predicted Label')
plt.show()

# Detailed classification report
print(classification_report(y, y_pred))






probabilities = model.predict_proba(X)


residuals = y - probabilities[:,1]


plt.figure(figsize=(10, 6))
plt.hist(residuals, bins=30, color='blue', alpha=0.7)
plt.title('Histogram of Residuals')
plt.xlabel('Residuals')
plt.ylabel('Frequency')
plt.grid(True)
plt.show()









X_train, X_test, y_train, y_test = train_test_split(X, y, test_size=0.1, random_state=42)


model = LogisticRegression()
model.fit(X_train, y_train)


# Making predictions
y_pred = model.predict(X_train)


# Calculate accuracy
accuracy = accuracy_score(y_test, y_pred)
print(f"Accuracy: {accuracy:.2f}")

# Compute and plot the confusion matrix
conf_matrix = confusion_matrix(y_test, y_pred)

plt.figure(figsize=(8, 6))
sns.heatmap(conf_matrix, annot=True, fmt='d', cmap='Blues', xticklabels=['Class 0', 'Class 1'], yticklabels=['Class 0', 'Class 1'])
plt.title('Confusion Matrix')
plt.ylabel('True Label')
plt.xlabel('Predicted Label')
plt.show()

# Detailed classification report
print(classification_report(y_test, y_pred))









# Initialize the RandomForestRegressor
model = RandomForestClassifier(n_estimators=100, random_state=42)  # 100 trees in the forest

# Train the model
model.fit(X, y)


# Making predictions
y_pred = model.predict(X)


# Calculate accuracy
accuracy = accuracy_score(y, y_pred)
print(f"Accuracy: {accuracy:.2f}")

# Compute and plot the confusion matrix
conf_matrix = confusion_matrix(y, y_pred)

plt.figure(figsize=(8, 6))
sns.heatmap(conf_matrix, annot=True, fmt='d', cmap='Blues', xticklabels=['Class 0', 'Class 1'], yticklabels=['Class 0', 'Class 1'])
plt.title('Confusion Matrix')
plt.ylabel('True Label')
plt.xlabel('Predicted Label')
plt.show()

# Detailed classification report
print(classification_report(y, y_pred))









model = RandomForestClassifier(n_estimators=100, random_state=42) 
model.fit(X_train, y_train)


# Making predictions
y_pred = model.predict(X)


# Calculate accuracy
accuracy = accuracy_score(y_test, y_pred)
print(f"Accuracy: {accuracy:.2f}")

# Compute and plot the confusion matrix
conf_matrix = confusion_matrix(y_test, y_pred)

plt.figure(figsize=(8, 6))
sns.heatmap(conf_matrix, annot=True, fmt='d', cmap='Blues', xticklabels=['Class 0', 'Class 1'], yticklabels=['Class 0', 'Class 1'])
plt.title('Confusion Matrix')
plt.ylabel('True Label')
plt.xlabel('Predicted Label')
plt.show()

# Detailed classification report
print(classification_report(y_test, y_pred))
















