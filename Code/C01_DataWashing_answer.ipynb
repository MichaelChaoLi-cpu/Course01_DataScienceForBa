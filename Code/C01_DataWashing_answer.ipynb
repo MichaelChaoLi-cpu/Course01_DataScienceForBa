{
 "cells": [
  {
   "cell_type": "markdown",
   "id": "1dca2e4c-ecb3-4654-81cc-2bec42b3896d",
   "metadata": {},
   "source": [
    "# Wash Data 12 to 17 wave "
   ]
  },
  {
   "cell_type": "code",
   "execution_count": 1,
   "id": "1e8e994b-8696-41d7-a3da-a11bc8a433d8",
   "metadata": {},
   "outputs": [
    {
     "data": {
      "text/plain": [
       "'/Users/lichao/Library/CloudStorage/OneDrive-KyushuUniversity/Course01_DataScienceForBa/Code'"
      ]
     },
     "execution_count": 1,
     "metadata": {},
     "output_type": "execute_result"
    }
   ],
   "source": [
    "%pwd"
   ]
  },
  {
   "cell_type": "markdown",
   "id": "02a74d59-689a-4e47-9c11-289dfb68dca7",
   "metadata": {},
   "source": [
    "## Import Package"
   ]
  },
  {
   "cell_type": "code",
   "execution_count": 2,
   "id": "ecf23674-4c86-4d60-8dc7-8c652c8bf166",
   "metadata": {},
   "outputs": [],
   "source": [
    "import numpy as np\n",
    "import os\n",
    "import pandas as pd"
   ]
  },
  {
   "cell_type": "code",
   "execution_count": null,
   "id": "8aad6397-37cd-4f4d-897a-ff6f114125dc",
   "metadata": {},
   "outputs": [],
   "source": []
  },
  {
   "cell_type": "markdown",
   "id": "ceeef699-3340-4527-91aa-e2f7aef109ea",
   "metadata": {},
   "source": [
    "## Folder Address Setting"
   ]
  },
  {
   "cell_type": "code",
   "execution_count": 3,
   "id": "dc94d556-2629-4723-b4ce-13f1127bc8fc",
   "metadata": {},
   "outputs": [],
   "source": [
    "Data_Folder = \"../Data\"\n",
    "Code_Folder = \"../Code\"\n",
    "Results_Folder = \"../Results\""
   ]
  },
  {
   "cell_type": "code",
   "execution_count": null,
   "id": "9e22cf23-3575-472a-98fe-840c16128aef",
   "metadata": {},
   "outputs": [],
   "source": []
  },
  {
   "cell_type": "markdown",
   "id": "3309a111-9e9b-40c3-865c-a3a0bd6b74bc",
   "metadata": {},
   "source": [
    "## Wash Dateset"
   ]
  },
  {
   "cell_type": "markdown",
   "id": "afdfe74f-e7cb-435e-a6d1-0588be116409",
   "metadata": {},
   "source": [
    "### Load dataset"
   ]
  },
  {
   "cell_type": "code",
   "execution_count": 4,
   "id": "874b7bcd-9bd4-437c-929d-3b35ccd2d2b8",
   "metadata": {},
   "outputs": [],
   "source": [
    "df = pd.read_csv(os.path.join(Data_Folder, 'D01_RawDataWb4WaveX_v1.csv'), index_col = 0)"
   ]
  },
  {
   "cell_type": "code",
   "execution_count": 5,
   "id": "efc00eba-d3af-4989-a4f1-13bcd12236a5",
   "metadata": {},
   "outputs": [
    {
     "data": {
      "text/plain": [
       "(10712, 89)"
      ]
     },
     "execution_count": 5,
     "metadata": {},
     "output_type": "execute_result"
    }
   ],
   "source": [
    "df.shape"
   ]
  },
  {
   "cell_type": "code",
   "execution_count": 6,
   "id": "7fef2e3a-1cf5-4a72-bbca-051b9ae27cd1",
   "metadata": {},
   "outputs": [
    {
     "data": {
      "text/html": [
       "<div>\n",
       "<style scoped>\n",
       "    .dataframe tbody tr th:only-of-type {\n",
       "        vertical-align: middle;\n",
       "    }\n",
       "\n",
       "    .dataframe tbody tr th {\n",
       "        vertical-align: top;\n",
       "    }\n",
       "\n",
       "    .dataframe thead th {\n",
       "        text-align: right;\n",
       "    }\n",
       "</style>\n",
       "<table border=\"1\" class=\"dataframe\">\n",
       "  <thead>\n",
       "    <tr style=\"text-align: right;\">\n",
       "      <th></th>\n",
       "      <th>wave</th>\n",
       "      <th>INCOME_1</th>\n",
       "      <th>INCOME_2</th>\n",
       "      <th>INCOME_3</th>\n",
       "      <th>INCOME_4</th>\n",
       "      <th>INCOME_5</th>\n",
       "      <th>INCOME_6</th>\n",
       "      <th>INCOME_7</th>\n",
       "      <th>WP16</th>\n",
       "      <th>WP18</th>\n",
       "      <th>...</th>\n",
       "      <th>WP2319</th>\n",
       "      <th>WP4657</th>\n",
       "      <th>WP9042</th>\n",
       "      <th>WP9048</th>\n",
       "      <th>WP17625</th>\n",
       "      <th>WP17626</th>\n",
       "      <th>WP16056</th>\n",
       "      <th>WP15862</th>\n",
       "      <th>WP19544</th>\n",
       "      <th>WP3117</th>\n",
       "    </tr>\n",
       "  </thead>\n",
       "  <tbody>\n",
       "    <tr>\n",
       "      <th>2051059</th>\n",
       "      <td>14.1</td>\n",
       "      <td>36000.0</td>\n",
       "      <td>8966.233975</td>\n",
       "      <td>6000.0</td>\n",
       "      <td>1494.372329</td>\n",
       "      <td>1.0</td>\n",
       "      <td>NaN</td>\n",
       "      <td>3.0</td>\n",
       "      <td>7.0</td>\n",
       "      <td>98.0</td>\n",
       "      <td>...</td>\n",
       "      <td>6.0</td>\n",
       "      <td>1.0</td>\n",
       "      <td>NaN</td>\n",
       "      <td>NaN</td>\n",
       "      <td>2.0</td>\n",
       "      <td>1.0</td>\n",
       "      <td>1.0</td>\n",
       "      <td>1.0</td>\n",
       "      <td>1.0</td>\n",
       "      <td>2.0</td>\n",
       "    </tr>\n",
       "    <tr>\n",
       "      <th>2051060</th>\n",
       "      <td>14.1</td>\n",
       "      <td>120000.0</td>\n",
       "      <td>29887.446582</td>\n",
       "      <td>30000.0</td>\n",
       "      <td>7471.861645</td>\n",
       "      <td>4.0</td>\n",
       "      <td>NaN</td>\n",
       "      <td>1.0</td>\n",
       "      <td>1.0</td>\n",
       "      <td>1.0</td>\n",
       "      <td>...</td>\n",
       "      <td>2.0</td>\n",
       "      <td>1.0</td>\n",
       "      <td>NaN</td>\n",
       "      <td>NaN</td>\n",
       "      <td>2.0</td>\n",
       "      <td>1.0</td>\n",
       "      <td>1.0</td>\n",
       "      <td>1.0</td>\n",
       "      <td>1.0</td>\n",
       "      <td>3.0</td>\n",
       "    </tr>\n",
       "    <tr>\n",
       "      <th>2051061</th>\n",
       "      <td>14.1</td>\n",
       "      <td>216000.0</td>\n",
       "      <td>53797.403847</td>\n",
       "      <td>54000.0</td>\n",
       "      <td>13449.350962</td>\n",
       "      <td>5.0</td>\n",
       "      <td>NaN</td>\n",
       "      <td>3.0</td>\n",
       "      <td>4.0</td>\n",
       "      <td>5.0</td>\n",
       "      <td>...</td>\n",
       "      <td>2.0</td>\n",
       "      <td>1.0</td>\n",
       "      <td>NaN</td>\n",
       "      <td>NaN</td>\n",
       "      <td>2.0</td>\n",
       "      <td>1.0</td>\n",
       "      <td>2.0</td>\n",
       "      <td>NaN</td>\n",
       "      <td>2.0</td>\n",
       "      <td>1.0</td>\n",
       "    </tr>\n",
       "    <tr>\n",
       "      <th>2051062</th>\n",
       "      <td>14.1</td>\n",
       "      <td>72000.0</td>\n",
       "      <td>17932.467949</td>\n",
       "      <td>14400.0</td>\n",
       "      <td>3586.493590</td>\n",
       "      <td>2.0</td>\n",
       "      <td>NaN</td>\n",
       "      <td>3.0</td>\n",
       "      <td>6.0</td>\n",
       "      <td>6.0</td>\n",
       "      <td>...</td>\n",
       "      <td>2.0</td>\n",
       "      <td>1.0</td>\n",
       "      <td>NaN</td>\n",
       "      <td>NaN</td>\n",
       "      <td>2.0</td>\n",
       "      <td>1.0</td>\n",
       "      <td>1.0</td>\n",
       "      <td>1.0</td>\n",
       "      <td>1.0</td>\n",
       "      <td>3.0</td>\n",
       "    </tr>\n",
       "    <tr>\n",
       "      <th>2051063</th>\n",
       "      <td>14.1</td>\n",
       "      <td>9600.0</td>\n",
       "      <td>2390.995727</td>\n",
       "      <td>2400.0</td>\n",
       "      <td>597.748932</td>\n",
       "      <td>1.0</td>\n",
       "      <td>NaN</td>\n",
       "      <td>3.0</td>\n",
       "      <td>4.0</td>\n",
       "      <td>4.0</td>\n",
       "      <td>...</td>\n",
       "      <td>3.0</td>\n",
       "      <td>1.0</td>\n",
       "      <td>NaN</td>\n",
       "      <td>NaN</td>\n",
       "      <td>1.0</td>\n",
       "      <td>1.0</td>\n",
       "      <td>1.0</td>\n",
       "      <td>1.0</td>\n",
       "      <td>1.0</td>\n",
       "      <td>2.0</td>\n",
       "    </tr>\n",
       "  </tbody>\n",
       "</table>\n",
       "<p>5 rows × 89 columns</p>\n",
       "</div>"
      ],
      "text/plain": [
       "         wave  INCOME_1      INCOME_2  INCOME_3      INCOME_4  INCOME_5  \\\n",
       "2051059  14.1   36000.0   8966.233975    6000.0   1494.372329       1.0   \n",
       "2051060  14.1  120000.0  29887.446582   30000.0   7471.861645       4.0   \n",
       "2051061  14.1  216000.0  53797.403847   54000.0  13449.350962       5.0   \n",
       "2051062  14.1   72000.0  17932.467949   14400.0   3586.493590       2.0   \n",
       "2051063  14.1    9600.0   2390.995727    2400.0    597.748932       1.0   \n",
       "\n",
       "         INCOME_6  INCOME_7  WP16  WP18  ...  WP2319  WP4657  WP9042  WP9048  \\\n",
       "2051059       NaN       3.0   7.0  98.0  ...     6.0     1.0     NaN     NaN   \n",
       "2051060       NaN       1.0   1.0   1.0  ...     2.0     1.0     NaN     NaN   \n",
       "2051061       NaN       3.0   4.0   5.0  ...     2.0     1.0     NaN     NaN   \n",
       "2051062       NaN       3.0   6.0   6.0  ...     2.0     1.0     NaN     NaN   \n",
       "2051063       NaN       3.0   4.0   4.0  ...     3.0     1.0     NaN     NaN   \n",
       "\n",
       "         WP17625  WP17626  WP16056  WP15862  WP19544  WP3117  \n",
       "2051059      2.0      1.0      1.0      1.0      1.0     2.0  \n",
       "2051060      2.0      1.0      1.0      1.0      1.0     3.0  \n",
       "2051061      2.0      1.0      2.0      NaN      2.0     1.0  \n",
       "2051062      2.0      1.0      1.0      1.0      1.0     3.0  \n",
       "2051063      1.0      1.0      1.0      1.0      1.0     2.0  \n",
       "\n",
       "[5 rows x 89 columns]"
      ]
     },
     "execution_count": 6,
     "metadata": {},
     "output_type": "execute_result"
    }
   ],
   "source": [
    "df.head()"
   ]
  },
  {
   "cell_type": "code",
   "execution_count": 7,
   "id": "7b361c3d-8d5b-4274-9b63-1ee0b6c87865",
   "metadata": {},
   "outputs": [],
   "source": [
    "variable_list = []"
   ]
  },
  {
   "cell_type": "code",
   "execution_count": null,
   "id": "2aeb967f-81cd-4234-b69d-4ced9dbffc82",
   "metadata": {},
   "outputs": [],
   "source": []
  },
  {
   "cell_type": "markdown",
   "id": "4e3f1b72-2e82-4b7a-9e9b-1d6f31114cbe",
   "metadata": {},
   "source": [
    "### Washing wave"
   ]
  },
  {
   "cell_type": "code",
   "execution_count": 8,
   "id": "9b2d8591-adce-4295-9a70-99bb0c708911",
   "metadata": {},
   "outputs": [
    {
     "data": {
      "text/plain": [
       "wave\n",
       "14.1    3709\n",
       "15.1    3503\n",
       "16.1    3500\n",
       "Name: count, dtype: int64"
      ]
     },
     "execution_count": 8,
     "metadata": {},
     "output_type": "execute_result"
    }
   ],
   "source": [
    "df['wave'].value_counts().sort_index()"
   ]
  },
  {
   "cell_type": "code",
   "execution_count": 9,
   "id": "b0c9359f-8e1d-44f9-986b-ecd34a3b603e",
   "metadata": {},
   "outputs": [],
   "source": [
    "df['wave'] = df['wave'].astype(int)"
   ]
  },
  {
   "cell_type": "code",
   "execution_count": 10,
   "id": "cd76ac65-9d7f-41e5-b4be-b48b20e10d0c",
   "metadata": {},
   "outputs": [
    {
     "data": {
      "text/plain": [
       "wave\n",
       "14    3709\n",
       "15    3503\n",
       "16    3500\n",
       "Name: count, dtype: int64"
      ]
     },
     "execution_count": 10,
     "metadata": {},
     "output_type": "execute_result"
    }
   ],
   "source": [
    "df['wave'].value_counts().sort_index()"
   ]
  },
  {
   "cell_type": "code",
   "execution_count": 11,
   "id": "124ecd92-0fe6-4125-b903-388dea87e558",
   "metadata": {},
   "outputs": [],
   "source": [
    "df = df[df['wave'].isin([12, 13, 14, 15, 16, 17])]"
   ]
  },
  {
   "cell_type": "code",
   "execution_count": 12,
   "id": "58d784fd-be0d-4738-aa3c-66e73713a9b2",
   "metadata": {},
   "outputs": [
    {
     "data": {
      "text/plain": [
       "wave\n",
       "14    3709\n",
       "15    3503\n",
       "16    3500\n",
       "Name: count, dtype: int64"
      ]
     },
     "execution_count": 12,
     "metadata": {},
     "output_type": "execute_result"
    }
   ],
   "source": [
    "df['wave'].value_counts().sort_index()"
   ]
  },
  {
   "cell_type": "code",
   "execution_count": 13,
   "id": "17956beb-c475-4bfc-a1fa-732d614f2029",
   "metadata": {},
   "outputs": [
    {
     "data": {
      "text/plain": [
       "(10712, 89)"
      ]
     },
     "execution_count": 13,
     "metadata": {},
     "output_type": "execute_result"
    }
   ],
   "source": [
    "df.shape"
   ]
  },
  {
   "cell_type": "code",
   "execution_count": 14,
   "id": "752def57-a98a-4bee-bedb-148fb3e25d84",
   "metadata": {},
   "outputs": [
    {
     "data": {
      "text/html": [
       "<div>\n",
       "<style scoped>\n",
       "    .dataframe tbody tr th:only-of-type {\n",
       "        vertical-align: middle;\n",
       "    }\n",
       "\n",
       "    .dataframe tbody tr th {\n",
       "        vertical-align: top;\n",
       "    }\n",
       "\n",
       "    .dataframe thead th {\n",
       "        text-align: right;\n",
       "    }\n",
       "</style>\n",
       "<table border=\"1\" class=\"dataframe\">\n",
       "  <thead>\n",
       "    <tr style=\"text-align: right;\">\n",
       "      <th></th>\n",
       "      <th>wave</th>\n",
       "      <th>INCOME_1</th>\n",
       "      <th>INCOME_2</th>\n",
       "      <th>INCOME_3</th>\n",
       "      <th>INCOME_4</th>\n",
       "      <th>INCOME_5</th>\n",
       "      <th>INCOME_6</th>\n",
       "      <th>INCOME_7</th>\n",
       "      <th>WP16</th>\n",
       "      <th>WP18</th>\n",
       "      <th>...</th>\n",
       "      <th>WP2319</th>\n",
       "      <th>WP4657</th>\n",
       "      <th>WP9042</th>\n",
       "      <th>WP9048</th>\n",
       "      <th>WP17625</th>\n",
       "      <th>WP17626</th>\n",
       "      <th>WP16056</th>\n",
       "      <th>WP15862</th>\n",
       "      <th>WP19544</th>\n",
       "      <th>WP3117</th>\n",
       "    </tr>\n",
       "  </thead>\n",
       "  <tbody>\n",
       "    <tr>\n",
       "      <th>2051059</th>\n",
       "      <td>14</td>\n",
       "      <td>36000.0</td>\n",
       "      <td>8966.233975</td>\n",
       "      <td>6000.0</td>\n",
       "      <td>1494.372329</td>\n",
       "      <td>1.0</td>\n",
       "      <td>NaN</td>\n",
       "      <td>3.0</td>\n",
       "      <td>7.0</td>\n",
       "      <td>98.0</td>\n",
       "      <td>...</td>\n",
       "      <td>6.0</td>\n",
       "      <td>1.0</td>\n",
       "      <td>NaN</td>\n",
       "      <td>NaN</td>\n",
       "      <td>2.0</td>\n",
       "      <td>1.0</td>\n",
       "      <td>1.0</td>\n",
       "      <td>1.0</td>\n",
       "      <td>1.0</td>\n",
       "      <td>2.0</td>\n",
       "    </tr>\n",
       "    <tr>\n",
       "      <th>2051060</th>\n",
       "      <td>14</td>\n",
       "      <td>120000.0</td>\n",
       "      <td>29887.446582</td>\n",
       "      <td>30000.0</td>\n",
       "      <td>7471.861645</td>\n",
       "      <td>4.0</td>\n",
       "      <td>NaN</td>\n",
       "      <td>1.0</td>\n",
       "      <td>1.0</td>\n",
       "      <td>1.0</td>\n",
       "      <td>...</td>\n",
       "      <td>2.0</td>\n",
       "      <td>1.0</td>\n",
       "      <td>NaN</td>\n",
       "      <td>NaN</td>\n",
       "      <td>2.0</td>\n",
       "      <td>1.0</td>\n",
       "      <td>1.0</td>\n",
       "      <td>1.0</td>\n",
       "      <td>1.0</td>\n",
       "      <td>3.0</td>\n",
       "    </tr>\n",
       "    <tr>\n",
       "      <th>2051061</th>\n",
       "      <td>14</td>\n",
       "      <td>216000.0</td>\n",
       "      <td>53797.403847</td>\n",
       "      <td>54000.0</td>\n",
       "      <td>13449.350962</td>\n",
       "      <td>5.0</td>\n",
       "      <td>NaN</td>\n",
       "      <td>3.0</td>\n",
       "      <td>4.0</td>\n",
       "      <td>5.0</td>\n",
       "      <td>...</td>\n",
       "      <td>2.0</td>\n",
       "      <td>1.0</td>\n",
       "      <td>NaN</td>\n",
       "      <td>NaN</td>\n",
       "      <td>2.0</td>\n",
       "      <td>1.0</td>\n",
       "      <td>2.0</td>\n",
       "      <td>NaN</td>\n",
       "      <td>2.0</td>\n",
       "      <td>1.0</td>\n",
       "    </tr>\n",
       "    <tr>\n",
       "      <th>2051062</th>\n",
       "      <td>14</td>\n",
       "      <td>72000.0</td>\n",
       "      <td>17932.467949</td>\n",
       "      <td>14400.0</td>\n",
       "      <td>3586.493590</td>\n",
       "      <td>2.0</td>\n",
       "      <td>NaN</td>\n",
       "      <td>3.0</td>\n",
       "      <td>6.0</td>\n",
       "      <td>6.0</td>\n",
       "      <td>...</td>\n",
       "      <td>2.0</td>\n",
       "      <td>1.0</td>\n",
       "      <td>NaN</td>\n",
       "      <td>NaN</td>\n",
       "      <td>2.0</td>\n",
       "      <td>1.0</td>\n",
       "      <td>1.0</td>\n",
       "      <td>1.0</td>\n",
       "      <td>1.0</td>\n",
       "      <td>3.0</td>\n",
       "    </tr>\n",
       "    <tr>\n",
       "      <th>2051063</th>\n",
       "      <td>14</td>\n",
       "      <td>9600.0</td>\n",
       "      <td>2390.995727</td>\n",
       "      <td>2400.0</td>\n",
       "      <td>597.748932</td>\n",
       "      <td>1.0</td>\n",
       "      <td>NaN</td>\n",
       "      <td>3.0</td>\n",
       "      <td>4.0</td>\n",
       "      <td>4.0</td>\n",
       "      <td>...</td>\n",
       "      <td>3.0</td>\n",
       "      <td>1.0</td>\n",
       "      <td>NaN</td>\n",
       "      <td>NaN</td>\n",
       "      <td>1.0</td>\n",
       "      <td>1.0</td>\n",
       "      <td>1.0</td>\n",
       "      <td>1.0</td>\n",
       "      <td>1.0</td>\n",
       "      <td>2.0</td>\n",
       "    </tr>\n",
       "  </tbody>\n",
       "</table>\n",
       "<p>5 rows × 89 columns</p>\n",
       "</div>"
      ],
      "text/plain": [
       "         wave  INCOME_1      INCOME_2  INCOME_3      INCOME_4  INCOME_5  \\\n",
       "2051059    14   36000.0   8966.233975    6000.0   1494.372329       1.0   \n",
       "2051060    14  120000.0  29887.446582   30000.0   7471.861645       4.0   \n",
       "2051061    14  216000.0  53797.403847   54000.0  13449.350962       5.0   \n",
       "2051062    14   72000.0  17932.467949   14400.0   3586.493590       2.0   \n",
       "2051063    14    9600.0   2390.995727    2400.0    597.748932       1.0   \n",
       "\n",
       "         INCOME_6  INCOME_7  WP16  WP18  ...  WP2319  WP4657  WP9042  WP9048  \\\n",
       "2051059       NaN       3.0   7.0  98.0  ...     6.0     1.0     NaN     NaN   \n",
       "2051060       NaN       1.0   1.0   1.0  ...     2.0     1.0     NaN     NaN   \n",
       "2051061       NaN       3.0   4.0   5.0  ...     2.0     1.0     NaN     NaN   \n",
       "2051062       NaN       3.0   6.0   6.0  ...     2.0     1.0     NaN     NaN   \n",
       "2051063       NaN       3.0   4.0   4.0  ...     3.0     1.0     NaN     NaN   \n",
       "\n",
       "         WP17625  WP17626  WP16056  WP15862  WP19544  WP3117  \n",
       "2051059      2.0      1.0      1.0      1.0      1.0     2.0  \n",
       "2051060      2.0      1.0      1.0      1.0      1.0     3.0  \n",
       "2051061      2.0      1.0      2.0      NaN      2.0     1.0  \n",
       "2051062      2.0      1.0      1.0      1.0      1.0     3.0  \n",
       "2051063      1.0      1.0      1.0      1.0      1.0     2.0  \n",
       "\n",
       "[5 rows x 89 columns]"
      ]
     },
     "execution_count": 14,
     "metadata": {},
     "output_type": "execute_result"
    }
   ],
   "source": [
    "df.head()"
   ]
  },
  {
   "cell_type": "code",
   "execution_count": 15,
   "id": "b2856757-f70f-4d8d-879f-aaf14d5f85a6",
   "metadata": {},
   "outputs": [],
   "source": [
    "variable_list.append('wave')"
   ]
  },
  {
   "cell_type": "markdown",
   "id": "9386c52d-d2bf-4e84-94c3-6d4bff4f0c28",
   "metadata": {},
   "source": [
    "### Washing item by item"
   ]
  },
  {
   "cell_type": "markdown",
   "id": "aee5c543-b733-41f2-b6e6-e3d24a968da2",
   "metadata": {},
   "source": [
    "#### INCOME_2"
   ]
  },
  {
   "cell_type": "code",
   "execution_count": 16,
   "id": "e490f922-ba1b-49cb-8fc4-06d1ede5efc9",
   "metadata": {},
   "outputs": [
    {
     "data": {
      "text/plain": [
       "np.int64(0)"
      ]
     },
     "execution_count": 16,
     "metadata": {},
     "output_type": "execute_result"
    }
   ],
   "source": [
    "df['INCOME_2'].isna().sum()"
   ]
  },
  {
   "cell_type": "code",
   "execution_count": 17,
   "id": "fa435a16-025d-4111-89cf-31a1da73d0b6",
   "metadata": {},
   "outputs": [
    {
     "data": {
      "text/plain": [
       "2051059     8966.233975\n",
       "2051060    29887.446582\n",
       "2051061    53797.403847\n",
       "2051062    17932.467949\n",
       "2051063     2390.995727\n",
       "Name: INCOME_2, dtype: float64"
      ]
     },
     "execution_count": 17,
     "metadata": {},
     "output_type": "execute_result"
    }
   ],
   "source": [
    "df['INCOME_2'].head()"
   ]
  },
  {
   "cell_type": "code",
   "execution_count": 18,
   "id": "1dfd3c07-fd24-4d46-9b96-40596d06ed34",
   "metadata": {},
   "outputs": [],
   "source": [
    "variable_list.append('INCOME_2')"
   ]
  },
  {
   "cell_type": "code",
   "execution_count": 19,
   "id": "02ca39e8-23b0-4420-b2e9-f2ec741c00b9",
   "metadata": {},
   "outputs": [],
   "source": [
    "code = 'INCOME_5'\n",
    "name = 'Income_level'"
   ]
  },
  {
   "cell_type": "code",
   "execution_count": 20,
   "id": "d7126916-5ddd-4b6f-ac7f-b14479d96bf4",
   "metadata": {},
   "outputs": [],
   "source": [
    "df[name] = df[code]"
   ]
  },
  {
   "cell_type": "code",
   "execution_count": 21,
   "id": "1d979a8c-a11b-4567-ac6f-939186ac9608",
   "metadata": {},
   "outputs": [
    {
     "name": "stdout",
     "output_type": "stream",
     "text": [
      "INCOME_5\n",
      "1.0    1842\n",
      "2.0    1963\n",
      "3.0    2076\n",
      "4.0    2322\n",
      "5.0    2509\n",
      "Name: count, dtype: int64\n"
     ]
    }
   ],
   "source": [
    "print(df[code].value_counts(dropna=False).sort_index())"
   ]
  },
  {
   "cell_type": "code",
   "execution_count": null,
   "id": "7da7752b-de89-4d17-a1ae-460f8b8b12af",
   "metadata": {},
   "outputs": [],
   "source": []
  },
  {
   "cell_type": "code",
   "execution_count": null,
   "id": "372bb159-17f0-46df-b428-cc2ac3b300a8",
   "metadata": {},
   "outputs": [],
   "source": []
  },
  {
   "cell_type": "markdown",
   "id": "c0837d5e-be57-4264-8f8f-179ed2ec5af9",
   "metadata": {},
   "source": [
    "#### WP16 Cantril_ladder"
   ]
  },
  {
   "cell_type": "markdown",
   "id": "5bac4ec2-e855-40f8-8251-4968341f3ce0",
   "metadata": {},
   "source": [
    "drop 98 99 to NaN"
   ]
  },
  {
   "cell_type": "code",
   "execution_count": 22,
   "id": "cbe721df-41a4-436e-a438-d3a811b4c912",
   "metadata": {},
   "outputs": [],
   "source": [
    "df['Cantril_ladder'] = df['WP16']"
   ]
  },
  {
   "cell_type": "code",
   "execution_count": 23,
   "id": "efd8e933-e9ae-472c-8b3d-eee37842793c",
   "metadata": {
    "scrolled": true
   },
   "outputs": [
    {
     "data": {
      "text/plain": [
       "Cantril_ladder\n",
       "0.0      378\n",
       "1.0      228\n",
       "2.0      332\n",
       "3.0      678\n",
       "4.0      859\n",
       "5.0     2750\n",
       "6.0     1709\n",
       "7.0     1299\n",
       "8.0     1153\n",
       "9.0      316\n",
       "10.0     758\n",
       "98.0     237\n",
       "99.0      15\n",
       "Name: count, dtype: int64"
      ]
     },
     "execution_count": 23,
     "metadata": {},
     "output_type": "execute_result"
    }
   ],
   "source": [
    "df['Cantril_ladder'].value_counts(dropna=False).sort_index()"
   ]
  },
  {
   "cell_type": "code",
   "execution_count": 24,
   "id": "d89908f6-baaf-4066-9ae5-951ea0458842",
   "metadata": {},
   "outputs": [],
   "source": [
    "df = df[df['Cantril_ladder'] < 11]\n"
   ]
  },
  {
   "cell_type": "code",
   "execution_count": 25,
   "id": "098a160c-f000-4235-80b5-ee460e4814cc",
   "metadata": {
    "scrolled": true
   },
   "outputs": [
    {
     "data": {
      "text/plain": [
       "Cantril_ladder\n",
       "0.0      378\n",
       "1.0      228\n",
       "2.0      332\n",
       "3.0      678\n",
       "4.0      859\n",
       "5.0     2750\n",
       "6.0     1709\n",
       "7.0     1299\n",
       "8.0     1153\n",
       "9.0      316\n",
       "10.0     758\n",
       "Name: count, dtype: int64"
      ]
     },
     "execution_count": 25,
     "metadata": {},
     "output_type": "execute_result"
    }
   ],
   "source": [
    "df['Cantril_ladder'].value_counts(dropna=False).sort_index()"
   ]
  },
  {
   "cell_type": "code",
   "execution_count": 26,
   "id": "37de109d-8000-4b97-8588-450103ef8b39",
   "metadata": {},
   "outputs": [
    {
     "data": {
      "text/plain": [
       "(10460, 91)"
      ]
     },
     "execution_count": 26,
     "metadata": {},
     "output_type": "execute_result"
    }
   ],
   "source": [
    "df.shape"
   ]
  },
  {
   "cell_type": "code",
   "execution_count": 27,
   "id": "4f715f7d-dd88-49c2-8085-04dbc50bf237",
   "metadata": {},
   "outputs": [],
   "source": [
    "variable_list.append('Cantril_ladder')"
   ]
  },
  {
   "cell_type": "code",
   "execution_count": null,
   "id": "e4fd8ab7-efb3-4046-b5bf-eb015ff0ef96",
   "metadata": {},
   "outputs": [],
   "source": []
  },
  {
   "cell_type": "markdown",
   "id": "a7b9010e-bf7f-4f41-be0d-2bda663b9626",
   "metadata": {},
   "source": [
    "#### WP18"
   ]
  },
  {
   "cell_type": "code",
   "execution_count": 28,
   "id": "1ca8e0e2-0090-4078-a4e1-fa332b83451d",
   "metadata": {},
   "outputs": [
    {
     "data": {
      "text/plain": [
       "WP18\n",
       "0.0      140\n",
       "1.0       91\n",
       "2.0      191\n",
       "3.0      368\n",
       "4.0      355\n",
       "5.0     1209\n",
       "6.0     1263\n",
       "7.0     1700\n",
       "8.0     2058\n",
       "9.0      899\n",
       "10.0    1157\n",
       "98.0    1013\n",
       "99.0      16\n",
       "Name: count, dtype: int64"
      ]
     },
     "execution_count": 28,
     "metadata": {},
     "output_type": "execute_result"
    }
   ],
   "source": [
    "df['WP18'].value_counts(dropna=False).sort_index()"
   ]
  },
  {
   "cell_type": "markdown",
   "id": "1b7a7254-5844-4667-8abb-3a077a4f0b1c",
   "metadata": {},
   "source": [
    "**Do not use**"
   ]
  },
  {
   "cell_type": "markdown",
   "id": "afb02012-22c7-4335-91ba-e9b1ef5fbbef",
   "metadata": {},
   "source": [
    "#### WP23 Health_disable"
   ]
  },
  {
   "cell_type": "markdown",
   "id": "c563f096-f22b-4a19-8b54-91d061863da7",
   "metadata": {},
   "source": [
    "drop 3 4 to NaN"
   ]
  },
  {
   "cell_type": "code",
   "execution_count": 29,
   "id": "4e422ef0-6027-47f3-aa42-ddaef3b389eb",
   "metadata": {},
   "outputs": [
    {
     "data": {
      "text/plain": [
       "WP23\n",
       "1.0    1253\n",
       "2.0    9153\n",
       "3.0      52\n",
       "4.0       2\n",
       "Name: count, dtype: int64"
      ]
     },
     "execution_count": 29,
     "metadata": {},
     "output_type": "execute_result"
    }
   ],
   "source": [
    "df['WP23'].value_counts(dropna=False).sort_index()"
   ]
  },
  {
   "cell_type": "code",
   "execution_count": 30,
   "id": "d54113a1-ad50-4780-b7cf-eb2e0e35795d",
   "metadata": {},
   "outputs": [],
   "source": [
    "df['Health_disable'] = df['WP23']"
   ]
  },
  {
   "cell_type": "code",
   "execution_count": 31,
   "id": "7e140a31-45be-434a-bae6-16e70e9122c5",
   "metadata": {},
   "outputs": [],
   "source": [
    "df = df[df['Health_disable'] < 3] "
   ]
  },
  {
   "cell_type": "code",
   "execution_count": 32,
   "id": "2e1df8f8-0c71-4382-90c3-d9b07a06e188",
   "metadata": {},
   "outputs": [
    {
     "data": {
      "text/plain": [
       "Health_disable\n",
       "1.0    1253\n",
       "2.0    9153\n",
       "Name: count, dtype: int64"
      ]
     },
     "execution_count": 32,
     "metadata": {},
     "output_type": "execute_result"
    }
   ],
   "source": [
    "df['Health_disable'].value_counts(dropna=False).sort_index()"
   ]
  },
  {
   "cell_type": "code",
   "execution_count": 33,
   "id": "ee006596-7250-454d-b56f-733193f00e62",
   "metadata": {},
   "outputs": [],
   "source": [
    "df['Health_disable'] = np.abs(df['Health_disable']-2)"
   ]
  },
  {
   "cell_type": "code",
   "execution_count": 34,
   "id": "cca4a62b-edc4-4a32-b409-e306e76234f3",
   "metadata": {},
   "outputs": [
    {
     "data": {
      "text/plain": [
       "Health_disable\n",
       "0.0    9153\n",
       "1.0    1253\n",
       "Name: count, dtype: int64"
      ]
     },
     "execution_count": 34,
     "metadata": {},
     "output_type": "execute_result"
    }
   ],
   "source": [
    "df['Health_disable'].value_counts(dropna=False).sort_index()"
   ]
  },
  {
   "cell_type": "code",
   "execution_count": 35,
   "id": "9ac726f5-fbfc-44d6-95de-0cd95761ccd4",
   "metadata": {},
   "outputs": [],
   "source": [
    "variable_list.append('Health_disable')"
   ]
  },
  {
   "cell_type": "markdown",
   "id": "1c165dc5-e04e-481c-a88b-10b53aca4118",
   "metadata": {},
   "source": [
    "#### WP27 Relative_have"
   ]
  },
  {
   "cell_type": "markdown",
   "id": "a011fe62-88d0-4038-8d1a-510c086ab096",
   "metadata": {},
   "source": [
    "drop 3 4 to 2"
   ]
  },
  {
   "cell_type": "code",
   "execution_count": 36,
   "id": "b8926949-a8a1-40cb-b0bc-c1b7391fba99",
   "metadata": {},
   "outputs": [
    {
     "data": {
      "text/plain": [
       "WP27\n",
       "1.0    8724\n",
       "2.0    1506\n",
       "3.0     163\n",
       "4.0      13\n",
       "Name: count, dtype: int64"
      ]
     },
     "execution_count": 36,
     "metadata": {},
     "output_type": "execute_result"
    }
   ],
   "source": [
    "df['WP27'].value_counts(dropna=False).sort_index()"
   ]
  },
  {
   "cell_type": "code",
   "execution_count": 37,
   "id": "c3baf572-9854-4519-b059-9a1bff8fd6ac",
   "metadata": {},
   "outputs": [],
   "source": [
    "df['Relative_have'] = df['WP27']"
   ]
  },
  {
   "cell_type": "code",
   "execution_count": 38,
   "id": "362fddb8-cf63-4e8c-b6c1-9f8a311c1738",
   "metadata": {},
   "outputs": [],
   "source": [
    "df['Relative_have'] = df['Relative_have'].fillna(2)"
   ]
  },
  {
   "cell_type": "code",
   "execution_count": 39,
   "id": "f6c24167-992d-451f-9fa5-4f7c564235fc",
   "metadata": {},
   "outputs": [],
   "source": [
    "df.loc[df['Relative_have'].isin([3, 4]), 'Relative_have'] = 2"
   ]
  },
  {
   "cell_type": "code",
   "execution_count": 40,
   "id": "64a131e1-a569-4307-ac50-d0f321438a9e",
   "metadata": {},
   "outputs": [
    {
     "data": {
      "text/plain": [
       "Relative_have\n",
       "1.0    8724\n",
       "2.0    1682\n",
       "Name: count, dtype: int64"
      ]
     },
     "execution_count": 40,
     "metadata": {},
     "output_type": "execute_result"
    }
   ],
   "source": [
    "df['Relative_have'].value_counts(dropna=False).sort_index()"
   ]
  },
  {
   "cell_type": "code",
   "execution_count": 41,
   "id": "9b293aab-7148-4789-bc26-74684e8c6f24",
   "metadata": {},
   "outputs": [],
   "source": [
    "df['Relative_have'] = np.abs(df['Relative_have']-2)"
   ]
  },
  {
   "cell_type": "code",
   "execution_count": 42,
   "id": "4d92ef35-47ff-4bcc-8c42-da961f386283",
   "metadata": {},
   "outputs": [
    {
     "data": {
      "text/plain": [
       "Relative_have\n",
       "0.0    1682\n",
       "1.0    8724\n",
       "Name: count, dtype: int64"
      ]
     },
     "execution_count": 42,
     "metadata": {},
     "output_type": "execute_result"
    }
   ],
   "source": [
    "df['Relative_have'].value_counts(dropna=False).sort_index()"
   ]
  },
  {
   "cell_type": "code",
   "execution_count": 43,
   "id": "4570e027-7d0f-4bc1-b293-588e320b7a3c",
   "metadata": {},
   "outputs": [],
   "source": [
    "variable_list.append('Relative_have')"
   ]
  },
  {
   "cell_type": "markdown",
   "id": "01933696-f6b0-4817-a499-6b908cb092b0",
   "metadata": {},
   "source": [
    "#### WP30 Life_satisfaction"
   ]
  },
  {
   "cell_type": "markdown",
   "id": "08161b3c-1321-40b7-9358-1d3b7afd067b",
   "metadata": {},
   "source": [
    "drop 3 4 to 2"
   ]
  },
  {
   "cell_type": "code",
   "execution_count": 44,
   "id": "67430042-729e-446a-a8c4-bd41accba636",
   "metadata": {},
   "outputs": [
    {
     "data": {
      "text/plain": [
       "WP30\n",
       "1.0    8525\n",
       "2.0    1673\n",
       "3.0     190\n",
       "4.0      18\n",
       "Name: count, dtype: int64"
      ]
     },
     "execution_count": 44,
     "metadata": {},
     "output_type": "execute_result"
    }
   ],
   "source": [
    "df['WP30'].value_counts(dropna=False).sort_index()"
   ]
  },
  {
   "cell_type": "code",
   "execution_count": 45,
   "id": "56dcfabf-6e8f-4320-a26a-ff04aec12bc3",
   "metadata": {},
   "outputs": [],
   "source": [
    "df['Life_satisfaction'] = df['WP30']"
   ]
  },
  {
   "cell_type": "code",
   "execution_count": 46,
   "id": "df54f25b-adb0-4e18-a9c6-6ca5ebf82209",
   "metadata": {},
   "outputs": [],
   "source": [
    "df['Life_satisfaction'] = df['Life_satisfaction'].fillna(2)"
   ]
  },
  {
   "cell_type": "code",
   "execution_count": 47,
   "id": "5be59e4e-2e51-44b4-ba27-c91c02f8db55",
   "metadata": {},
   "outputs": [],
   "source": [
    "df.loc[df['Life_satisfaction'].isin([3, 4]), 'Life_satisfaction'] = 2"
   ]
  },
  {
   "cell_type": "code",
   "execution_count": 48,
   "id": "6e3d6bf5-df23-483b-8b23-10b6f2c2fee0",
   "metadata": {},
   "outputs": [
    {
     "data": {
      "text/plain": [
       "Life_satisfaction\n",
       "1.0    8525\n",
       "2.0    1881\n",
       "Name: count, dtype: int64"
      ]
     },
     "execution_count": 48,
     "metadata": {},
     "output_type": "execute_result"
    }
   ],
   "source": [
    "df['Life_satisfaction'].value_counts(dropna=False).sort_index()"
   ]
  },
  {
   "cell_type": "code",
   "execution_count": 49,
   "id": "4494a38f-e77f-47be-8ffb-9043c6e2fd99",
   "metadata": {},
   "outputs": [],
   "source": [
    "df['Life_satisfaction'] = np.abs(df['Life_satisfaction']-2)"
   ]
  },
  {
   "cell_type": "code",
   "execution_count": 50,
   "id": "6c1d2db9-ab1e-4f82-83f5-f036541135c8",
   "metadata": {},
   "outputs": [
    {
     "data": {
      "text/plain": [
       "Life_satisfaction\n",
       "0.0    1881\n",
       "1.0    8525\n",
       "Name: count, dtype: int64"
      ]
     },
     "execution_count": 50,
     "metadata": {},
     "output_type": "execute_result"
    }
   ],
   "source": [
    "df['Life_satisfaction'].value_counts(dropna=False).sort_index()"
   ]
  },
  {
   "cell_type": "code",
   "execution_count": 51,
   "id": "5e944544-5bc2-4805-988d-2672631f3233",
   "metadata": {},
   "outputs": [],
   "source": [
    "variable_list.append('Life_satisfaction')"
   ]
  },
  {
   "cell_type": "markdown",
   "id": "73aba7ee-dedc-4e71-ba66-708b63fe7837",
   "metadata": {},
   "source": [
    "#### WP31 Living_standard_trend"
   ]
  },
  {
   "cell_type": "markdown",
   "id": "cb0f6295-e99a-482d-abed-2850cd53461b",
   "metadata": {},
   "source": [
    "drop 4 5 to 2"
   ]
  },
  {
   "cell_type": "code",
   "execution_count": 52,
   "id": "f7dfd0ec-40a3-40cf-bf83-aceb7658ddb7",
   "metadata": {},
   "outputs": [
    {
     "data": {
      "text/plain": [
       "WP31\n",
       "1.0    8519\n",
       "2.0     988\n",
       "3.0     799\n",
       "4.0      95\n",
       "5.0       5\n",
       "Name: count, dtype: int64"
      ]
     },
     "execution_count": 52,
     "metadata": {},
     "output_type": "execute_result"
    }
   ],
   "source": [
    "df['WP31'].value_counts(dropna=False).sort_index()"
   ]
  },
  {
   "cell_type": "code",
   "execution_count": 53,
   "id": "0fad22d5-5bd6-4b78-803c-267872c55b20",
   "metadata": {},
   "outputs": [],
   "source": [
    "df['Living_standard_trend'] = df['WP31']"
   ]
  },
  {
   "cell_type": "code",
   "execution_count": 54,
   "id": "0eec6092-831c-4cca-9bb0-2133c60dc828",
   "metadata": {},
   "outputs": [],
   "source": [
    "df['Living_standard_trend'] = df['Living_standard_trend'].fillna(2)"
   ]
  },
  {
   "cell_type": "code",
   "execution_count": 55,
   "id": "7c2c0c81-e40c-4ae6-a551-b9892808e1dd",
   "metadata": {},
   "outputs": [],
   "source": [
    "df.loc[df['Living_standard_trend'].isin([4, 5]), 'Living_standard_trend'] = 2"
   ]
  },
  {
   "cell_type": "code",
   "execution_count": 56,
   "id": "bb4300b2-46b3-449b-80a3-ea85b21f4c41",
   "metadata": {},
   "outputs": [
    {
     "data": {
      "text/plain": [
       "Living_standard_trend\n",
       "1.0    8519\n",
       "2.0    1088\n",
       "3.0     799\n",
       "Name: count, dtype: int64"
      ]
     },
     "execution_count": 56,
     "metadata": {},
     "output_type": "execute_result"
    }
   ],
   "source": [
    "df['Living_standard_trend'].value_counts(dropna=False).sort_index()"
   ]
  },
  {
   "cell_type": "code",
   "execution_count": 57,
   "id": "e3a5db94-25b9-437a-ab34-3405babe4086",
   "metadata": {},
   "outputs": [],
   "source": [
    "df['Living_standard_trend'] = -(df['Living_standard_trend'] - 2)"
   ]
  },
  {
   "cell_type": "code",
   "execution_count": 58,
   "id": "b622648a-765c-455b-95ac-b53989b8e80c",
   "metadata": {},
   "outputs": [
    {
     "data": {
      "text/plain": [
       "Living_standard_trend\n",
       "-1.0     799\n",
       "-0.0    1088\n",
       " 1.0    8519\n",
       "Name: count, dtype: int64"
      ]
     },
     "execution_count": 58,
     "metadata": {},
     "output_type": "execute_result"
    }
   ],
   "source": [
    "df['Living_standard_trend'].value_counts(dropna=False).sort_index()"
   ]
  },
  {
   "cell_type": "code",
   "execution_count": 59,
   "id": "01f68de3-eb8a-4e75-af55-8a8b98f67b39",
   "metadata": {},
   "outputs": [],
   "source": [
    "variable_list.append('Living_standard_trend')"
   ]
  },
  {
   "cell_type": "markdown",
   "id": "0b842ec3-77d4-4029-b88c-f725b78cb728",
   "metadata": {},
   "source": [
    "#### WP40 WP43 Enough_food Enough_shelter"
   ]
  },
  {
   "cell_type": "markdown",
   "id": "e80c4778-a8e7-4099-b717-3463e155f0b9",
   "metadata": {},
   "source": [
    "drop 3 4 to 2"
   ]
  },
  {
   "cell_type": "code",
   "execution_count": 60,
   "id": "8f8392b0-d139-4231-b490-55284cdab448",
   "metadata": {},
   "outputs": [],
   "source": [
    "name_list = ['Enough_food', 'Enough_shelter']"
   ]
  },
  {
   "cell_type": "code",
   "execution_count": 61,
   "id": "7791a469-c21f-49ab-8c82-cfced25f495f",
   "metadata": {},
   "outputs": [],
   "source": [
    "df['Enough_food'] = df['WP40']\n",
    "df['Enough_shelter'] = df['WP43']"
   ]
  },
  {
   "cell_type": "code",
   "execution_count": 62,
   "id": "ad498063-c355-4299-b0ec-fad26a2e1f5b",
   "metadata": {},
   "outputs": [
    {
     "data": {
      "text/plain": [
       "Enough_food\n",
       "1.0    1439\n",
       "2.0    8924\n",
       "3.0      39\n",
       "4.0       4\n",
       "Name: count, dtype: int64"
      ]
     },
     "execution_count": 62,
     "metadata": {},
     "output_type": "execute_result"
    }
   ],
   "source": [
    "df['Enough_food'].value_counts(dropna=False).sort_index()"
   ]
  },
  {
   "cell_type": "code",
   "execution_count": 63,
   "id": "7de41e9e-8bc3-46c4-9088-5ab4fa4c1657",
   "metadata": {},
   "outputs": [],
   "source": [
    "df['Enough_food'] = df['Enough_food'].fillna(2)\n",
    "df['Enough_shelter'] = df['Enough_shelter'].fillna(2)"
   ]
  },
  {
   "cell_type": "code",
   "execution_count": 64,
   "id": "2a933848-68da-4873-af08-1d2f6f50863a",
   "metadata": {},
   "outputs": [
    {
     "data": {
      "text/plain": [
       "Enough_shelter\n",
       "1.0    1645\n",
       "2.0    8684\n",
       "3.0      67\n",
       "4.0      10\n",
       "Name: count, dtype: int64"
      ]
     },
     "execution_count": 64,
     "metadata": {},
     "output_type": "execute_result"
    }
   ],
   "source": [
    "df['Enough_shelter'].value_counts(dropna=False).sort_index()"
   ]
  },
  {
   "cell_type": "code",
   "execution_count": 65,
   "id": "b9fa8763-59ab-4c65-9466-e0ad9e6f1ac4",
   "metadata": {},
   "outputs": [],
   "source": [
    "columns_to_replace = ['Enough_food', 'Enough_shelter']\n",
    "\n",
    "for column in columns_to_replace:\n",
    "    df.loc[df[column].isin([3, 4]), column] = 2"
   ]
  },
  {
   "cell_type": "code",
   "execution_count": 66,
   "id": "28ae8d05-f341-4ef8-afee-f924d24d1037",
   "metadata": {},
   "outputs": [],
   "source": [
    "df['Enough_food'] = np.abs(df['Enough_food']-2)      "
   ]
  },
  {
   "cell_type": "code",
   "execution_count": 67,
   "id": "c74f1bea-c6d8-40c5-a96a-e6ca0859b739",
   "metadata": {},
   "outputs": [],
   "source": [
    "df['Enough_shelter'] = np.abs(df['Enough_shelter']-2)  "
   ]
  },
  {
   "cell_type": "code",
   "execution_count": 68,
   "id": "20cb2747-f5b6-4fcc-be82-240c5a563618",
   "metadata": {},
   "outputs": [
    {
     "data": {
      "text/plain": [
       "Enough_food\n",
       "0.0    8967\n",
       "1.0    1439\n",
       "Name: count, dtype: int64"
      ]
     },
     "execution_count": 68,
     "metadata": {},
     "output_type": "execute_result"
    }
   ],
   "source": [
    "df['Enough_food'].value_counts(dropna=False).sort_index()    "
   ]
  },
  {
   "cell_type": "code",
   "execution_count": 69,
   "id": "3068777d-373d-4e8f-b79b-febbe2dfc1a8",
   "metadata": {},
   "outputs": [
    {
     "data": {
      "text/plain": [
       "Enough_shelter\n",
       "0.0    8761\n",
       "1.0    1645\n",
       "Name: count, dtype: int64"
      ]
     },
     "execution_count": 69,
     "metadata": {},
     "output_type": "execute_result"
    }
   ],
   "source": [
    "df['Enough_shelter'].value_counts(dropna=False).sort_index()"
   ]
  },
  {
   "cell_type": "code",
   "execution_count": 70,
   "id": "41f0bff0-f3f0-461b-afee-f23114daf0c4",
   "metadata": {},
   "outputs": [],
   "source": [
    "variable_list = variable_list + name_list"
   ]
  },
  {
   "cell_type": "markdown",
   "id": "62ac491b-d8f3-4fdc-aeb6-429abb185865",
   "metadata": {},
   "source": [
    "#### WP60, WP61, WP63, WP65  Well_rested, Respected, Smile, Interesting_thing"
   ]
  },
  {
   "cell_type": "markdown",
   "id": "87dd4e5d-80da-4887-825f-01492f942244",
   "metadata": {},
   "source": [
    "drop 3 4 to 2"
   ]
  },
  {
   "cell_type": "code",
   "execution_count": 71,
   "id": "3b205bb2-f670-4220-bff2-5d2583e093be",
   "metadata": {},
   "outputs": [],
   "source": [
    "name_list = [\"Well_rested\", \"Respected\", \"Smile\", \"Interesting_thing\"]"
   ]
  },
  {
   "cell_type": "code",
   "execution_count": 72,
   "id": "8aaf93ff-e175-4880-b9d2-3c0545a48b4f",
   "metadata": {},
   "outputs": [],
   "source": [
    "code_list = [\"WP60\", \"WP61\", \"WP63\", \"WP65\"]"
   ]
  },
  {
   "cell_type": "code",
   "execution_count": 73,
   "id": "9b3eb0e4-6743-4cdd-b212-8000e1142b62",
   "metadata": {},
   "outputs": [
    {
     "name": "stdout",
     "output_type": "stream",
     "text": [
      "WP60\n",
      "1.0    8599\n",
      "2.0    1750\n",
      "3.0      44\n",
      "4.0      13\n",
      "Name: count, dtype: int64\n",
      "Well_rested\n",
      "0.0    1807\n",
      "1.0    8599\n",
      "Name: count, dtype: int64\n",
      "WP61\n",
      "1.0    9432\n",
      "2.0     694\n",
      "3.0     255\n",
      "4.0      25\n",
      "Name: count, dtype: int64\n",
      "Respected\n",
      "0.0     974\n",
      "1.0    9432\n",
      "Name: count, dtype: int64\n",
      "WP63\n",
      "1.0    8195\n",
      "2.0    2023\n",
      "3.0     171\n",
      "4.0      17\n",
      "Name: count, dtype: int64\n",
      "Smile\n",
      "0.0    2211\n",
      "1.0    8195\n",
      "Name: count, dtype: int64\n",
      "WP65\n",
      "1.0    4992\n",
      "2.0    5275\n",
      "3.0     123\n",
      "4.0      16\n",
      "Name: count, dtype: int64\n",
      "Interesting_thing\n",
      "0.0    5414\n",
      "1.0    4992\n",
      "Name: count, dtype: int64\n"
     ]
    }
   ],
   "source": [
    "for code, name in zip(code_list, name_list):\n",
    "    print(df[code].value_counts(dropna=False).sort_index())\n",
    "    df[name] = df[code]\n",
    "    df[name] = df[name].fillna(2)\n",
    "    df.loc[df[name].isin([3, 4]), name] = 2\n",
    "    df[name] = np.abs(df[name]-2) \n",
    "    print(df[name].value_counts(dropna=False).sort_index())"
   ]
  },
  {
   "cell_type": "code",
   "execution_count": 74,
   "id": "10d381e1-fc27-40c3-be1a-4a61f355d8a8",
   "metadata": {},
   "outputs": [],
   "source": [
    "variable_list = variable_list + name_list"
   ]
  },
  {
   "cell_type": "markdown",
   "id": "96b0fa86-2bbf-4147-a489-cd80fed89607",
   "metadata": {},
   "source": [
    "#### WP67, WP68, WP69, WP70, WP71, WP74  Enjoyment, Physical_pain, Worry, Sadness, Stress, Anger"
   ]
  },
  {
   "cell_type": "markdown",
   "id": "c8482426-15c0-4542-bbfb-d77fba17a49a",
   "metadata": {},
   "source": [
    "drop 3 4 to 2"
   ]
  },
  {
   "cell_type": "code",
   "execution_count": 75,
   "id": "a92a6ce5-5c99-48eb-a75a-7fc04f89a0a1",
   "metadata": {},
   "outputs": [],
   "source": [
    "name_list = [\"Enjoyment\", \"Physical_pain\", \"Worry\", \"Sadness\", \"Stress\", \"Anger\"]"
   ]
  },
  {
   "cell_type": "code",
   "execution_count": 76,
   "id": "90dc8326-70eb-4bf0-8dc6-20dec5f70419",
   "metadata": {},
   "outputs": [],
   "source": [
    "code_list = [\"WP67\", \"WP68\", \"WP69\", \"WP70\", \"WP71\", \"WP74\"]"
   ]
  },
  {
   "cell_type": "code",
   "execution_count": 77,
   "id": "ea6c9d0e-ac1f-403c-9e56-0bfea9483345",
   "metadata": {},
   "outputs": [
    {
     "name": "stdout",
     "output_type": "stream",
     "text": [
      "WP67\n",
      "1.0    8905\n",
      "2.0    1428\n",
      "3.0      69\n",
      "4.0       4\n",
      "Name: count, dtype: int64\n",
      "Enjoyment\n",
      "0.0    1501\n",
      "1.0    8905\n",
      "Name: count, dtype: int64\n",
      "WP68\n",
      "1.0    1709\n",
      "2.0    8681\n",
      "3.0      12\n",
      "4.0       4\n",
      "Name: count, dtype: int64\n",
      "Physical_pain\n",
      "0.0    8697\n",
      "1.0    1709\n",
      "Name: count, dtype: int64\n",
      "WP69\n",
      "1.0    3277\n",
      "2.0    7099\n",
      "3.0      27\n",
      "4.0       3\n",
      "Name: count, dtype: int64\n",
      "Worry\n",
      "0.0    7129\n",
      "1.0    3277\n",
      "Name: count, dtype: int64\n",
      "WP70\n",
      "1.0    1322\n",
      "2.0    9055\n",
      "3.0      27\n",
      "4.0       2\n",
      "Name: count, dtype: int64\n",
      "Sadness\n",
      "0.0    9084\n",
      "1.0    1322\n",
      "Name: count, dtype: int64\n",
      "WP71\n",
      "1.0    4874\n",
      "2.0    5507\n",
      "3.0      21\n",
      "4.0       4\n",
      "Name: count, dtype: int64\n",
      "Stress\n",
      "0.0    5532\n",
      "1.0    4874\n",
      "Name: count, dtype: int64\n",
      "WP74\n",
      "1.0    1771\n",
      "2.0    8612\n",
      "3.0      19\n",
      "4.0       4\n",
      "Name: count, dtype: int64\n",
      "Anger\n",
      "0.0    8635\n",
      "1.0    1771\n",
      "Name: count, dtype: int64\n"
     ]
    }
   ],
   "source": [
    "for code, name in zip(code_list, name_list):\n",
    "    print(df[code].value_counts(dropna=False).sort_index())\n",
    "    df[name] = df[code]\n",
    "    df[name] = df[name].fillna(2)\n",
    "    df.loc[df[name].isin([3, 4]), name] = 2\n",
    "    df[name] = np.abs(df[name]-2) \n",
    "    print(df[name].value_counts(dropna=False).sort_index())"
   ]
  },
  {
   "cell_type": "code",
   "execution_count": 78,
   "id": "af104ea9-5b7b-470d-a062-504ef5f1dddb",
   "metadata": {},
   "outputs": [],
   "source": [
    "variable_list = variable_list + name_list"
   ]
  },
  {
   "cell_type": "code",
   "execution_count": null,
   "id": "65b8241c-a948-4a2c-ada3-4d5f5175097f",
   "metadata": {},
   "outputs": [],
   "source": []
  },
  {
   "cell_type": "markdown",
   "id": "1f6f6047-557c-4538-a689-ce8c959a7794",
   "metadata": {},
   "source": [
    "#### WP83 City_satisfaction"
   ]
  },
  {
   "cell_type": "markdown",
   "id": "55b52fe8-3cae-4470-83a2-125d48947bac",
   "metadata": {},
   "source": [
    "drop 3 4 to 2"
   ]
  },
  {
   "cell_type": "code",
   "execution_count": 79,
   "id": "ee6be5bd-0bdb-43a3-bda9-d80301f8e92a",
   "metadata": {},
   "outputs": [],
   "source": [
    "code = 'WP83'\n",
    "name = 'City_satisfaction'"
   ]
  },
  {
   "cell_type": "code",
   "execution_count": 80,
   "id": "89f43d3a-eb37-4c88-9bbe-770a98ec1f2f",
   "metadata": {},
   "outputs": [
    {
     "name": "stdout",
     "output_type": "stream",
     "text": [
      "WP83\n",
      "1.0    9112\n",
      "2.0    1144\n",
      "3.0     140\n",
      "4.0      10\n",
      "Name: count, dtype: int64\n",
      "City_satisfaction\n",
      "0.0    1294\n",
      "1.0    9112\n",
      "Name: count, dtype: int64\n"
     ]
    }
   ],
   "source": [
    "print(df[code].value_counts().sort_index())\n",
    "df[name] = df[code]\n",
    "df[name] = df[name].fillna(2)\n",
    "df.loc[df[name] > 1, name] = 0\n",
    "print(df[name].value_counts().sort_index())"
   ]
  },
  {
   "cell_type": "code",
   "execution_count": 81,
   "id": "f3950638-c688-4600-afda-687e7fd517d0",
   "metadata": {},
   "outputs": [],
   "source": [
    "variable_list.append(name)"
   ]
  },
  {
   "cell_type": "code",
   "execution_count": null,
   "id": "c4b255bb-2229-45be-9330-72ee167f027b",
   "metadata": {},
   "outputs": [],
   "source": []
  },
  {
   "cell_type": "markdown",
   "id": "ed4cd88e-6d84-4ff3-8615-29a5315bd9ae",
   "metadata": {},
   "source": [
    "#### **WP85 "
   ]
  },
  {
   "cell_type": "markdown",
   "id": "c052f5a7-7241-4ace-b690-258ea577e7c5",
   "metadata": {},
   "source": [
    "Move_place drop 3 4 to 2"
   ]
  },
  {
   "cell_type": "code",
   "execution_count": 82,
   "id": "34963000-5b1b-47c8-9162-8eb05450bf93",
   "metadata": {},
   "outputs": [],
   "source": [
    "#code = 'WP85'"
   ]
  },
  {
   "cell_type": "code",
   "execution_count": 83,
   "id": "0aad701b-a64a-443e-b339-e27573db00e2",
   "metadata": {},
   "outputs": [],
   "source": [
    "#name = 'Move_place'"
   ]
  },
  {
   "cell_type": "code",
   "execution_count": 84,
   "id": "d15fb0bd-294c-45ca-a976-00635721175b",
   "metadata": {
    "scrolled": true
   },
   "outputs": [],
   "source": [
    "#print(df[code].value_counts(dropna=False).sort_index())\n",
    "#df[name] = df[code]\n",
    "#df[name] = df[name].fillna(2)\n",
    "#df.loc[df[name] > 1, name] = 0\n",
    "#print(df[name].value_counts().sort_index())"
   ]
  },
  {
   "cell_type": "code",
   "execution_count": 85,
   "id": "4acba949-47d2-422e-87c6-e444259d8975",
   "metadata": {},
   "outputs": [],
   "source": [
    "#variable_list.append(name)"
   ]
  },
  {
   "cell_type": "markdown",
   "id": "2fafe6ac-428e-4c67-b51f-23cf31d1a00b",
   "metadata": {},
   "source": [
    "**To be determined**"
   ]
  },
  {
   "cell_type": "markdown",
   "id": "e9afeb0a-d77e-494d-8dc8-cb6fb649556d",
   "metadata": {},
   "source": [
    "#### WP86 Recommended_live_place"
   ]
  },
  {
   "cell_type": "markdown",
   "id": "befa1550-aa4e-4b2c-953e-fd55e98a4a02",
   "metadata": {},
   "source": [
    "drop 3 4 to 2"
   ]
  },
  {
   "cell_type": "code",
   "execution_count": 86,
   "id": "862b88ea-1cf6-4e09-a0d3-f3e8f3512e96",
   "metadata": {},
   "outputs": [],
   "source": [
    "code = 'WP86'\n",
    "name = 'Recommended_live_place'"
   ]
  },
  {
   "cell_type": "code",
   "execution_count": 87,
   "id": "f32fb707-cda1-4256-8edb-6e98873d0724",
   "metadata": {},
   "outputs": [
    {
     "name": "stdout",
     "output_type": "stream",
     "text": [
      "WP86\n",
      "1.0    5253\n",
      "2.0    4790\n",
      "3.0     345\n",
      "4.0      18\n",
      "Name: count, dtype: int64\n",
      "Recommended_live_place\n",
      "0.0    5153\n",
      "1.0    5253\n",
      "Name: count, dtype: int64\n"
     ]
    }
   ],
   "source": [
    "print(df[code].value_counts(dropna=False).sort_index())\n",
    "df[name] = df[code]\n",
    "df[name] = df[name].fillna(2)\n",
    "df.loc[df[name] > 1, name] = 0\n",
    "print(df[name].value_counts(dropna=False).sort_index())"
   ]
  },
  {
   "cell_type": "code",
   "execution_count": 88,
   "id": "e5225529-77af-470d-989f-0254f2f11783",
   "metadata": {},
   "outputs": [],
   "source": [
    "variable_list.append(name)"
   ]
  },
  {
   "cell_type": "markdown",
   "id": "25a818c5-b055-4bb5-9c43-f3b7a6503c19",
   "metadata": {},
   "source": [
    "#### WP19472 Economic_rating"
   ]
  },
  {
   "cell_type": "markdown",
   "id": "a1dd4b56-ec3f-44bf-9d5a-0b4913140407",
   "metadata": {},
   "source": [
    "Drop nan 8 9 to 2"
   ]
  },
  {
   "cell_type": "code",
   "execution_count": 89,
   "id": "97473e8d-193e-4874-aa50-72ba153f548d",
   "metadata": {},
   "outputs": [],
   "source": [
    "code = 'WP19472'\n",
    "name = 'Economic_rating'"
   ]
  },
  {
   "cell_type": "code",
   "execution_count": 90,
   "id": "d8ae7817-47d7-4fe2-8dce-8206051973cc",
   "metadata": {},
   "outputs": [
    {
     "name": "stdout",
     "output_type": "stream",
     "text": [
      "WP19472\n",
      "1.0     941\n",
      "2.0    5089\n",
      "3.0    2669\n",
      "4.0    1588\n",
      "8.0     117\n",
      "9.0       2\n",
      "Name: count, dtype: int64\n"
     ]
    }
   ],
   "source": [
    "print(df[code].value_counts(dropna=False).sort_index())"
   ]
  },
  {
   "cell_type": "code",
   "execution_count": 91,
   "id": "97514733-2007-4c9e-9483-fe3206a272d2",
   "metadata": {},
   "outputs": [
    {
     "name": "stdout",
     "output_type": "stream",
     "text": [
      "Economic_rating\n",
      "1.0     941\n",
      "2.0    5208\n",
      "3.0    2669\n",
      "4.0    1588\n",
      "Name: count, dtype: int64\n"
     ]
    }
   ],
   "source": [
    "df[name] = df[code]\n",
    "df[name] = df[name].fillna(2)\n",
    "df.loc[df[name].isin([8, 9]), name] = 2\n",
    "print(df[name].value_counts(dropna=False).sort_index())"
   ]
  },
  {
   "cell_type": "code",
   "execution_count": 92,
   "id": "29eb27bd-b345-4817-a82c-52dce4c6c525",
   "metadata": {},
   "outputs": [],
   "source": [
    "variable_list.append(name)"
   ]
  },
  {
   "cell_type": "markdown",
   "id": "8aabc400-f3d3-47be-93fa-475d9a1bb06d",
   "metadata": {},
   "source": [
    "#### WP88 Economy_trend"
   ]
  },
  {
   "cell_type": "markdown",
   "id": "26bb9032-0c65-47f3-af30-06278cee16f3",
   "metadata": {},
   "source": [
    "Drop nan 4 5 to 2"
   ]
  },
  {
   "cell_type": "code",
   "execution_count": 93,
   "id": "3dbd6072-60cd-47f2-8294-261dc85fc80c",
   "metadata": {},
   "outputs": [],
   "source": [
    "code = 'WP88'\n",
    "name = 'Economic_trend'"
   ]
  },
  {
   "cell_type": "code",
   "execution_count": 94,
   "id": "a17c265c-9f97-4a9a-b266-37b07bde235c",
   "metadata": {},
   "outputs": [
    {
     "name": "stdout",
     "output_type": "stream",
     "text": [
      "WP88\n",
      "1.0    8471\n",
      "2.0     672\n",
      "3.0     931\n",
      "4.0     325\n",
      "5.0       7\n",
      "Name: count, dtype: int64\n"
     ]
    }
   ],
   "source": [
    "print(df[code].value_counts(dropna=False).sort_index())"
   ]
  },
  {
   "cell_type": "code",
   "execution_count": 95,
   "id": "467a3a05-e897-4291-aa98-556605655237",
   "metadata": {},
   "outputs": [
    {
     "name": "stdout",
     "output_type": "stream",
     "text": [
      "Economic_trend\n",
      "-1.0     931\n",
      "-0.0    1004\n",
      " 1.0    8471\n",
      "Name: count, dtype: int64\n"
     ]
    }
   ],
   "source": [
    "df[name] = df[code]\n",
    "df[name] = df[name].fillna(2)\n",
    "df.loc[df[name].isin([4, 5]), name] = 2\n",
    "df[name] = -(df[name] - 2)\n",
    "print(df[name].value_counts(dropna=False).sort_index())"
   ]
  },
  {
   "cell_type": "code",
   "execution_count": 96,
   "id": "acbec3c3-cf8c-4044-87f5-51363b067afc",
   "metadata": {},
   "outputs": [],
   "source": [
    "variable_list.append(name)"
   ]
  },
  {
   "cell_type": "markdown",
   "id": "48c6f8e5-482b-43d0-b0ed-deb2639cc5db",
   "metadata": {},
   "source": [
    "#### WP89 Local_job_outlook"
   ]
  },
  {
   "cell_type": "markdown",
   "id": "9436b49b-a6cc-4f18-865d-ec575481cd60",
   "metadata": {},
   "source": [
    "Drop nan 3 4 to 2"
   ]
  },
  {
   "cell_type": "code",
   "execution_count": 97,
   "id": "c5eb6b8d-f154-4e36-a4b4-34f651193fb2",
   "metadata": {},
   "outputs": [],
   "source": [
    "code = 'WP89'\n",
    "name = 'Local_job_outlook'"
   ]
  },
  {
   "cell_type": "code",
   "execution_count": 98,
   "id": "1cb4d521-daf9-4e07-9cd3-b3e42841a711",
   "metadata": {},
   "outputs": [
    {
     "name": "stdout",
     "output_type": "stream",
     "text": [
      "WP89\n",
      "1.0    3287\n",
      "2.0    2716\n",
      "3.0     914\n",
      "4.0       6\n",
      "NaN    3483\n",
      "Name: count, dtype: int64\n",
      "Local_job_outlook\n",
      "0.0    7119\n",
      "1.0    3287\n",
      "Name: count, dtype: int64\n"
     ]
    }
   ],
   "source": [
    "print(df[code].value_counts(dropna=False).sort_index())\n",
    "df[name] = df[code]\n",
    "df[name] = df[name].fillna(2)\n",
    "df.loc[df[name] > 1, name] = 0\n",
    "print(df[name].value_counts(dropna=False).sort_index())"
   ]
  },
  {
   "cell_type": "code",
   "execution_count": 99,
   "id": "9dd5506b-577d-4308-98e8-af68722a382d",
   "metadata": {},
   "outputs": [],
   "source": [
    "variable_list.append(name)"
   ]
  },
  {
   "cell_type": "markdown",
   "id": "c74c6eb2-befd-4664-8150-823101197dd9",
   "metadata": {},
   "source": [
    "#### WP91, WP92, WP93, WP94, WP95, WP97. WP98, WP10248 -> Satisfied_pubtran, Satisfied_road, Satisfied_edu, Satisfied_qualityair, Satisfied_qualitywater, Satisfied_healthcare, Satisfied_affhouse, Satisfied_makefriend"
   ]
  },
  {
   "cell_type": "markdown",
   "id": "398e0845-63af-428d-9de2-74a33f181664",
   "metadata": {},
   "source": [
    "Drop nan 3 4 to 2"
   ]
  },
  {
   "cell_type": "code",
   "execution_count": 100,
   "id": "21a9070a-a576-47cc-8090-51a94075caad",
   "metadata": {},
   "outputs": [],
   "source": [
    "name_list = ['Satisfied_pubtran', 'Satisfied_road', 'Satisfied_edu', 'Satisfied_qualityair', 'Satisfied_qualitywater', 'Satisfied_healthcare', 'Satisfied_affhouse', 'Satisfied_oppofriend']"
   ]
  },
  {
   "cell_type": "code",
   "execution_count": 101,
   "id": "b88dd842-17f1-4cea-b99b-5c05ea58a386",
   "metadata": {},
   "outputs": [],
   "source": [
    "code_list = ['WP91', 'WP92', 'WP93', 'WP94', 'WP95', 'WP97', 'WP98', 'WP10248']"
   ]
  },
  {
   "cell_type": "code",
   "execution_count": 102,
   "id": "7b7223f8-c104-4b64-9cdb-09b31fbdc46d",
   "metadata": {},
   "outputs": [
    {
     "name": "stdout",
     "output_type": "stream",
     "text": [
      "WP91\n",
      "1.0    8599\n",
      "2.0    1601\n",
      "3.0     196\n",
      "4.0      10\n",
      "Name: count, dtype: int64\n",
      "Satisfied_pubtran\n",
      "0.0    1807\n",
      "1.0    8599\n",
      "Name: count, dtype: int64\n",
      "WP92\n",
      "1.0    8997\n",
      "2.0    1015\n",
      "3.0     386\n",
      "4.0       8\n",
      "Name: count, dtype: int64\n",
      "Satisfied_road\n",
      "0.0    1409\n",
      "1.0    8997\n",
      "Name: count, dtype: int64\n",
      "WP93\n",
      "1.0    7654\n",
      "2.0    1961\n",
      "3.0     773\n",
      "4.0      18\n",
      "Name: count, dtype: int64\n",
      "Satisfied_edu\n",
      "0.0    2752\n",
      "1.0    7654\n",
      "Name: count, dtype: int64\n",
      "WP94\n",
      "1.0    8269\n",
      "2.0    1989\n",
      "3.0     140\n",
      "4.0       8\n",
      "Name: count, dtype: int64\n",
      "Satisfied_qualityair\n",
      "0.0    2137\n",
      "1.0    8269\n",
      "Name: count, dtype: int64\n",
      "WP95\n",
      "1.0    8052\n",
      "2.0    2173\n",
      "3.0     179\n",
      "4.0       2\n",
      "Name: count, dtype: int64\n",
      "Satisfied_qualitywater\n",
      "0.0    2354\n",
      "1.0    8052\n",
      "Name: count, dtype: int64\n",
      "WP97\n",
      "1.0    7898\n",
      "2.0    1985\n",
      "3.0     512\n",
      "4.0      11\n",
      "Name: count, dtype: int64\n",
      "Satisfied_healthcare\n",
      "0.0    2508\n",
      "1.0    7898\n",
      "Name: count, dtype: int64\n",
      "WP98\n",
      "1.0    7569\n",
      "2.0    2240\n",
      "3.0     571\n",
      "4.0      26\n",
      "Name: count, dtype: int64\n",
      "Satisfied_affhouse\n",
      "0.0    2837\n",
      "1.0    7569\n",
      "Name: count, dtype: int64\n",
      "WP10248\n",
      "1.0    9143\n",
      "2.0     953\n",
      "3.0     287\n",
      "4.0      23\n",
      "Name: count, dtype: int64\n",
      "Satisfied_oppofriend\n",
      "0.0    1263\n",
      "1.0    9143\n",
      "Name: count, dtype: int64\n"
     ]
    }
   ],
   "source": [
    "for code, name in zip(code_list, name_list):\n",
    "    print(df[code].value_counts(dropna=False).sort_index())\n",
    "    df[name] = df[code]\n",
    "    df[name] = df[name].fillna(2)\n",
    "    df.loc[df[name] > 1, name] = 0\n",
    "    print(df[name].value_counts(dropna=False).sort_index())"
   ]
  },
  {
   "cell_type": "code",
   "execution_count": 103,
   "id": "198315de-3266-4b9b-8b1b-0772b6c17038",
   "metadata": {},
   "outputs": [],
   "source": [
    "variable_list = variable_list + name_list"
   ]
  },
  {
   "cell_type": "markdown",
   "id": "9acd4557-2db0-4e52-9558-8ff1c392a53c",
   "metadata": {},
   "source": [
    "#### WP103, WP105, WP106 -> Good_minorities, Good_homo, Good_immigrants"
   ]
  },
  {
   "cell_type": "markdown",
   "id": "8008ef14-441d-475a-9778-6e57ea8ba895",
   "metadata": {},
   "source": [
    "Drop nan 3 4 to 2"
   ]
  },
  {
   "cell_type": "code",
   "execution_count": 104,
   "id": "7c54a969-8754-4373-9565-fdb0f5e810d9",
   "metadata": {},
   "outputs": [],
   "source": [
    "name_list = ['Good_minorities', 'Good_homo', 'Good_immigrants']"
   ]
  },
  {
   "cell_type": "code",
   "execution_count": 105,
   "id": "b888113a-e5a4-48d9-b1b6-4f82624a7f85",
   "metadata": {},
   "outputs": [],
   "source": [
    "code_list = ['WP103', 'WP105', 'WP106']"
   ]
  },
  {
   "cell_type": "code",
   "execution_count": 106,
   "id": "fb947b62-33d0-4f26-8eb1-3356ae0dfa43",
   "metadata": {
    "scrolled": true
   },
   "outputs": [
    {
     "name": "stdout",
     "output_type": "stream",
     "text": [
      "WP103\n",
      "1.0    4383\n",
      "2.0    1617\n",
      "3.0     918\n",
      "4.0       5\n",
      "NaN    3483\n",
      "Name: count, dtype: int64\n",
      "Good_minorities\n",
      "0.0    6023\n",
      "1.0    4383\n",
      "Name: count, dtype: int64\n",
      "WP105\n",
      "1.0    3609\n",
      "2.0    4300\n",
      "3.0    2435\n",
      "4.0      62\n",
      "Name: count, dtype: int64\n",
      "Good_homo\n",
      "0.0    6797\n",
      "1.0    3609\n",
      "Name: count, dtype: int64\n",
      "WP106\n",
      "1.0    6391\n",
      "2.0    2663\n",
      "3.0    1329\n",
      "4.0      23\n",
      "Name: count, dtype: int64\n",
      "Good_immigrants\n",
      "0.0    4015\n",
      "1.0    6391\n",
      "Name: count, dtype: int64\n"
     ]
    }
   ],
   "source": [
    "for code, name in zip(code_list, name_list):\n",
    "    print(df[code].value_counts(dropna=False).sort_index())\n",
    "    df[name] = df[code]\n",
    "    df[name] = df[name].fillna(2)\n",
    "    df.loc[df[name] > 1, name] = 0\n",
    "    print(df[name].value_counts(dropna=False).sort_index())"
   ]
  },
  {
   "cell_type": "code",
   "execution_count": 107,
   "id": "d5ae6cfa-7bd9-4e34-be6e-00fe48089c71",
   "metadata": {},
   "outputs": [],
   "source": [
    "variable_list = variable_list + name_list"
   ]
  },
  {
   "cell_type": "markdown",
   "id": "78a10fa3-c1ec-4f10-995e-742bfa0b8650",
   "metadata": {},
   "source": [
    "#### WP108, WP109, WP110, WP111 -> Donated, Volunteer, Help_stranger, Voice_official"
   ]
  },
  {
   "cell_type": "markdown",
   "id": "dde36327-a11d-4e0e-9e6b-b97920a104da",
   "metadata": {},
   "source": [
    "Drop nan 3 4 to 2"
   ]
  },
  {
   "cell_type": "code",
   "execution_count": 108,
   "id": "fd466da5-a8aa-46a4-a0cd-ba6c5d5583dc",
   "metadata": {},
   "outputs": [],
   "source": [
    "name_list = ['Donated', 'Volunteer', 'Help_stranger', 'Voice_official']"
   ]
  },
  {
   "cell_type": "code",
   "execution_count": 109,
   "id": "c81b3c9b-71ee-49b4-996a-b54ae279a307",
   "metadata": {},
   "outputs": [],
   "source": [
    "code_list = ['WP108', 'WP109', 'WP110', 'WP111']"
   ]
  },
  {
   "cell_type": "code",
   "execution_count": 110,
   "id": "4a7ea1d1-fc2d-4634-b7eb-0a92dc1707c1",
   "metadata": {},
   "outputs": [
    {
     "name": "stdout",
     "output_type": "stream",
     "text": [
      "WP108\n",
      "1.0    2636\n",
      "2.0    7735\n",
      "3.0      29\n",
      "4.0       6\n",
      "Name: count, dtype: int64\n",
      "Donated\n",
      "0.0    7770\n",
      "1.0    2636\n",
      "Name: count, dtype: int64\n",
      "WP109\n",
      "1.0    2033\n",
      "2.0    8315\n",
      "3.0      57\n",
      "4.0       1\n",
      "Name: count, dtype: int64\n",
      "Volunteer\n",
      "0.0    8373\n",
      "1.0    2033\n",
      "Name: count, dtype: int64\n",
      "WP110\n",
      "1.0    5296\n",
      "2.0    5070\n",
      "3.0      37\n",
      "4.0       3\n",
      "Name: count, dtype: int64\n",
      "Help_stranger\n",
      "0.0    5110\n",
      "1.0    5296\n",
      "Name: count, dtype: int64\n",
      "WP111\n",
      "1.0    1004\n",
      "2.0    9327\n",
      "3.0      67\n",
      "4.0       8\n",
      "Name: count, dtype: int64\n",
      "Voice_official\n",
      "0.0    9402\n",
      "1.0    1004\n",
      "Name: count, dtype: int64\n"
     ]
    }
   ],
   "source": [
    "for code, name in zip(code_list, name_list):\n",
    "    print(df[code].value_counts(dropna=False).sort_index())\n",
    "    df[name] = df[code]\n",
    "    df[name] = df[name].fillna(2)\n",
    "    df.loc[df[name] > 1, name] = 0\n",
    "    print(df[name].value_counts(dropna=False).sort_index())"
   ]
  },
  {
   "cell_type": "code",
   "execution_count": 111,
   "id": "f4b6782f-00db-4db9-ac71-f8570b025a49",
   "metadata": {},
   "outputs": [],
   "source": [
    "variable_list = variable_list + name_list"
   ]
  },
  {
   "cell_type": "markdown",
   "id": "938cb92c-56f1-4a9c-b0d4-de6cb9d3787d",
   "metadata": {},
   "source": [
    "#### WP112, WP113, WP117, WP118 -> Local_police_confidence, Safety_walk, Stolen, Assualted"
   ]
  },
  {
   "cell_type": "markdown",
   "id": "d1e45531-7c95-412e-b868-cb57888ce9e3",
   "metadata": {},
   "source": [
    "Drop nan 3 4 to 2"
   ]
  },
  {
   "cell_type": "code",
   "execution_count": 112,
   "id": "4892ba37-3916-4bf7-942d-b45488dc1ffb",
   "metadata": {},
   "outputs": [],
   "source": [
    "name_list = ['Local_police_confidence', 'Safety_walk', 'Stolen', 'Assualted']"
   ]
  },
  {
   "cell_type": "code",
   "execution_count": 113,
   "id": "ae7dcfc2-1c06-4000-b098-6571e8fabe53",
   "metadata": {},
   "outputs": [],
   "source": [
    "code_list = ['WP112', 'WP113', 'WP117', 'WP118']"
   ]
  },
  {
   "cell_type": "code",
   "execution_count": 114,
   "id": "a66ecd6b-b1db-4352-be71-3d4242608d71",
   "metadata": {},
   "outputs": [
    {
     "name": "stdout",
     "output_type": "stream",
     "text": [
      "WP112\n",
      "NaN    10406\n",
      "Name: count, dtype: int64\n",
      "Local_police_confidence\n",
      "0.0    10406\n",
      "Name: count, dtype: int64\n",
      "WP113\n",
      "1.0    9559\n",
      "2.0     701\n",
      "3.0     141\n",
      "4.0       5\n",
      "Name: count, dtype: int64\n",
      "Safety_walk\n",
      "0.0     847\n",
      "1.0    9559\n",
      "Name: count, dtype: int64\n",
      "WP117\n",
      "1.0     638\n",
      "2.0    9736\n",
      "3.0      25\n",
      "4.0       7\n",
      "Name: count, dtype: int64\n",
      "Stolen\n",
      "0.0    9768\n",
      "1.0     638\n",
      "Name: count, dtype: int64\n",
      "WP118\n",
      "1.0      266\n",
      "2.0    10118\n",
      "3.0       16\n",
      "4.0        6\n",
      "Name: count, dtype: int64\n",
      "Assualted\n",
      "0.0    10140\n",
      "1.0      266\n",
      "Name: count, dtype: int64\n"
     ]
    }
   ],
   "source": [
    "for code, name in zip(code_list, name_list):\n",
    "    print(df[code].value_counts(dropna=False).sort_index())\n",
    "    df[name] = df[code]\n",
    "    df[name] = df[name].fillna(2)\n",
    "    df.loc[df[name] > 1, name] = 0\n",
    "    print(df[name].value_counts(dropna=False).sort_index())"
   ]
  },
  {
   "cell_type": "code",
   "execution_count": 115,
   "id": "616187a3-4c10-456d-8814-d635611ee265",
   "metadata": {},
   "outputs": [],
   "source": [
    "variable_list = variable_list + name_list"
   ]
  },
  {
   "cell_type": "markdown",
   "id": "25278634-a859-40d6-8aa8-59ccf0052bcd",
   "metadata": {},
   "source": [
    "#### WP119, WP129, WP130, WP9050 -> Religion_importance, Children_respected, Children_learn, Women_respected"
   ]
  },
  {
   "cell_type": "markdown",
   "id": "9261b6d0-6bc4-457b-8b10-59557dfe4498",
   "metadata": {},
   "source": [
    "Drop nan 3 4 to 2"
   ]
  },
  {
   "cell_type": "code",
   "execution_count": 116,
   "id": "26cb1499-a051-48e1-ada2-410c9c848367",
   "metadata": {},
   "outputs": [],
   "source": [
    "name_list = ['Religion_importance', 'Children_respected', 'Children_learn', 'Women_respected']"
   ]
  },
  {
   "cell_type": "code",
   "execution_count": 117,
   "id": "4fd6a567-d89f-43fb-a927-511e1583cb41",
   "metadata": {},
   "outputs": [],
   "source": [
    "code_list = ['WP119', 'WP129', 'WP130', 'WP9050']"
   ]
  },
  {
   "cell_type": "code",
   "execution_count": 118,
   "id": "ef5888d7-868c-45de-b40c-ffa0c4e89876",
   "metadata": {},
   "outputs": [
    {
     "name": "stdout",
     "output_type": "stream",
     "text": [
      "WP119\n",
      "1.0    1507\n",
      "2.0    8697\n",
      "3.0     192\n",
      "4.0      10\n",
      "Name: count, dtype: int64\n",
      "Religion_importance\n",
      "0.0    8899\n",
      "1.0    1507\n",
      "Name: count, dtype: int64\n",
      "WP129\n",
      "1.0    9227\n",
      "2.0     822\n",
      "3.0     351\n",
      "4.0       6\n",
      "Name: count, dtype: int64\n",
      "Children_respected\n",
      "0.0    1179\n",
      "1.0    9227\n",
      "Name: count, dtype: int64\n",
      "WP130\n",
      "1.0    9710\n",
      "2.0     483\n",
      "3.0     211\n",
      "4.0       2\n",
      "Name: count, dtype: int64\n",
      "Children_learn\n",
      "0.0     696\n",
      "1.0    9710\n",
      "Name: count, dtype: int64\n",
      "WP9050\n",
      "1.0    9523\n",
      "2.0     650\n",
      "3.0     229\n",
      "4.0       4\n",
      "Name: count, dtype: int64\n",
      "Women_respected\n",
      "0.0     883\n",
      "1.0    9523\n",
      "Name: count, dtype: int64\n"
     ]
    }
   ],
   "source": [
    "for code, name in zip(code_list, name_list):\n",
    "    print(df[code].value_counts(dropna=False).sort_index())\n",
    "    df[name] = df[code]\n",
    "    df[name] = df[name].fillna(2)\n",
    "    df.loc[df[name] > 1, name] = 0\n",
    "    print(df[name].value_counts(dropna=False).sort_index())"
   ]
  },
  {
   "cell_type": "code",
   "execution_count": 119,
   "id": "adbf9fd1-eebc-4c95-a676-2d488396db3f",
   "metadata": {},
   "outputs": [],
   "source": [
    "variable_list = variable_list + name_list"
   ]
  },
  {
   "cell_type": "markdown",
   "id": "e8dd840a-bbe5-4b6a-ae18-13b08142fe74",
   "metadata": {},
   "source": [
    "#### WP131, WP132, WP134 -> Satisfied_dealpoor, Satisfied_Env_preservation, Satisfied_Personalfreedom"
   ]
  },
  {
   "cell_type": "markdown",
   "id": "590e9196-fc93-472a-87e7-c0625ae7e7b1",
   "metadata": {},
   "source": [
    "Drop nan 3 4 to 2"
   ]
  },
  {
   "cell_type": "code",
   "execution_count": 120,
   "id": "26a83eb7-e87c-470b-8e62-02693d5a77ed",
   "metadata": {},
   "outputs": [],
   "source": [
    "name_list = ['Satisfied_dealpoor', 'Satisfied_Env_preservation', 'Satisfied_Personalfreedom']"
   ]
  },
  {
   "cell_type": "code",
   "execution_count": 121,
   "id": "51b288c1-6f3a-47e9-8581-4ad9eaab21d4",
   "metadata": {},
   "outputs": [],
   "source": [
    "code_list = ['WP131', 'WP132', 'WP134']"
   ]
  },
  {
   "cell_type": "code",
   "execution_count": 122,
   "id": "b480d4e7-81c8-4eed-9455-6d8719c3040c",
   "metadata": {},
   "outputs": [
    {
     "name": "stdout",
     "output_type": "stream",
     "text": [
      "WP131\n",
      "1.0    8538\n",
      "2.0    1448\n",
      "3.0     395\n",
      "4.0      25\n",
      "Name: count, dtype: int64\n",
      "Satisfied_dealpoor\n",
      "0.0    1868\n",
      "1.0    8538\n",
      "Name: count, dtype: int64\n",
      "WP132\n",
      "1.0    8975\n",
      "2.0    1213\n",
      "3.0     209\n",
      "4.0       9\n",
      "Name: count, dtype: int64\n",
      "Satisfied_Env_preservation\n",
      "0.0    1431\n",
      "1.0    8975\n",
      "Name: count, dtype: int64\n",
      "WP134\n",
      "1.0    9110\n",
      "2.0    1131\n",
      "3.0     159\n",
      "4.0       6\n",
      "Name: count, dtype: int64\n",
      "Satisfied_Personalfreedom\n",
      "0.0    1296\n",
      "1.0    9110\n",
      "Name: count, dtype: int64\n"
     ]
    }
   ],
   "source": [
    "for code, name in zip(code_list, name_list):\n",
    "    print(df[code].value_counts(dropna=False).sort_index())\n",
    "    df[name] = df[code]\n",
    "    df[name] = df[name].fillna(2)\n",
    "    df.loc[df[name] > 1, name] = 0\n",
    "    print(df[name].value_counts(dropna=False).sort_index())"
   ]
  },
  {
   "cell_type": "code",
   "execution_count": 123,
   "id": "8fd364b4-a560-4244-8e44-7c057f663b41",
   "metadata": {},
   "outputs": [],
   "source": [
    "variable_list = variable_list + name_list"
   ]
  },
  {
   "cell_type": "markdown",
   "id": "649fccfa-8ff1-4af4-88c2-2dd8ae623825",
   "metadata": {},
   "source": [
    "#### WP137, WP138, WP139, WP141, WP144 -> Confidence_military, Confidence_judicial, Confidence_gov, Confidence_fin, Confidence_honestyelections"
   ]
  },
  {
   "cell_type": "markdown",
   "id": "0080cc12-07c8-4a44-9470-721beaeaf81a",
   "metadata": {},
   "source": [
    "Drop nan 3 4 to 2"
   ]
  },
  {
   "cell_type": "code",
   "execution_count": 124,
   "id": "44a5e899-4a8a-465d-8529-8156a9a9ea70",
   "metadata": {},
   "outputs": [],
   "source": [
    "name_list = ['Confidence_military', 'Confidence_judicial', 'Confidence_gov', 'Confidence_fin', 'Confidence_honestyelections']"
   ]
  },
  {
   "cell_type": "code",
   "execution_count": 125,
   "id": "eae0da84-4b4e-417d-a12b-b137d6ee121e",
   "metadata": {},
   "outputs": [],
   "source": [
    "code_list = ['WP137', 'WP138', 'WP139', 'WP141', 'WP144']"
   ]
  },
  {
   "cell_type": "code",
   "execution_count": 126,
   "id": "d59f8276-c1e6-4836-8d70-0dd0b6ffea09",
   "metadata": {},
   "outputs": [
    {
     "name": "stdout",
     "output_type": "stream",
     "text": [
      "WP137\n",
      "NaN    10406\n",
      "Name: count, dtype: int64\n",
      "Confidence_military\n",
      "0.0    10406\n",
      "Name: count, dtype: int64\n",
      "WP138\n",
      "NaN    10406\n",
      "Name: count, dtype: int64\n",
      "Confidence_judicial\n",
      "0.0    10406\n",
      "Name: count, dtype: int64\n",
      "WP139\n",
      "NaN    10406\n",
      "Name: count, dtype: int64\n",
      "Confidence_gov\n",
      "0.0    10406\n",
      "Name: count, dtype: int64\n",
      "WP141\n",
      "NaN    10406\n",
      "Name: count, dtype: int64\n",
      "Confidence_fin\n",
      "0.0    10406\n",
      "Name: count, dtype: int64\n",
      "WP144\n",
      "NaN    10406\n",
      "Name: count, dtype: int64\n",
      "Confidence_honestyelections\n",
      "0.0    10406\n",
      "Name: count, dtype: int64\n"
     ]
    }
   ],
   "source": [
    "for code, name in zip(code_list, name_list):\n",
    "    print(df[code].value_counts(dropna=False).sort_index())\n",
    "    df[name] = df[code]\n",
    "    df[name] = df[name].fillna(2)\n",
    "    df.loc[df[name] > 1, name] = 0\n",
    "    print(df[name].value_counts(dropna=False).sort_index())"
   ]
  },
  {
   "cell_type": "code",
   "execution_count": 127,
   "id": "dc8ae278-6bf3-4b4b-8087-65cef94a065f",
   "metadata": {},
   "outputs": [],
   "source": [
    "variable_list = variable_list + name_list"
   ]
  },
  {
   "cell_type": "markdown",
   "id": "1095c15c-9cb7-47a3-8cd2-82e148141549",
   "metadata": {},
   "source": [
    "#### WP10251, WP145, WP146, WP150 -> Freedom_media, Corruption_business, Corruption_government, Performance_leadership"
   ]
  },
  {
   "cell_type": "markdown",
   "id": "0925a995-2d10-4a89-a685-7a855f758845",
   "metadata": {},
   "source": [
    "Drop nan 3 4 to 2"
   ]
  },
  {
   "cell_type": "code",
   "execution_count": 128,
   "id": "7ffd0c77-dc4b-4217-a075-dd0432c70dfe",
   "metadata": {},
   "outputs": [],
   "source": [
    "name_list = ['Freedom_media', 'Corruption_business', 'Corruption_government', 'Performance_leadership']"
   ]
  },
  {
   "cell_type": "code",
   "execution_count": 129,
   "id": "4cec4b2f-5685-4ca4-b565-e1fe22b81e74",
   "metadata": {},
   "outputs": [],
   "source": [
    "code_list = ['WP10251', 'WP145', 'WP146', 'WP150']"
   ]
  },
  {
   "cell_type": "code",
   "execution_count": 130,
   "id": "c231c08b-6922-44cc-ac1a-e245bd15affd",
   "metadata": {},
   "outputs": [
    {
     "name": "stdout",
     "output_type": "stream",
     "text": [
      "WP10251\n",
      "NaN    10406\n",
      "Name: count, dtype: int64\n",
      "Freedom_media\n",
      "0.0    10406\n",
      "Name: count, dtype: int64\n",
      "WP145\n",
      "NaN    10406\n",
      "Name: count, dtype: int64\n",
      "Corruption_business\n",
      "0.0    10406\n",
      "Name: count, dtype: int64\n",
      "WP146\n",
      "NaN    10406\n",
      "Name: count, dtype: int64\n",
      "Corruption_government\n",
      "0.0    10406\n",
      "Name: count, dtype: int64\n",
      "WP150\n",
      "NaN    10406\n",
      "Name: count, dtype: int64\n",
      "Performance_leadership\n",
      "0.0    10406\n",
      "Name: count, dtype: int64\n"
     ]
    }
   ],
   "source": [
    "for code, name in zip(code_list, name_list):\n",
    "    print(df[code].value_counts(dropna=False).sort_index())\n",
    "    df[name] = df[code]\n",
    "    df[name] = df[name].fillna(2)\n",
    "    df.loc[df[name] > 1, name] = 0\n",
    "    print(df[name].value_counts(dropna=False).sort_index())"
   ]
  },
  {
   "cell_type": "code",
   "execution_count": 131,
   "id": "730725e8-df42-4739-9596-5651563e5ef7",
   "metadata": {},
   "outputs": [],
   "source": [
    "variable_list = variable_list + name_list"
   ]
  },
  {
   "cell_type": "markdown",
   "id": "cde5b9b4-92de-4504-ae4c-46dba4468368",
   "metadata": {},
   "source": [
    "####  WP1219 Gender_female"
   ]
  },
  {
   "cell_type": "markdown",
   "id": "7bc72d7c-ef9f-42bd-933a-593b7df48ae5",
   "metadata": {},
   "source": [
    "Use 0&1 instead of 1&2"
   ]
  },
  {
   "cell_type": "code",
   "execution_count": 132,
   "id": "a868c257-46ae-4e65-929a-bc1fcb108b2f",
   "metadata": {},
   "outputs": [],
   "source": [
    "code = 'WP1219'\n",
    "name = 'Gender_female'"
   ]
  },
  {
   "cell_type": "code",
   "execution_count": 133,
   "id": "7cec2c66-f573-4edd-ab27-d0ca34436dbd",
   "metadata": {},
   "outputs": [],
   "source": [
    "df[name] = df[code]"
   ]
  },
  {
   "cell_type": "code",
   "execution_count": 134,
   "id": "f53d0ada-d7c7-4ea4-b7b1-16c67b26bd4b",
   "metadata": {},
   "outputs": [
    {
     "name": "stdout",
     "output_type": "stream",
     "text": [
      "WP1219\n",
      "1.0    5643\n",
      "2.0    4763\n",
      "Name: count, dtype: int64\n"
     ]
    }
   ],
   "source": [
    "print(df[code].value_counts(dropna=False).sort_index())"
   ]
  },
  {
   "cell_type": "code",
   "execution_count": 135,
   "id": "587d53b5-6a15-40d9-bd6a-562dda94b832",
   "metadata": {},
   "outputs": [],
   "source": [
    "df[name] = df[name] - 1"
   ]
  },
  {
   "cell_type": "code",
   "execution_count": 136,
   "id": "3fe8bb5d-4c4e-4a5a-9e93-23ed6e39e40c",
   "metadata": {},
   "outputs": [
    {
     "name": "stdout",
     "output_type": "stream",
     "text": [
      "Gender_female\n",
      "0.0    5643\n",
      "1.0    4763\n",
      "Name: count, dtype: int64\n"
     ]
    }
   ],
   "source": [
    "print(df[name].value_counts(dropna=False).sort_index())"
   ]
  },
  {
   "cell_type": "code",
   "execution_count": 137,
   "id": "f0614416-11ab-4f82-929d-245020e82159",
   "metadata": {},
   "outputs": [],
   "source": [
    "variable_list.append(name)"
   ]
  },
  {
   "cell_type": "markdown",
   "id": "1e794f01-c028-4d8e-afd6-85abcf57cebd",
   "metadata": {},
   "source": [
    "#### WP1220  Age"
   ]
  },
  {
   "cell_type": "markdown",
   "id": "9a676a0c-7e69-458f-a5df-aab9d4b7e290",
   "metadata": {},
   "source": [
    "drop 100 to nan"
   ]
  },
  {
   "cell_type": "code",
   "execution_count": 138,
   "id": "f346bb79-f294-46b1-b1e8-da2c3d0060b8",
   "metadata": {},
   "outputs": [],
   "source": [
    "code = 'WP1220'\n",
    "name = 'Age'"
   ]
  },
  {
   "cell_type": "code",
   "execution_count": 139,
   "id": "3b8ae12f-c5c0-401f-ab15-8ab32bcc70fb",
   "metadata": {},
   "outputs": [],
   "source": [
    "df[name] = df[code]"
   ]
  },
  {
   "cell_type": "code",
   "execution_count": 140,
   "id": "76e94abc-b46e-4c9e-9517-9081551201a0",
   "metadata": {
    "scrolled": true
   },
   "outputs": [
    {
     "name": "stdout",
     "output_type": "stream",
     "text": [
      "WP1220\n",
      "15.0      82\n",
      "16.0     112\n",
      "17.0     118\n",
      "18.0     243\n",
      "19.0     177\n",
      "        ... \n",
      "86.0       5\n",
      "87.0       2\n",
      "88.0       2\n",
      "90.0       2\n",
      "100.0    132\n",
      "Name: count, Length: 76, dtype: int64\n"
     ]
    }
   ],
   "source": [
    "print(df[code].value_counts(dropna=False).sort_index())"
   ]
  },
  {
   "cell_type": "code",
   "execution_count": 141,
   "id": "0d55f441-4bae-4363-8a17-7d03b89d73b9",
   "metadata": {},
   "outputs": [],
   "source": [
    "df[name] = df[name].fillna(100)"
   ]
  },
  {
   "cell_type": "code",
   "execution_count": 142,
   "id": "cfbaad1d-acdc-46f0-9422-3ad62ae98a04",
   "metadata": {},
   "outputs": [
    {
     "data": {
      "text/plain": [
       "(10406, 149)"
      ]
     },
     "execution_count": 142,
     "metadata": {},
     "output_type": "execute_result"
    }
   ],
   "source": [
    "df.shape"
   ]
  },
  {
   "cell_type": "code",
   "execution_count": 143,
   "id": "b342d0f2-8c52-4501-aa4d-1dae0af2f57c",
   "metadata": {},
   "outputs": [],
   "source": [
    "df = df[df[name] < 100]"
   ]
  },
  {
   "cell_type": "code",
   "execution_count": 144,
   "id": "b57114e4-e738-41f0-b1b4-07010e9f1e35",
   "metadata": {},
   "outputs": [
    {
     "data": {
      "text/plain": [
       "(10274, 149)"
      ]
     },
     "execution_count": 144,
     "metadata": {},
     "output_type": "execute_result"
    }
   ],
   "source": [
    "df.shape"
   ]
  },
  {
   "cell_type": "code",
   "execution_count": 145,
   "id": "75d72149-8dbc-4e6f-adc3-a41411b75af1",
   "metadata": {},
   "outputs": [
    {
     "name": "stdout",
     "output_type": "stream",
     "text": [
      "Age\n",
      "15.0     82\n",
      "16.0    112\n",
      "17.0    118\n",
      "18.0    243\n",
      "19.0    177\n",
      "       ... \n",
      "85.0      6\n",
      "86.0      5\n",
      "87.0      2\n",
      "88.0      2\n",
      "90.0      2\n",
      "Name: count, Length: 75, dtype: int64\n"
     ]
    }
   ],
   "source": [
    "print(df[name].value_counts(dropna=False).sort_index())"
   ]
  },
  {
   "cell_type": "code",
   "execution_count": 146,
   "id": "ffabe453-0e13-4546-97be-812debe5ea7e",
   "metadata": {},
   "outputs": [],
   "source": [
    "variable_list.append(name)"
   ]
  },
  {
   "cell_type": "markdown",
   "id": "a0450568-97cf-4b11-b9e9-852905bc7d36",
   "metadata": {},
   "source": [
    "#### WP3117 Education"
   ]
  },
  {
   "cell_type": "code",
   "execution_count": 147,
   "id": "c0c58d55-0304-4efa-9594-98b5563149b6",
   "metadata": {},
   "outputs": [],
   "source": [
    "code = 'WP3117'\n",
    "name = 'Education'"
   ]
  },
  {
   "cell_type": "code",
   "execution_count": 148,
   "id": "f87a9c41-308f-4da0-97be-c231aa648cbd",
   "metadata": {},
   "outputs": [],
   "source": [
    "df[name] = df[code]"
   ]
  },
  {
   "cell_type": "code",
   "execution_count": 149,
   "id": "1282300f-fce4-4f0e-84cf-909397efb272",
   "metadata": {},
   "outputs": [
    {
     "name": "stdout",
     "output_type": "stream",
     "text": [
      "WP3117\n",
      "1.0    3803\n",
      "2.0    4087\n",
      "3.0    2348\n",
      "4.0       8\n",
      "5.0      28\n",
      "Name: count, dtype: int64\n"
     ]
    }
   ],
   "source": [
    "print(df[code].value_counts(dropna=False).sort_index())"
   ]
  },
  {
   "cell_type": "code",
   "execution_count": 150,
   "id": "be284edd-3e1f-4597-ad8b-c01c478e3500",
   "metadata": {},
   "outputs": [],
   "source": [
    "df[name] = df[name].fillna(2)  "
   ]
  },
  {
   "cell_type": "code",
   "execution_count": 151,
   "id": "b226681d-c014-4599-b24f-88db5cec0eea",
   "metadata": {},
   "outputs": [],
   "source": [
    "df.loc[df[name] > 3, name] = 2"
   ]
  },
  {
   "cell_type": "code",
   "execution_count": 152,
   "id": "42d07f82-74f1-4c6a-916b-863af9bb458e",
   "metadata": {},
   "outputs": [
    {
     "name": "stdout",
     "output_type": "stream",
     "text": [
      "Education\n",
      "1.0    3803\n",
      "2.0    4123\n",
      "3.0    2348\n",
      "Name: count, dtype: int64\n"
     ]
    }
   ],
   "source": [
    "print(df[name].value_counts(dropna=False).sort_index())"
   ]
  },
  {
   "cell_type": "code",
   "execution_count": 153,
   "id": "b9909606-8be6-4981-8ac1-e6aa1204cfcc",
   "metadata": {},
   "outputs": [],
   "source": [
    "df[name] = (df[name] - 2)"
   ]
  },
  {
   "cell_type": "code",
   "execution_count": 154,
   "id": "dca17c06-9a77-4641-8ae4-567c8384e104",
   "metadata": {},
   "outputs": [
    {
     "name": "stdout",
     "output_type": "stream",
     "text": [
      "Education\n",
      "-1.0    3803\n",
      " 0.0    4123\n",
      " 1.0    2348\n",
      "Name: count, dtype: int64\n"
     ]
    }
   ],
   "source": [
    "print(df[name].value_counts(dropna=False).sort_index())"
   ]
  },
  {
   "cell_type": "code",
   "execution_count": 155,
   "id": "29a10fe9-6b4d-4ea5-b718-e17c7c9fb80d",
   "metadata": {},
   "outputs": [],
   "source": [
    "variable_list.append(name)"
   ]
  },
  {
   "cell_type": "markdown",
   "id": "15ecbe4a-5d72-49df-aa5a-99dc496c0f1d",
   "metadata": {},
   "source": [
    "#### WP1223  Marital_status"
   ]
  },
  {
   "cell_type": "markdown",
   "id": "1dabb1f2-e0ba-48af-a879-77a6836024f3",
   "metadata": {},
   "source": [
    "drop 6 7 to nan"
   ]
  },
  {
   "cell_type": "code",
   "execution_count": 156,
   "id": "d83e8017-0e14-4a7b-b5a2-39c44a4d39e8",
   "metadata": {},
   "outputs": [],
   "source": [
    "code = 'WP1223'\n",
    "name = 'Marital_status'"
   ]
  },
  {
   "cell_type": "code",
   "execution_count": 157,
   "id": "6e560cac-1abe-4564-8472-e45a37384c5a",
   "metadata": {},
   "outputs": [],
   "source": [
    "df[name] = df[code]"
   ]
  },
  {
   "cell_type": "code",
   "execution_count": 158,
   "id": "a179585f-b44a-4107-9b71-1f559a8ef92b",
   "metadata": {},
   "outputs": [
    {
     "name": "stdout",
     "output_type": "stream",
     "text": [
      "WP1223\n",
      "1.0    1907\n",
      "2.0    4391\n",
      "3.0      55\n",
      "4.0     168\n",
      "5.0     224\n",
      "6.0       6\n",
      "7.0      21\n",
      "8.0      57\n",
      "NaN    3445\n",
      "Name: count, dtype: int64\n"
     ]
    }
   ],
   "source": [
    "print(df[code].value_counts(dropna=False).sort_index())"
   ]
  },
  {
   "cell_type": "code",
   "execution_count": 159,
   "id": "f2dc1ddd-57ee-419d-96d9-5d0a3f9b1c65",
   "metadata": {},
   "outputs": [],
   "source": [
    "df[name] = df[name].fillna(6)"
   ]
  },
  {
   "cell_type": "code",
   "execution_count": 160,
   "id": "b7f9bd8e-d3d5-46b5-97ab-0554d6d2551d",
   "metadata": {},
   "outputs": [],
   "source": [
    "df = df[df[name] != 6]\n",
    "df = df[df[name] != 7]"
   ]
  },
  {
   "cell_type": "code",
   "execution_count": 161,
   "id": "16b0ca0a-9b9b-4daa-965a-d4553cfd48d9",
   "metadata": {},
   "outputs": [
    {
     "name": "stdout",
     "output_type": "stream",
     "text": [
      "Marital_status\n",
      "1.0    1907\n",
      "2.0    4391\n",
      "3.0      55\n",
      "4.0     168\n",
      "5.0     224\n",
      "8.0      57\n",
      "Name: count, dtype: int64\n"
     ]
    }
   ],
   "source": [
    "print(df[name].value_counts(dropna=False).sort_index())"
   ]
  },
  {
   "cell_type": "code",
   "execution_count": 162,
   "id": "cf79addd-31af-4bf6-bbc1-4e5fd12f148c",
   "metadata": {},
   "outputs": [],
   "source": [
    "variable_list.append(name)"
   ]
  },
  {
   "cell_type": "markdown",
   "id": "802b9529-6373-4e69-9d3c-5a5a8391ec40",
   "metadata": {},
   "source": [
    "#### EMP_2010 Employment"
   ]
  },
  {
   "cell_type": "code",
   "execution_count": 163,
   "id": "7d8d5add-ffaf-48f7-b187-55a7908a8465",
   "metadata": {},
   "outputs": [],
   "source": [
    "code = 'EMP_2010'\n",
    "name = 'Employment'"
   ]
  },
  {
   "cell_type": "code",
   "execution_count": 164,
   "id": "3c187968-3ef5-41fa-a8ee-a28cf5a6a1e2",
   "metadata": {},
   "outputs": [],
   "source": [
    "df[name] = df[code]"
   ]
  },
  {
   "cell_type": "code",
   "execution_count": 165,
   "id": "20a702bd-e99e-4ab5-8ac3-b4dd1403a3c9",
   "metadata": {},
   "outputs": [
    {
     "name": "stdout",
     "output_type": "stream",
     "text": [
      "EMP_2010\n",
      "1.0    2893\n",
      "2.0     946\n",
      "3.0     235\n",
      "4.0     249\n",
      "5.0     407\n",
      "6.0    2072\n",
      "Name: count, dtype: int64\n"
     ]
    }
   ],
   "source": [
    "print(df[code].value_counts(dropna=False).sort_index())"
   ]
  },
  {
   "cell_type": "code",
   "execution_count": 166,
   "id": "4e983c2b-aafa-4911-9c8b-ce65aa72f2f4",
   "metadata": {},
   "outputs": [],
   "source": [
    "df[name] = df[name].fillna(10)"
   ]
  },
  {
   "cell_type": "code",
   "execution_count": 167,
   "id": "dbda5721-2ae2-492a-a454-013ec95012e7",
   "metadata": {},
   "outputs": [
    {
     "data": {
      "text/plain": [
       "(6802, 152)"
      ]
     },
     "execution_count": 167,
     "metadata": {},
     "output_type": "execute_result"
    }
   ],
   "source": [
    "df.shape"
   ]
  },
  {
   "cell_type": "code",
   "execution_count": 168,
   "id": "406af7a4-9819-4b08-8954-8022e8a8eb53",
   "metadata": {},
   "outputs": [],
   "source": [
    "df = df[df[name] != 10]"
   ]
  },
  {
   "cell_type": "code",
   "execution_count": 169,
   "id": "0050fd57-603a-48f7-8b20-ebf8a07b54ad",
   "metadata": {},
   "outputs": [
    {
     "data": {
      "text/plain": [
       "(6802, 152)"
      ]
     },
     "execution_count": 169,
     "metadata": {},
     "output_type": "execute_result"
    }
   ],
   "source": [
    "df.shape"
   ]
  },
  {
   "cell_type": "code",
   "execution_count": 170,
   "id": "41b89473-0e69-4722-adaa-5e9d6d90c1ec",
   "metadata": {},
   "outputs": [
    {
     "name": "stdout",
     "output_type": "stream",
     "text": [
      "Employment\n",
      "1.0    2893\n",
      "2.0     946\n",
      "3.0     235\n",
      "4.0     249\n",
      "5.0     407\n",
      "6.0    2072\n",
      "Name: count, dtype: int64\n"
     ]
    }
   ],
   "source": [
    "print(df[name].value_counts(dropna=False).sort_index())"
   ]
  },
  {
   "cell_type": "code",
   "execution_count": 171,
   "id": "1b20f36b-92dd-4b05-97e1-420deb334dba",
   "metadata": {},
   "outputs": [],
   "source": [
    "variable_list.append(name)"
   ]
  },
  {
   "cell_type": "markdown",
   "id": "d9a261e6-fbda-408c-8940-dd2ee1820f37",
   "metadata": {},
   "source": [
    "#### WP1230 Children_under15"
   ]
  },
  {
   "cell_type": "markdown",
   "id": "e9cacbcc-cb2a-4913-90e7-a5897d5a2095",
   "metadata": {},
   "source": [
    "If it is greater than 10, then it is equal to 1"
   ]
  },
  {
   "cell_type": "code",
   "execution_count": 172,
   "id": "b43dee1f-24b6-4f19-b81d-8c776b30e09a",
   "metadata": {},
   "outputs": [],
   "source": [
    "code = 'WP1230'\n",
    "name = 'Children_under15'"
   ]
  },
  {
   "cell_type": "code",
   "execution_count": 173,
   "id": "6354c666-a1f2-418a-8a30-51834c118deb",
   "metadata": {},
   "outputs": [],
   "source": [
    "df[name] = df[code]"
   ]
  },
  {
   "cell_type": "code",
   "execution_count": 174,
   "id": "9625f1fb-8ba7-4197-b000-ead7a1fe4539",
   "metadata": {},
   "outputs": [
    {
     "name": "stdout",
     "output_type": "stream",
     "text": [
      "WP1230\n",
      "0.0     3793\n",
      "1.0     1773\n",
      "2.0      936\n",
      "3.0      177\n",
      "4.0       51\n",
      "5.0       21\n",
      "6.0       11\n",
      "7.0        4\n",
      "8.0        1\n",
      "9.0        1\n",
      "10.0       1\n",
      "12.0       1\n",
      "98.0      11\n",
      "99.0      21\n",
      "Name: count, dtype: int64\n"
     ]
    }
   ],
   "source": [
    "print(df[code].value_counts(dropna=False).sort_index())"
   ]
  },
  {
   "cell_type": "code",
   "execution_count": 175,
   "id": "c4873552-7f5a-4df3-99c3-4e4b3858af83",
   "metadata": {},
   "outputs": [],
   "source": [
    "df[name] = df[name].fillna(100)"
   ]
  },
  {
   "cell_type": "code",
   "execution_count": 176,
   "id": "6efc1b68-7ad4-44ba-bee5-3924e4579b83",
   "metadata": {},
   "outputs": [
    {
     "name": "stdout",
     "output_type": "stream",
     "text": [
      "Children_under15\n",
      "0.0     3793\n",
      "1.0     1773\n",
      "2.0      936\n",
      "3.0      177\n",
      "4.0       51\n",
      "5.0       21\n",
      "6.0       11\n",
      "7.0        4\n",
      "8.0        1\n",
      "9.0        1\n",
      "10.0       1\n",
      "12.0       1\n",
      "98.0      11\n",
      "99.0      21\n",
      "Name: count, dtype: int64\n"
     ]
    }
   ],
   "source": [
    "print(df[name].value_counts(dropna=False).sort_index())"
   ]
  },
  {
   "cell_type": "code",
   "execution_count": 177,
   "id": "0c3b79bd-ab93-4927-b081-b5f5975682bf",
   "metadata": {},
   "outputs": [],
   "source": [
    "df.loc[df[name] > 0, name] = 1"
   ]
  },
  {
   "cell_type": "code",
   "execution_count": 178,
   "id": "ff0219ef-fa5a-4c7c-9e73-70ca31f814ba",
   "metadata": {},
   "outputs": [
    {
     "name": "stdout",
     "output_type": "stream",
     "text": [
      "Children_under15\n",
      "0.0    3793\n",
      "1.0    3009\n",
      "Name: count, dtype: int64\n"
     ]
    }
   ],
   "source": [
    "print(df[name].value_counts(dropna=False).sort_index())"
   ]
  },
  {
   "cell_type": "code",
   "execution_count": 179,
   "id": "324d0405-b574-4c9d-b6fe-e3ce6a11d8d2",
   "metadata": {},
   "outputs": [],
   "source": [
    "variable_list.append(name)"
   ]
  },
  {
   "cell_type": "markdown",
   "id": "9223573a-da9d-49ab-8dc9-45a4cf69ceb5",
   "metadata": {},
   "source": [
    "#### WP2319 -> Feeling_income"
   ]
  },
  {
   "cell_type": "markdown",
   "id": "92f3ff64-d1d8-44de-ad1f-213ba6552f50",
   "metadata": {},
   "source": [
    "drop 5 6 to nan"
   ]
  },
  {
   "cell_type": "code",
   "execution_count": 180,
   "id": "2603de79-c967-43f0-8c2c-a5dc1eff3b7a",
   "metadata": {},
   "outputs": [],
   "source": [
    "code = 'WP2319'\n",
    "name = 'Feeling_income'"
   ]
  },
  {
   "cell_type": "code",
   "execution_count": 181,
   "id": "c175db97-8b53-4027-8f21-478d8abcd0e0",
   "metadata": {},
   "outputs": [],
   "source": [
    "df[name] = df[code]"
   ]
  },
  {
   "cell_type": "code",
   "execution_count": 182,
   "id": "c080754f-e165-4135-bc22-d8c5db3ec007",
   "metadata": {},
   "outputs": [
    {
     "name": "stdout",
     "output_type": "stream",
     "text": [
      "WP2319\n",
      "1.0     814\n",
      "2.0    3997\n",
      "3.0    1447\n",
      "4.0     427\n",
      "5.0      80\n",
      "6.0      37\n",
      "Name: count, dtype: int64\n"
     ]
    }
   ],
   "source": [
    "print(df[code].value_counts(dropna=False).sort_index())"
   ]
  },
  {
   "cell_type": "code",
   "execution_count": 183,
   "id": "e9fd1979-1f01-4156-b50e-5d9370f30668",
   "metadata": {},
   "outputs": [],
   "source": [
    "df[name] = df[name].fillna(5)"
   ]
  },
  {
   "cell_type": "code",
   "execution_count": 184,
   "id": "9977b921-c96a-4283-a9a5-aacf184d7d13",
   "metadata": {},
   "outputs": [
    {
     "data": {
      "text/plain": [
       "(6802, 154)"
      ]
     },
     "execution_count": 184,
     "metadata": {},
     "output_type": "execute_result"
    }
   ],
   "source": [
    "df.shape"
   ]
  },
  {
   "cell_type": "code",
   "execution_count": 185,
   "id": "0a1645e4-5532-4113-8c66-c0cfdd92166f",
   "metadata": {},
   "outputs": [],
   "source": [
    "df = df[df[name] < 5]"
   ]
  },
  {
   "cell_type": "code",
   "execution_count": 186,
   "id": "892256c1-63c8-42e7-a89e-80d8ec3f75d1",
   "metadata": {},
   "outputs": [
    {
     "data": {
      "text/plain": [
       "(6685, 154)"
      ]
     },
     "execution_count": 186,
     "metadata": {},
     "output_type": "execute_result"
    }
   ],
   "source": [
    "df.shape"
   ]
  },
  {
   "cell_type": "code",
   "execution_count": 187,
   "id": "5095803f-a642-484d-8e08-fd9b9c341e8d",
   "metadata": {},
   "outputs": [
    {
     "name": "stdout",
     "output_type": "stream",
     "text": [
      "Feeling_income\n",
      "1.0     814\n",
      "2.0    3997\n",
      "3.0    1447\n",
      "4.0     427\n",
      "Name: count, dtype: int64\n"
     ]
    }
   ],
   "source": [
    "print(df[name].value_counts(dropna=False).sort_index())"
   ]
  },
  {
   "cell_type": "code",
   "execution_count": 188,
   "id": "e790d717-1f9d-4cec-8a4f-4e9e1093ace2",
   "metadata": {},
   "outputs": [],
   "source": [
    "variable_list.append(name)"
   ]
  },
  {
   "cell_type": "markdown",
   "id": "73d6bbad-229e-4b4e-8680-82e721058115",
   "metadata": {},
   "source": [
    "#### WP4657 Born_here"
   ]
  },
  {
   "cell_type": "code",
   "execution_count": 189,
   "id": "d825a8c8-3413-4847-9d31-e3d4df02ed6b",
   "metadata": {},
   "outputs": [],
   "source": [
    "code = 'WP4657'\n",
    "name = 'Born_here'"
   ]
  },
  {
   "cell_type": "code",
   "execution_count": 190,
   "id": "b0514f19-52e0-4da8-9480-53d7389a74a5",
   "metadata": {},
   "outputs": [],
   "source": [
    "df[name] = df[code]"
   ]
  },
  {
   "cell_type": "code",
   "execution_count": 191,
   "id": "85f1c2f5-b026-4f3a-ba28-e24ac693c63d",
   "metadata": {},
   "outputs": [
    {
     "name": "stdout",
     "output_type": "stream",
     "text": [
      "WP4657\n",
      "1.0    6678\n",
      "2.0       7\n",
      "Name: count, dtype: int64\n"
     ]
    }
   ],
   "source": [
    "print(df[code].value_counts(dropna=False).sort_index())"
   ]
  },
  {
   "cell_type": "code",
   "execution_count": 192,
   "id": "5a42bfec-4b4d-49f5-889b-e8a6e3f1f871",
   "metadata": {},
   "outputs": [],
   "source": [
    "df[name] = df[name].fillna(2)"
   ]
  },
  {
   "cell_type": "code",
   "execution_count": 193,
   "id": "775fc7e9-ac13-4ea5-9f09-b59f965a6054",
   "metadata": {},
   "outputs": [],
   "source": [
    "df.loc[df[name].isin([3, 4]), name] = 2"
   ]
  },
  {
   "cell_type": "code",
   "execution_count": 194,
   "id": "82a14ab2-5625-4068-b91e-594eb4e43850",
   "metadata": {},
   "outputs": [],
   "source": [
    "df[name] = np.abs(df[name]-2)"
   ]
  },
  {
   "cell_type": "code",
   "execution_count": 195,
   "id": "07379d8e-1114-4e9b-a065-03f312324d28",
   "metadata": {},
   "outputs": [
    {
     "name": "stdout",
     "output_type": "stream",
     "text": [
      "Born_here\n",
      "0.0       7\n",
      "1.0    6678\n",
      "Name: count, dtype: int64\n"
     ]
    }
   ],
   "source": [
    "print(df[name].value_counts(dropna=False).sort_index())"
   ]
  },
  {
   "cell_type": "code",
   "execution_count": 196,
   "id": "fa87e660-596a-4fdd-82d4-6b873ac051f2",
   "metadata": {},
   "outputs": [],
   "source": [
    "variable_list.append(name)"
   ]
  },
  {
   "cell_type": "markdown",
   "id": "e75043ab-a1ce-4812-b956-9f991a8c6a4d",
   "metadata": {},
   "source": [
    "#### WP17625 Home_handline"
   ]
  },
  {
   "cell_type": "markdown",
   "id": "d0c6a0d8-59ba-43ae-8dda-3f30e421bcf1",
   "metadata": {},
   "source": [
    "drop 3 4 to nan"
   ]
  },
  {
   "cell_type": "code",
   "execution_count": 197,
   "id": "4b53baf3-d837-4723-a235-295aa4ee6d3a",
   "metadata": {},
   "outputs": [],
   "source": [
    "code = 'WP17625'\n",
    "name = 'Home_handline'"
   ]
  },
  {
   "cell_type": "code",
   "execution_count": 198,
   "id": "5eb37ce2-68aa-4210-9974-ecb64fdbc7f0",
   "metadata": {},
   "outputs": [],
   "source": [
    "df[name] = df[code]"
   ]
  },
  {
   "cell_type": "code",
   "execution_count": 199,
   "id": "b525631a-bdaa-46ce-a266-ab2fb1f8b80c",
   "metadata": {
    "scrolled": true
   },
   "outputs": [
    {
     "name": "stdout",
     "output_type": "stream",
     "text": [
      "WP17625\n",
      "1.0     900\n",
      "2.0    5776\n",
      "3.0       8\n",
      "4.0       1\n",
      "Name: count, dtype: int64\n"
     ]
    }
   ],
   "source": [
    "print(df[code].value_counts(dropna=False).sort_index())"
   ]
  },
  {
   "cell_type": "code",
   "execution_count": 200,
   "id": "dfd91da1-4a64-40f9-8093-4b4680fdc3e7",
   "metadata": {},
   "outputs": [],
   "source": [
    "df[name] = df[name].fillna(3)"
   ]
  },
  {
   "cell_type": "code",
   "execution_count": 201,
   "id": "94dd6388-4278-44f2-8c12-b719dfd08fd1",
   "metadata": {},
   "outputs": [],
   "source": [
    "df = df[df[name] < 3]"
   ]
  },
  {
   "cell_type": "code",
   "execution_count": 202,
   "id": "6ec93fdd-d23e-48bd-a1ef-953879bae4b1",
   "metadata": {},
   "outputs": [
    {
     "name": "stdout",
     "output_type": "stream",
     "text": [
      "Home_handline\n",
      "1.0     900\n",
      "2.0    5776\n",
      "Name: count, dtype: int64\n"
     ]
    }
   ],
   "source": [
    "print(df[name].value_counts(dropna=False).sort_index())"
   ]
  },
  {
   "cell_type": "code",
   "execution_count": 203,
   "id": "841cab21-c0d8-4f8e-82ba-cc739e9062d6",
   "metadata": {},
   "outputs": [],
   "source": [
    "df[name] = np.abs(df[name]-2)"
   ]
  },
  {
   "cell_type": "code",
   "execution_count": 204,
   "id": "4158dd15-538c-4d96-bbd5-86d43fea060e",
   "metadata": {},
   "outputs": [
    {
     "name": "stdout",
     "output_type": "stream",
     "text": [
      "Home_handline\n",
      "0.0    5776\n",
      "1.0     900\n",
      "Name: count, dtype: int64\n"
     ]
    }
   ],
   "source": [
    "print(df[name].value_counts(dropna=False).sort_index())"
   ]
  },
  {
   "cell_type": "code",
   "execution_count": 205,
   "id": "1f6c2b41-450e-45c3-bd63-a337e003a941",
   "metadata": {},
   "outputs": [],
   "source": [
    "variable_list.append(name)"
   ]
  },
  {
   "cell_type": "markdown",
   "id": "10e313cf-9992-4351-a5b3-8dbbf4851ccb",
   "metadata": {},
   "source": [
    "#### WP17626 Mobile_phone"
   ]
  },
  {
   "cell_type": "markdown",
   "id": "0dca0cab-fa27-4f71-bf94-32d48509ccac",
   "metadata": {},
   "source": [
    "drop 3 4 to nan"
   ]
  },
  {
   "cell_type": "code",
   "execution_count": 206,
   "id": "a4e70c9e-fb7a-4c25-a56e-b51fd3a92f6f",
   "metadata": {},
   "outputs": [],
   "source": [
    "code = 'WP17626'\n",
    "name = 'Mobile_phone'"
   ]
  },
  {
   "cell_type": "code",
   "execution_count": 207,
   "id": "0820b7b8-b2b9-48fb-948f-29ae738b2613",
   "metadata": {},
   "outputs": [],
   "source": [
    "df[name] = df[code]"
   ]
  },
  {
   "cell_type": "code",
   "execution_count": 208,
   "id": "af0859de-9f6c-4539-8046-324acce282ea",
   "metadata": {},
   "outputs": [
    {
     "name": "stdout",
     "output_type": "stream",
     "text": [
      "WP17626\n",
      "1.0    6484\n",
      "2.0     192\n",
      "Name: count, dtype: int64\n"
     ]
    }
   ],
   "source": [
    "print(df[code].value_counts(dropna=False).sort_index())"
   ]
  },
  {
   "cell_type": "code",
   "execution_count": 209,
   "id": "a77594af-1fa4-4b0b-b9e7-85acd7968c0e",
   "metadata": {},
   "outputs": [],
   "source": [
    "df[name] = df[name].fillna(3)"
   ]
  },
  {
   "cell_type": "code",
   "execution_count": 210,
   "id": "49ee4296-bfb9-491d-b214-92fc96a15e64",
   "metadata": {},
   "outputs": [],
   "source": [
    "df = df[df[name] < 3]"
   ]
  },
  {
   "cell_type": "code",
   "execution_count": 211,
   "id": "48c3ba05-0f59-4ad5-a9cd-6d8873da5d72",
   "metadata": {},
   "outputs": [],
   "source": [
    "df[name] = np.abs(df[name]-2)"
   ]
  },
  {
   "cell_type": "code",
   "execution_count": 212,
   "id": "796c9b3a-854d-43ca-95bb-4a0e7f052ec4",
   "metadata": {},
   "outputs": [
    {
     "name": "stdout",
     "output_type": "stream",
     "text": [
      "Mobile_phone\n",
      "0.0     192\n",
      "1.0    6484\n",
      "Name: count, dtype: int64\n"
     ]
    }
   ],
   "source": [
    "print(df[name].value_counts(dropna=False).sort_index())"
   ]
  },
  {
   "cell_type": "code",
   "execution_count": 213,
   "id": "567193df-6790-40e5-acde-d581eef515b0",
   "metadata": {},
   "outputs": [],
   "source": [
    "variable_list.append(name)"
   ]
  },
  {
   "cell_type": "markdown",
   "id": "be43bc1b-ac98-44d9-8548-6512c4f2542d",
   "metadata": {},
   "source": [
    "#### WP16056 Internet_access_available"
   ]
  },
  {
   "cell_type": "markdown",
   "id": "2a772466-17c5-4b64-a8b8-a67ada24d244",
   "metadata": {},
   "source": [
    "drop 3 4  nan"
   ]
  },
  {
   "cell_type": "code",
   "execution_count": 214,
   "id": "89a02f6e-471e-4473-92d3-0fa5377b4821",
   "metadata": {},
   "outputs": [],
   "source": [
    "code = 'WP16056'\n",
    "name = 'Internet_access_available'"
   ]
  },
  {
   "cell_type": "code",
   "execution_count": 215,
   "id": "dc05c9e0-6a3d-426f-91c2-d974896fccdb",
   "metadata": {},
   "outputs": [],
   "source": [
    "df[name] = df[code]"
   ]
  },
  {
   "cell_type": "code",
   "execution_count": 216,
   "id": "1d884e11-ef5b-45b4-b93b-e9094c4656d1",
   "metadata": {},
   "outputs": [
    {
     "name": "stdout",
     "output_type": "stream",
     "text": [
      "WP16056\n",
      "1.0    5183\n",
      "2.0    1466\n",
      "3.0      27\n",
      "Name: count, dtype: int64\n"
     ]
    }
   ],
   "source": [
    "print(df[code].value_counts(dropna=False).sort_index())"
   ]
  },
  {
   "cell_type": "code",
   "execution_count": 217,
   "id": "bf3e8869-a8ea-49f9-9fb2-96be5cde494b",
   "metadata": {},
   "outputs": [],
   "source": [
    "df[name] = df[name].fillna(3)"
   ]
  },
  {
   "cell_type": "code",
   "execution_count": 218,
   "id": "e848f4dc-cee2-46b8-823a-62fc5852b7cf",
   "metadata": {},
   "outputs": [],
   "source": [
    "df = df[df[name] < 3]"
   ]
  },
  {
   "cell_type": "code",
   "execution_count": 219,
   "id": "bd62befd-682d-41a6-8740-1cd0ff89471c",
   "metadata": {},
   "outputs": [],
   "source": [
    "df[name] = np.abs(df[name]-2)"
   ]
  },
  {
   "cell_type": "code",
   "execution_count": 220,
   "id": "3b406129-7789-4ba1-bd57-8bd2eba4d618",
   "metadata": {},
   "outputs": [
    {
     "name": "stdout",
     "output_type": "stream",
     "text": [
      "Internet_access_available\n",
      "0.0    1466\n",
      "1.0    5183\n",
      "Name: count, dtype: int64\n"
     ]
    }
   ],
   "source": [
    "print(df[name].value_counts(dropna=False).sort_index())"
   ]
  },
  {
   "cell_type": "code",
   "execution_count": 221,
   "id": "af955fad-bc8c-4323-a651-758c638cc471",
   "metadata": {},
   "outputs": [],
   "source": [
    "variable_list.append(name)"
   ]
  },
  {
   "cell_type": "markdown",
   "id": "a01f6167-71fa-4377-ad30-703ad30ba6d0",
   "metadata": {},
   "source": [
    "#### **WP15862 Used_internet_recently"
   ]
  },
  {
   "cell_type": "markdown",
   "id": "30bb257e-94b9-42a7-ba4f-6b54a9eea98b",
   "metadata": {},
   "source": []
  },
  {
   "cell_type": "code",
   "execution_count": 222,
   "id": "332fb589-5dc5-4400-a645-38f2da8681c8",
   "metadata": {},
   "outputs": [],
   "source": [
    "code = 'WP15862'\n",
    "name = 'Used_internet_recently'"
   ]
  },
  {
   "cell_type": "code",
   "execution_count": 223,
   "id": "0977a835-681f-4a96-8abf-1df8f1d1e383",
   "metadata": {},
   "outputs": [],
   "source": [
    "df[name] = df[code]"
   ]
  },
  {
   "cell_type": "code",
   "execution_count": 224,
   "id": "a71784f0-7620-4f5b-92f2-f0286ea66976",
   "metadata": {
    "scrolled": true
   },
   "outputs": [
    {
     "name": "stdout",
     "output_type": "stream",
     "text": [
      "WP15862\n",
      "1.0    4889\n",
      "2.0     291\n",
      "3.0       2\n",
      "4.0       1\n",
      "NaN    1466\n",
      "Name: count, dtype: int64\n"
     ]
    }
   ],
   "source": [
    "print(df[code].value_counts(dropna=False).sort_index())"
   ]
  },
  {
   "cell_type": "code",
   "execution_count": 225,
   "id": "4be6be71-dfd6-49cf-af66-a9ef16601f8c",
   "metadata": {},
   "outputs": [],
   "source": [
    "df[name] = df[name].fillna(2)\n",
    "df = df[df[name] < 3]"
   ]
  },
  {
   "cell_type": "code",
   "execution_count": 226,
   "id": "6dd34de4-9557-41e4-97bd-f0adbf525015",
   "metadata": {},
   "outputs": [],
   "source": [
    "df[name] = np.abs(df[name]-2)"
   ]
  },
  {
   "cell_type": "code",
   "execution_count": 227,
   "id": "b406cee0-5221-4bfb-aa0d-b962826ab621",
   "metadata": {},
   "outputs": [
    {
     "name": "stdout",
     "output_type": "stream",
     "text": [
      "Used_internet_recently\n",
      "0.0    1757\n",
      "1.0    4889\n",
      "Name: count, dtype: int64\n"
     ]
    }
   ],
   "source": [
    "print(df[name].value_counts(dropna=False).sort_index())"
   ]
  },
  {
   "cell_type": "code",
   "execution_count": 228,
   "id": "4a2759a8-ad86-48f1-aba3-db1e390fd992",
   "metadata": {},
   "outputs": [],
   "source": [
    "variable_list.append(name)"
   ]
  },
  {
   "cell_type": "markdown",
   "id": "637abc63-979e-4c24-8560-353ac81b2f95",
   "metadata": {},
   "source": [
    "**To be determined**"
   ]
  },
  {
   "cell_type": "code",
   "execution_count": 229,
   "id": "ba53022f-7b7f-4f5b-be71-41b044924806",
   "metadata": {},
   "outputs": [
    {
     "data": {
      "text/plain": [
       "Internet_access_available\n",
       "0.0    1466\n",
       "1.0    5180\n",
       "Name: count, dtype: int64"
      ]
     },
     "execution_count": 229,
     "metadata": {},
     "output_type": "execute_result"
    }
   ],
   "source": [
    "df['Internet_access_available'].value_counts(dropna=False).sort_index()"
   ]
  },
  {
   "cell_type": "markdown",
   "id": "03071f6c-b30f-4ede-89c0-9626b9cea17a",
   "metadata": {},
   "source": [
    "#### **WP19544 Phone_internet_access"
   ]
  },
  {
   "cell_type": "code",
   "execution_count": 230,
   "id": "c549f08c-abd8-4ba0-b32b-428d3e15ccfe",
   "metadata": {},
   "outputs": [],
   "source": [
    "code = 'WP19544'\n",
    "name = 'Phone_internet_access'"
   ]
  },
  {
   "cell_type": "code",
   "execution_count": 231,
   "id": "28dd2e5b-47f4-42d5-b057-46dd0471fbb8",
   "metadata": {},
   "outputs": [],
   "source": [
    "df[name] = df[code]"
   ]
  },
  {
   "cell_type": "code",
   "execution_count": 232,
   "id": "d1c34771-de4f-42de-9486-1af2c3a2bb8d",
   "metadata": {},
   "outputs": [
    {
     "name": "stdout",
     "output_type": "stream",
     "text": [
      "WP19544\n",
      "1.0    5465\n",
      "2.0     964\n",
      "3.0      27\n",
      "NaN     190\n",
      "Name: count, dtype: int64\n"
     ]
    }
   ],
   "source": [
    "print(df[code].value_counts(dropna=False).sort_index())"
   ]
  },
  {
   "cell_type": "code",
   "execution_count": 233,
   "id": "b4b9eaed-1b4c-4f81-88f9-98c156766484",
   "metadata": {},
   "outputs": [],
   "source": [
    "df[name] = df[name].fillna(2)\n",
    "df = df[df[name] < 3]"
   ]
  },
  {
   "cell_type": "code",
   "execution_count": 234,
   "id": "817c5a84-9e4e-4f18-899c-4d1d676a861e",
   "metadata": {},
   "outputs": [],
   "source": [
    "df[name] = np.abs(df[name]-2)"
   ]
  },
  {
   "cell_type": "code",
   "execution_count": 235,
   "id": "1e00c5b8-fbdb-44f7-afeb-2c067526492f",
   "metadata": {},
   "outputs": [
    {
     "name": "stdout",
     "output_type": "stream",
     "text": [
      "Phone_internet_access\n",
      "0.0    1154\n",
      "1.0    5465\n",
      "Name: count, dtype: int64\n"
     ]
    }
   ],
   "source": [
    "print(df[name].value_counts(dropna=False).sort_index())"
   ]
  },
  {
   "cell_type": "code",
   "execution_count": 236,
   "id": "ce912a81-39cb-46fc-97e7-36c70bce83e5",
   "metadata": {},
   "outputs": [],
   "source": [
    "variable_list.append(name)"
   ]
  },
  {
   "cell_type": "markdown",
   "id": "5e26a930-d91e-4d8b-841c-1c8a7f845304",
   "metadata": {},
   "source": [
    "**To be determined**"
   ]
  },
  {
   "cell_type": "code",
   "execution_count": 237,
   "id": "882799b8-5afe-4587-94a8-0c4ec6f130ed",
   "metadata": {},
   "outputs": [
    {
     "data": {
      "text/plain": [
       "Internet_access_available\n",
       "0.0    1446\n",
       "1.0    5173\n",
       "Name: count, dtype: int64"
      ]
     },
     "execution_count": 237,
     "metadata": {},
     "output_type": "execute_result"
    }
   ],
   "source": [
    "df['Internet_access_available'].value_counts(dropna=False).sort_index()"
   ]
  },
  {
   "cell_type": "code",
   "execution_count": null,
   "id": "5d37a7f7-283e-4049-810c-2d771baf14bc",
   "metadata": {},
   "outputs": [],
   "source": []
  },
  {
   "cell_type": "markdown",
   "id": "f2ac02a4-7f01-415b-b5d5-e34fdaf216f0",
   "metadata": {},
   "source": [
    "#### INCOME_5"
   ]
  },
  {
   "cell_type": "code",
   "execution_count": 238,
   "id": "8235e6a4-2ae9-48f5-8b53-25b7620e2ab8",
   "metadata": {},
   "outputs": [],
   "source": [
    "code = 'INCOME_5'\n",
    "name = 'Income_level'"
   ]
  },
  {
   "cell_type": "code",
   "execution_count": 239,
   "id": "4957db13-ca92-4987-8698-e228971eca31",
   "metadata": {},
   "outputs": [],
   "source": [
    "df[name] = df[code]"
   ]
  },
  {
   "cell_type": "code",
   "execution_count": 240,
   "id": "68e3708d-4a38-4221-8c44-4b7152afa168",
   "metadata": {},
   "outputs": [
    {
     "name": "stdout",
     "output_type": "stream",
     "text": [
      "INCOME_5\n",
      "1.0    1158\n",
      "2.0    1210\n",
      "3.0    1279\n",
      "4.0    1414\n",
      "5.0    1558\n",
      "Name: count, dtype: int64\n"
     ]
    }
   ],
   "source": [
    "print(df[code].value_counts(dropna=False).sort_index())"
   ]
  },
  {
   "cell_type": "code",
   "execution_count": 241,
   "id": "04d472a0-4b5a-4f72-b328-0dadcfb921db",
   "metadata": {},
   "outputs": [
    {
     "data": {
      "text/plain": [
       "(6619, 160)"
      ]
     },
     "execution_count": 241,
     "metadata": {},
     "output_type": "execute_result"
    }
   ],
   "source": [
    "df.shape"
   ]
  },
  {
   "cell_type": "code",
   "execution_count": 242,
   "id": "d2a52ae1-061a-45f5-bfec-2b21a7aa770b",
   "metadata": {},
   "outputs": [],
   "source": [
    "df = df.dropna(subset=['INCOME_5'])"
   ]
  },
  {
   "cell_type": "code",
   "execution_count": 243,
   "id": "8fad353e-f145-4360-b9f4-bf6da504f5ba",
   "metadata": {},
   "outputs": [
    {
     "data": {
      "text/plain": [
       "(6619, 160)"
      ]
     },
     "execution_count": 243,
     "metadata": {},
     "output_type": "execute_result"
    }
   ],
   "source": [
    "df.shape"
   ]
  },
  {
   "cell_type": "code",
   "execution_count": 244,
   "id": "d63829f7-366a-4e5d-8b20-140fc84dff0a",
   "metadata": {},
   "outputs": [],
   "source": [
    "variable_list.append(name)"
   ]
  },
  {
   "cell_type": "markdown",
   "id": "cf0f651b-0dac-423d-b5aa-7bd3be5818ac",
   "metadata": {},
   "source": [
    "### Save the Washed Dataset"
   ]
  },
  {
   "cell_type": "code",
   "execution_count": 245,
   "id": "ee3f814c-7a26-46d6-807b-d0bc1d251077",
   "metadata": {},
   "outputs": [
    {
     "data": {
      "text/plain": [
       "['wave',\n",
       " 'INCOME_2',\n",
       " 'Cantril_ladder',\n",
       " 'Health_disable',\n",
       " 'Relative_have',\n",
       " 'Life_satisfaction',\n",
       " 'Living_standard_trend',\n",
       " 'Enough_food',\n",
       " 'Enough_shelter',\n",
       " 'Well_rested',\n",
       " 'Respected',\n",
       " 'Smile',\n",
       " 'Interesting_thing',\n",
       " 'Enjoyment',\n",
       " 'Physical_pain',\n",
       " 'Worry',\n",
       " 'Sadness',\n",
       " 'Stress',\n",
       " 'Anger',\n",
       " 'City_satisfaction',\n",
       " 'Recommended_live_place',\n",
       " 'Economic_rating',\n",
       " 'Economic_trend',\n",
       " 'Local_job_outlook',\n",
       " 'Satisfied_pubtran',\n",
       " 'Satisfied_road',\n",
       " 'Satisfied_edu',\n",
       " 'Satisfied_qualityair',\n",
       " 'Satisfied_qualitywater',\n",
       " 'Satisfied_healthcare',\n",
       " 'Satisfied_affhouse',\n",
       " 'Satisfied_oppofriend',\n",
       " 'Good_minorities',\n",
       " 'Good_homo',\n",
       " 'Good_immigrants',\n",
       " 'Donated',\n",
       " 'Volunteer',\n",
       " 'Help_stranger',\n",
       " 'Voice_official',\n",
       " 'Local_police_confidence',\n",
       " 'Safety_walk',\n",
       " 'Stolen',\n",
       " 'Assualted',\n",
       " 'Religion_importance',\n",
       " 'Children_respected',\n",
       " 'Children_learn',\n",
       " 'Women_respected',\n",
       " 'Satisfied_dealpoor',\n",
       " 'Satisfied_Env_preservation',\n",
       " 'Satisfied_Personalfreedom',\n",
       " 'Confidence_military',\n",
       " 'Confidence_judicial',\n",
       " 'Confidence_gov',\n",
       " 'Confidence_fin',\n",
       " 'Confidence_honestyelections',\n",
       " 'Freedom_media',\n",
       " 'Corruption_business',\n",
       " 'Corruption_government',\n",
       " 'Performance_leadership',\n",
       " 'Gender_female',\n",
       " 'Age',\n",
       " 'Education',\n",
       " 'Marital_status',\n",
       " 'Employment',\n",
       " 'Children_under15',\n",
       " 'Feeling_income',\n",
       " 'Born_here',\n",
       " 'Home_handline',\n",
       " 'Mobile_phone',\n",
       " 'Internet_access_available',\n",
       " 'Used_internet_recently',\n",
       " 'Phone_internet_access',\n",
       " 'Income_level']"
      ]
     },
     "execution_count": 245,
     "metadata": {},
     "output_type": "execute_result"
    }
   ],
   "source": [
    "variable_list"
   ]
  },
  {
   "cell_type": "code",
   "execution_count": 246,
   "id": "fe5c5ee0-5515-42de-8acc-6ef8bafce8c3",
   "metadata": {},
   "outputs": [
    {
     "data": {
      "text/plain": [
       "73"
      ]
     },
     "execution_count": 246,
     "metadata": {},
     "output_type": "execute_result"
    }
   ],
   "source": [
    "len(variable_list)"
   ]
  },
  {
   "cell_type": "code",
   "execution_count": 247,
   "id": "a435fa19-cb37-4fd1-9128-bba52a60e95b",
   "metadata": {},
   "outputs": [],
   "source": [
    "WahsedDataset = df[variable_list]"
   ]
  },
  {
   "cell_type": "code",
   "execution_count": 248,
   "id": "29b77b35-3c94-402f-b89b-d39d54d2936e",
   "metadata": {},
   "outputs": [
    {
     "data": {
      "text/plain": [
       "(6619, 73)"
      ]
     },
     "execution_count": 248,
     "metadata": {},
     "output_type": "execute_result"
    }
   ],
   "source": [
    "WahsedDataset.shape"
   ]
  },
  {
   "cell_type": "code",
   "execution_count": 249,
   "id": "dce8fda7-5477-40ff-949d-54eb0a79ffe8",
   "metadata": {},
   "outputs": [
    {
     "data": {
      "text/plain": [
       "np.False_"
      ]
     },
     "execution_count": 249,
     "metadata": {},
     "output_type": "execute_result"
    }
   ],
   "source": [
    "WahsedDataset.isna().any().any()"
   ]
  },
  {
   "cell_type": "code",
   "execution_count": 252,
   "id": "6a6ba8fd-f743-4a30-8a12-b4e7150a376e",
   "metadata": {},
   "outputs": [],
   "source": [
    "WahsedDataset.to_parquet(os.path.join(Data_Folder, 'D02_WashedData_v1.parquet'))"
   ]
  },
  {
   "cell_type": "code",
   "execution_count": 253,
   "id": "c21447e6-190b-4246-ba4e-2d05643bc488",
   "metadata": {},
   "outputs": [],
   "source": [
    "WahsedDataset.to_csv(os.path.join(Data_Folder, 'D02_WashedData_v1.csv'))"
   ]
  },
  {
   "cell_type": "code",
   "execution_count": null,
   "id": "571a00b9-b217-4774-9e4b-4505225ba048",
   "metadata": {},
   "outputs": [],
   "source": []
  }
 ],
 "metadata": {
  "kernelspec": {
   "display_name": "Python 3 (ipykernel)",
   "language": "python",
   "name": "python3"
  },
  "language_info": {
   "codemirror_mode": {
    "name": "ipython",
    "version": 3
   },
   "file_extension": ".py",
   "mimetype": "text/x-python",
   "name": "python",
   "nbconvert_exporter": "python",
   "pygments_lexer": "ipython3",
   "version": "3.9.20"
  }
 },
 "nbformat": 4,
 "nbformat_minor": 5
}
