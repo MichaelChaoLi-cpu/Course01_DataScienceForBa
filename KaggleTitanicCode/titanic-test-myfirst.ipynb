{
 "cells": [
  {
   "cell_type": "markdown",
   "metadata": {},
   "source": [
    "# Titanic-Test"
   ]
  },
  {
   "cell_type": "code",
   "execution_count": 1,
   "metadata": {},
   "outputs": [
    {
     "data": {
      "text/plain": [
       "'D:\\\\OneDrive - Kyushu University\\\\Course01_DataScienceForBa\\\\KaggleTitanicCode'"
      ]
     },
     "execution_count": 1,
     "metadata": {},
     "output_type": "execute_result"
    }
   ],
   "source": [
    "%pwd"
   ]
  },
  {
   "cell_type": "code",
   "execution_count": 2,
   "metadata": {},
   "outputs": [
    {
     "name": "stdout",
     "output_type": "stream",
     "text": [
      "D:\\OneDrive - Kyushu University\\Course01_DataScienceForBa\n"
     ]
    }
   ],
   "source": [
    "cd .."
   ]
  },
  {
   "cell_type": "code",
   "execution_count": null,
   "metadata": {},
   "outputs": [],
   "source": []
  },
  {
   "cell_type": "markdown",
   "metadata": {},
   "source": [
    "## Import Package"
   ]
  },
  {
   "cell_type": "code",
   "execution_count": 3,
   "metadata": {},
   "outputs": [],
   "source": [
    "import numpy as np\n",
    "import os\n",
    "import pandas as pd\n",
    "import re\n",
    "from sklearn.ensemble import RandomForestClassifier, StackingClassifier\n",
    "from sklearn.linear_model import LogisticRegression\n",
    "from sklearn.metrics import accuracy_score\n",
    "from sklearn.model_selection import GridSearchCV, train_test_split, StratifiedKFold"
   ]
  },
  {
   "cell_type": "markdown",
   "metadata": {},
   "source": [
    "## Load DAta"
   ]
  },
  {
   "cell_type": "code",
   "execution_count": 4,
   "metadata": {},
   "outputs": [
    {
     "data": {
      "text/html": [
       "<div>\n",
       "<style scoped>\n",
       "    .dataframe tbody tr th:only-of-type {\n",
       "        vertical-align: middle;\n",
       "    }\n",
       "\n",
       "    .dataframe tbody tr th {\n",
       "        vertical-align: top;\n",
       "    }\n",
       "\n",
       "    .dataframe thead th {\n",
       "        text-align: right;\n",
       "    }\n",
       "</style>\n",
       "<table border=\"1\" class=\"dataframe\">\n",
       "  <thead>\n",
       "    <tr style=\"text-align: right;\">\n",
       "      <th></th>\n",
       "      <th>PassengerId</th>\n",
       "      <th>Survived</th>\n",
       "      <th>Pclass</th>\n",
       "      <th>Name</th>\n",
       "      <th>Sex</th>\n",
       "      <th>Age</th>\n",
       "      <th>SibSp</th>\n",
       "      <th>Parch</th>\n",
       "      <th>Ticket</th>\n",
       "      <th>Fare</th>\n",
       "      <th>Cabin</th>\n",
       "      <th>Embarked</th>\n",
       "    </tr>\n",
       "  </thead>\n",
       "  <tbody>\n",
       "    <tr>\n",
       "      <th>0</th>\n",
       "      <td>1</td>\n",
       "      <td>0</td>\n",
       "      <td>3</td>\n",
       "      <td>Braund, Mr. Owen Harris</td>\n",
       "      <td>male</td>\n",
       "      <td>22.0</td>\n",
       "      <td>1</td>\n",
       "      <td>0</td>\n",
       "      <td>A/5 21171</td>\n",
       "      <td>7.2500</td>\n",
       "      <td>NaN</td>\n",
       "      <td>S</td>\n",
       "    </tr>\n",
       "    <tr>\n",
       "      <th>1</th>\n",
       "      <td>2</td>\n",
       "      <td>1</td>\n",
       "      <td>1</td>\n",
       "      <td>Cumings, Mrs. John Bradley (Florence Briggs Th...</td>\n",
       "      <td>female</td>\n",
       "      <td>38.0</td>\n",
       "      <td>1</td>\n",
       "      <td>0</td>\n",
       "      <td>PC 17599</td>\n",
       "      <td>71.2833</td>\n",
       "      <td>C85</td>\n",
       "      <td>C</td>\n",
       "    </tr>\n",
       "    <tr>\n",
       "      <th>2</th>\n",
       "      <td>3</td>\n",
       "      <td>1</td>\n",
       "      <td>3</td>\n",
       "      <td>Heikkinen, Miss. Laina</td>\n",
       "      <td>female</td>\n",
       "      <td>26.0</td>\n",
       "      <td>0</td>\n",
       "      <td>0</td>\n",
       "      <td>STON/O2. 3101282</td>\n",
       "      <td>7.9250</td>\n",
       "      <td>NaN</td>\n",
       "      <td>S</td>\n",
       "    </tr>\n",
       "    <tr>\n",
       "      <th>3</th>\n",
       "      <td>4</td>\n",
       "      <td>1</td>\n",
       "      <td>1</td>\n",
       "      <td>Futrelle, Mrs. Jacques Heath (Lily May Peel)</td>\n",
       "      <td>female</td>\n",
       "      <td>35.0</td>\n",
       "      <td>1</td>\n",
       "      <td>0</td>\n",
       "      <td>113803</td>\n",
       "      <td>53.1000</td>\n",
       "      <td>C123</td>\n",
       "      <td>S</td>\n",
       "    </tr>\n",
       "    <tr>\n",
       "      <th>4</th>\n",
       "      <td>5</td>\n",
       "      <td>0</td>\n",
       "      <td>3</td>\n",
       "      <td>Allen, Mr. William Henry</td>\n",
       "      <td>male</td>\n",
       "      <td>35.0</td>\n",
       "      <td>0</td>\n",
       "      <td>0</td>\n",
       "      <td>373450</td>\n",
       "      <td>8.0500</td>\n",
       "      <td>NaN</td>\n",
       "      <td>S</td>\n",
       "    </tr>\n",
       "    <tr>\n",
       "      <th>5</th>\n",
       "      <td>6</td>\n",
       "      <td>0</td>\n",
       "      <td>3</td>\n",
       "      <td>Moran, Mr. James</td>\n",
       "      <td>male</td>\n",
       "      <td>NaN</td>\n",
       "      <td>0</td>\n",
       "      <td>0</td>\n",
       "      <td>330877</td>\n",
       "      <td>8.4583</td>\n",
       "      <td>NaN</td>\n",
       "      <td>Q</td>\n",
       "    </tr>\n",
       "    <tr>\n",
       "      <th>6</th>\n",
       "      <td>7</td>\n",
       "      <td>0</td>\n",
       "      <td>1</td>\n",
       "      <td>McCarthy, Mr. Timothy J</td>\n",
       "      <td>male</td>\n",
       "      <td>54.0</td>\n",
       "      <td>0</td>\n",
       "      <td>0</td>\n",
       "      <td>17463</td>\n",
       "      <td>51.8625</td>\n",
       "      <td>E46</td>\n",
       "      <td>S</td>\n",
       "    </tr>\n",
       "    <tr>\n",
       "      <th>7</th>\n",
       "      <td>8</td>\n",
       "      <td>0</td>\n",
       "      <td>3</td>\n",
       "      <td>Palsson, Master. Gosta Leonard</td>\n",
       "      <td>male</td>\n",
       "      <td>2.0</td>\n",
       "      <td>3</td>\n",
       "      <td>1</td>\n",
       "      <td>349909</td>\n",
       "      <td>21.0750</td>\n",
       "      <td>NaN</td>\n",
       "      <td>S</td>\n",
       "    </tr>\n",
       "    <tr>\n",
       "      <th>8</th>\n",
       "      <td>9</td>\n",
       "      <td>1</td>\n",
       "      <td>3</td>\n",
       "      <td>Johnson, Mrs. Oscar W (Elisabeth Vilhelmina Berg)</td>\n",
       "      <td>female</td>\n",
       "      <td>27.0</td>\n",
       "      <td>0</td>\n",
       "      <td>2</td>\n",
       "      <td>347742</td>\n",
       "      <td>11.1333</td>\n",
       "      <td>NaN</td>\n",
       "      <td>S</td>\n",
       "    </tr>\n",
       "    <tr>\n",
       "      <th>9</th>\n",
       "      <td>10</td>\n",
       "      <td>1</td>\n",
       "      <td>2</td>\n",
       "      <td>Nasser, Mrs. Nicholas (Adele Achem)</td>\n",
       "      <td>female</td>\n",
       "      <td>14.0</td>\n",
       "      <td>1</td>\n",
       "      <td>0</td>\n",
       "      <td>237736</td>\n",
       "      <td>30.0708</td>\n",
       "      <td>NaN</td>\n",
       "      <td>C</td>\n",
       "    </tr>\n",
       "    <tr>\n",
       "      <th>10</th>\n",
       "      <td>11</td>\n",
       "      <td>1</td>\n",
       "      <td>3</td>\n",
       "      <td>Sandstrom, Miss. Marguerite Rut</td>\n",
       "      <td>female</td>\n",
       "      <td>4.0</td>\n",
       "      <td>1</td>\n",
       "      <td>1</td>\n",
       "      <td>PP 9549</td>\n",
       "      <td>16.7000</td>\n",
       "      <td>G6</td>\n",
       "      <td>S</td>\n",
       "    </tr>\n",
       "    <tr>\n",
       "      <th>11</th>\n",
       "      <td>12</td>\n",
       "      <td>1</td>\n",
       "      <td>1</td>\n",
       "      <td>Bonnell, Miss. Elizabeth</td>\n",
       "      <td>female</td>\n",
       "      <td>58.0</td>\n",
       "      <td>0</td>\n",
       "      <td>0</td>\n",
       "      <td>113783</td>\n",
       "      <td>26.5500</td>\n",
       "      <td>C103</td>\n",
       "      <td>S</td>\n",
       "    </tr>\n",
       "    <tr>\n",
       "      <th>12</th>\n",
       "      <td>13</td>\n",
       "      <td>0</td>\n",
       "      <td>3</td>\n",
       "      <td>Saundercock, Mr. William Henry</td>\n",
       "      <td>male</td>\n",
       "      <td>20.0</td>\n",
       "      <td>0</td>\n",
       "      <td>0</td>\n",
       "      <td>A/5. 2151</td>\n",
       "      <td>8.0500</td>\n",
       "      <td>NaN</td>\n",
       "      <td>S</td>\n",
       "    </tr>\n",
       "    <tr>\n",
       "      <th>13</th>\n",
       "      <td>14</td>\n",
       "      <td>0</td>\n",
       "      <td>3</td>\n",
       "      <td>Andersson, Mr. Anders Johan</td>\n",
       "      <td>male</td>\n",
       "      <td>39.0</td>\n",
       "      <td>1</td>\n",
       "      <td>5</td>\n",
       "      <td>347082</td>\n",
       "      <td>31.2750</td>\n",
       "      <td>NaN</td>\n",
       "      <td>S</td>\n",
       "    </tr>\n",
       "    <tr>\n",
       "      <th>14</th>\n",
       "      <td>15</td>\n",
       "      <td>0</td>\n",
       "      <td>3</td>\n",
       "      <td>Vestrom, Miss. Hulda Amanda Adolfina</td>\n",
       "      <td>female</td>\n",
       "      <td>14.0</td>\n",
       "      <td>0</td>\n",
       "      <td>0</td>\n",
       "      <td>350406</td>\n",
       "      <td>7.8542</td>\n",
       "      <td>NaN</td>\n",
       "      <td>S</td>\n",
       "    </tr>\n",
       "    <tr>\n",
       "      <th>15</th>\n",
       "      <td>16</td>\n",
       "      <td>1</td>\n",
       "      <td>2</td>\n",
       "      <td>Hewlett, Mrs. (Mary D Kingcome)</td>\n",
       "      <td>female</td>\n",
       "      <td>55.0</td>\n",
       "      <td>0</td>\n",
       "      <td>0</td>\n",
       "      <td>248706</td>\n",
       "      <td>16.0000</td>\n",
       "      <td>NaN</td>\n",
       "      <td>S</td>\n",
       "    </tr>\n",
       "    <tr>\n",
       "      <th>16</th>\n",
       "      <td>17</td>\n",
       "      <td>0</td>\n",
       "      <td>3</td>\n",
       "      <td>Rice, Master. Eugene</td>\n",
       "      <td>male</td>\n",
       "      <td>2.0</td>\n",
       "      <td>4</td>\n",
       "      <td>1</td>\n",
       "      <td>382652</td>\n",
       "      <td>29.1250</td>\n",
       "      <td>NaN</td>\n",
       "      <td>Q</td>\n",
       "    </tr>\n",
       "    <tr>\n",
       "      <th>17</th>\n",
       "      <td>18</td>\n",
       "      <td>1</td>\n",
       "      <td>2</td>\n",
       "      <td>Williams, Mr. Charles Eugene</td>\n",
       "      <td>male</td>\n",
       "      <td>NaN</td>\n",
       "      <td>0</td>\n",
       "      <td>0</td>\n",
       "      <td>244373</td>\n",
       "      <td>13.0000</td>\n",
       "      <td>NaN</td>\n",
       "      <td>S</td>\n",
       "    </tr>\n",
       "    <tr>\n",
       "      <th>18</th>\n",
       "      <td>19</td>\n",
       "      <td>0</td>\n",
       "      <td>3</td>\n",
       "      <td>Vander Planke, Mrs. Julius (Emelia Maria Vande...</td>\n",
       "      <td>female</td>\n",
       "      <td>31.0</td>\n",
       "      <td>1</td>\n",
       "      <td>0</td>\n",
       "      <td>345763</td>\n",
       "      <td>18.0000</td>\n",
       "      <td>NaN</td>\n",
       "      <td>S</td>\n",
       "    </tr>\n",
       "    <tr>\n",
       "      <th>19</th>\n",
       "      <td>20</td>\n",
       "      <td>1</td>\n",
       "      <td>3</td>\n",
       "      <td>Masselmani, Mrs. Fatima</td>\n",
       "      <td>female</td>\n",
       "      <td>NaN</td>\n",
       "      <td>0</td>\n",
       "      <td>0</td>\n",
       "      <td>2649</td>\n",
       "      <td>7.2250</td>\n",
       "      <td>NaN</td>\n",
       "      <td>C</td>\n",
       "    </tr>\n",
       "  </tbody>\n",
       "</table>\n",
       "</div>"
      ],
      "text/plain": [
       "    PassengerId  Survived  Pclass  \\\n",
       "0             1         0       3   \n",
       "1             2         1       1   \n",
       "2             3         1       3   \n",
       "3             4         1       1   \n",
       "4             5         0       3   \n",
       "5             6         0       3   \n",
       "6             7         0       1   \n",
       "7             8         0       3   \n",
       "8             9         1       3   \n",
       "9            10         1       2   \n",
       "10           11         1       3   \n",
       "11           12         1       1   \n",
       "12           13         0       3   \n",
       "13           14         0       3   \n",
       "14           15         0       3   \n",
       "15           16         1       2   \n",
       "16           17         0       3   \n",
       "17           18         1       2   \n",
       "18           19         0       3   \n",
       "19           20         1       3   \n",
       "\n",
       "                                                 Name     Sex   Age  SibSp  \\\n",
       "0                             Braund, Mr. Owen Harris    male  22.0      1   \n",
       "1   Cumings, Mrs. John Bradley (Florence Briggs Th...  female  38.0      1   \n",
       "2                              Heikkinen, Miss. Laina  female  26.0      0   \n",
       "3        Futrelle, Mrs. Jacques Heath (Lily May Peel)  female  35.0      1   \n",
       "4                            Allen, Mr. William Henry    male  35.0      0   \n",
       "5                                    Moran, Mr. James    male   NaN      0   \n",
       "6                             McCarthy, Mr. Timothy J    male  54.0      0   \n",
       "7                      Palsson, Master. Gosta Leonard    male   2.0      3   \n",
       "8   Johnson, Mrs. Oscar W (Elisabeth Vilhelmina Berg)  female  27.0      0   \n",
       "9                 Nasser, Mrs. Nicholas (Adele Achem)  female  14.0      1   \n",
       "10                    Sandstrom, Miss. Marguerite Rut  female   4.0      1   \n",
       "11                           Bonnell, Miss. Elizabeth  female  58.0      0   \n",
       "12                     Saundercock, Mr. William Henry    male  20.0      0   \n",
       "13                        Andersson, Mr. Anders Johan    male  39.0      1   \n",
       "14               Vestrom, Miss. Hulda Amanda Adolfina  female  14.0      0   \n",
       "15                   Hewlett, Mrs. (Mary D Kingcome)   female  55.0      0   \n",
       "16                               Rice, Master. Eugene    male   2.0      4   \n",
       "17                       Williams, Mr. Charles Eugene    male   NaN      0   \n",
       "18  Vander Planke, Mrs. Julius (Emelia Maria Vande...  female  31.0      1   \n",
       "19                            Masselmani, Mrs. Fatima  female   NaN      0   \n",
       "\n",
       "    Parch            Ticket     Fare Cabin Embarked  \n",
       "0       0         A/5 21171   7.2500   NaN        S  \n",
       "1       0          PC 17599  71.2833   C85        C  \n",
       "2       0  STON/O2. 3101282   7.9250   NaN        S  \n",
       "3       0            113803  53.1000  C123        S  \n",
       "4       0            373450   8.0500   NaN        S  \n",
       "5       0            330877   8.4583   NaN        Q  \n",
       "6       0             17463  51.8625   E46        S  \n",
       "7       1            349909  21.0750   NaN        S  \n",
       "8       2            347742  11.1333   NaN        S  \n",
       "9       0            237736  30.0708   NaN        C  \n",
       "10      1           PP 9549  16.7000    G6        S  \n",
       "11      0            113783  26.5500  C103        S  \n",
       "12      0         A/5. 2151   8.0500   NaN        S  \n",
       "13      5            347082  31.2750   NaN        S  \n",
       "14      0            350406   7.8542   NaN        S  \n",
       "15      0            248706  16.0000   NaN        S  \n",
       "16      1            382652  29.1250   NaN        Q  \n",
       "17      0            244373  13.0000   NaN        S  \n",
       "18      0            345763  18.0000   NaN        S  \n",
       "19      0              2649   7.2250   NaN        C  "
      ]
     },
     "execution_count": 4,
     "metadata": {},
     "output_type": "execute_result"
    }
   ],
   "source": [
    "all_df = pd.read_csv(\"Data/train.csv\")\n",
    "all_df.head(20)"
   ]
  },
  {
   "cell_type": "code",
   "execution_count": null,
   "metadata": {
    "execution": {
     "iopub.execute_input": "2024-11-23T15:00:57.629266Z",
     "iopub.status.busy": "2024-11-23T15:00:57.628776Z",
     "iopub.status.idle": "2024-11-23T15:00:57.636651Z",
     "shell.execute_reply": "2024-11-23T15:00:57.635513Z",
     "shell.execute_reply.started": "2024-11-23T15:00:57.629217Z"
    }
   },
   "outputs": [],
   "source": [
    "all_df.shape"
   ]
  },
  {
   "cell_type": "code",
   "execution_count": null,
   "metadata": {
    "execution": {
     "iopub.execute_input": "2024-11-23T15:00:57.639097Z",
     "iopub.status.busy": "2024-11-23T15:00:57.638490Z",
     "iopub.status.idle": "2024-11-23T15:00:57.650703Z",
     "shell.execute_reply": "2024-11-23T15:00:57.649585Z",
     "shell.execute_reply.started": "2024-11-23T15:00:57.639059Z"
    }
   },
   "outputs": [],
   "source": [
    "all_df.columns"
   ]
  },
  {
   "cell_type": "markdown",
   "metadata": {},
   "source": [
    "## Preprocess"
   ]
  },
  {
   "cell_type": "code",
   "execution_count": null,
   "metadata": {
    "execution": {
     "iopub.execute_input": "2024-11-23T15:00:57.653181Z",
     "iopub.status.busy": "2024-11-23T15:00:57.652711Z",
     "iopub.status.idle": "2024-11-23T15:00:57.662195Z",
     "shell.execute_reply": "2024-11-23T15:00:57.661191Z",
     "shell.execute_reply.started": "2024-11-23T15:00:57.653130Z"
    }
   },
   "outputs": [],
   "source": [
    "all_df = all_df[['Survived', 'Pclass', 'Sex', 'Age', 'SibSp',\n",
    "       'Parch', 'Fare', 'Cabin', 'Embarked']]"
   ]
  },
  {
   "cell_type": "code",
   "execution_count": null,
   "metadata": {
    "execution": {
     "iopub.execute_input": "2024-11-23T15:00:57.668292Z",
     "iopub.status.busy": "2024-11-23T15:00:57.667556Z",
     "iopub.status.idle": "2024-11-23T15:00:57.682654Z",
     "shell.execute_reply": "2024-11-23T15:00:57.681470Z",
     "shell.execute_reply.started": "2024-11-23T15:00:57.668252Z"
    }
   },
   "outputs": [],
   "source": [
    "all_df.head()"
   ]
  },
  {
   "cell_type": "code",
   "execution_count": null,
   "metadata": {
    "execution": {
     "iopub.execute_input": "2024-11-23T15:00:57.694869Z",
     "iopub.status.busy": "2024-11-23T15:00:57.693981Z",
     "iopub.status.idle": "2024-11-23T15:00:57.702017Z",
     "shell.execute_reply": "2024-11-23T15:00:57.700928Z",
     "shell.execute_reply.started": "2024-11-23T15:00:57.694826Z"
    }
   },
   "outputs": [],
   "source": [
    "all_df['Cabin_Count'] = all_df['Cabin'].str.count(' ') + 1\n",
    "all_df['Cabin_level'] = all_df['Cabin'].str[0]"
   ]
  },
  {
   "cell_type": "code",
   "execution_count": null,
   "metadata": {
    "execution": {
     "iopub.execute_input": "2024-11-23T15:00:57.706788Z",
     "iopub.status.busy": "2024-11-23T15:00:57.706404Z",
     "iopub.status.idle": "2024-11-23T15:00:57.719165Z",
     "shell.execute_reply": "2024-11-23T15:00:57.718186Z",
     "shell.execute_reply.started": "2024-11-23T15:00:57.706750Z"
    }
   },
   "outputs": [],
   "source": [
    "def extract_first_number(cabin_string):\n",
    "    if pd.isna(cabin_string):\n",
    "        return None  # Return None if the cabin string is NaN\n",
    "    numbers = re.findall(r'\\d+', cabin_string)\n",
    "    return int(numbers[0]) if numbers else None\n",
    "\n",
    "all_df['First_Number'] = all_df['Cabin'].apply(extract_first_number)"
   ]
  },
  {
   "cell_type": "code",
   "execution_count": null,
   "metadata": {
    "execution": {
     "iopub.execute_input": "2024-11-23T15:00:57.721195Z",
     "iopub.status.busy": "2024-11-23T15:00:57.720814Z",
     "iopub.status.idle": "2024-11-23T15:00:57.735505Z",
     "shell.execute_reply": "2024-11-23T15:00:57.734460Z",
     "shell.execute_reply.started": "2024-11-23T15:00:57.721128Z"
    }
   },
   "outputs": [],
   "source": [
    "all_df['Cabin_level'].value_counts()"
   ]
  },
  {
   "cell_type": "code",
   "execution_count": null,
   "metadata": {
    "execution": {
     "iopub.execute_input": "2024-11-23T15:00:57.737774Z",
     "iopub.status.busy": "2024-11-23T15:00:57.737298Z",
     "iopub.status.idle": "2024-11-23T15:00:57.752115Z",
     "shell.execute_reply": "2024-11-23T15:00:57.751055Z",
     "shell.execute_reply.started": "2024-11-23T15:00:57.737732Z"
    }
   },
   "outputs": [],
   "source": [
    "all_df['Sex'] = all_df['Sex'].replace({'male': 0, 'female': 1})\n",
    "cabin_mapping = {'A': 1, 'B': 2, 'C': 3, 'D': 4, 'E': 5, 'F': 6, 'G': 7, 'T': 8}\n",
    "all_df['Cabin_level'] = all_df['Cabin_level'].map(cabin_mapping)"
   ]
  },
  {
   "cell_type": "code",
   "execution_count": null,
   "metadata": {
    "execution": {
     "iopub.execute_input": "2024-11-23T15:00:57.753855Z",
     "iopub.status.busy": "2024-11-23T15:00:57.753471Z",
     "iopub.status.idle": "2024-11-23T15:00:57.770906Z",
     "shell.execute_reply": "2024-11-23T15:00:57.769900Z",
     "shell.execute_reply.started": "2024-11-23T15:00:57.753815Z"
    }
   },
   "outputs": [],
   "source": [
    "Embarked_mapping = {'S': 1, 'C': 2, 'Q': 3}\n",
    "all_df['Embarked'] = all_df['Embarked'].map(Embarked_mapping)"
   ]
  },
  {
   "cell_type": "code",
   "execution_count": null,
   "metadata": {
    "execution": {
     "iopub.execute_input": "2024-11-23T15:00:57.773803Z",
     "iopub.status.busy": "2024-11-23T15:00:57.773321Z",
     "iopub.status.idle": "2024-11-23T15:00:57.798313Z",
     "shell.execute_reply": "2024-11-23T15:00:57.797076Z",
     "shell.execute_reply.started": "2024-11-23T15:00:57.773753Z"
    }
   },
   "outputs": [],
   "source": [
    "all_df.head()"
   ]
  },
  {
   "cell_type": "code",
   "execution_count": null,
   "metadata": {
    "execution": {
     "iopub.execute_input": "2024-11-23T15:00:57.800544Z",
     "iopub.status.busy": "2024-11-23T15:00:57.799758Z",
     "iopub.status.idle": "2024-11-23T15:00:57.814453Z",
     "shell.execute_reply": "2024-11-23T15:00:57.813449Z",
     "shell.execute_reply.started": "2024-11-23T15:00:57.800493Z"
    }
   },
   "outputs": [],
   "source": [
    "all_df.columns"
   ]
  },
  {
   "cell_type": "code",
   "execution_count": null,
   "metadata": {
    "execution": {
     "iopub.execute_input": "2024-11-23T15:00:57.816728Z",
     "iopub.status.busy": "2024-11-23T15:00:57.815958Z",
     "iopub.status.idle": "2024-11-23T15:00:57.825802Z",
     "shell.execute_reply": "2024-11-23T15:00:57.824796Z",
     "shell.execute_reply.started": "2024-11-23T15:00:57.816679Z"
    }
   },
   "outputs": [],
   "source": [
    "all_df = all_df[['Survived', 'Pclass', 'Sex', 'Age', 'SibSp',\n",
    "       'Parch', 'Fare', 'Embarked', 'Cabin_Count', 'Cabin_level', 'First_Number']]"
   ]
  },
  {
   "cell_type": "code",
   "execution_count": null,
   "metadata": {
    "execution": {
     "iopub.execute_input": "2024-11-23T15:00:57.828829Z",
     "iopub.status.busy": "2024-11-23T15:00:57.828371Z",
     "iopub.status.idle": "2024-11-23T15:00:57.844927Z",
     "shell.execute_reply": "2024-11-23T15:00:57.843779Z",
     "shell.execute_reply.started": "2024-11-23T15:00:57.828783Z"
    }
   },
   "outputs": [],
   "source": [
    "all_df = all_df.fillna(0) "
   ]
  },
  {
   "cell_type": "code",
   "execution_count": null,
   "metadata": {
    "execution": {
     "iopub.execute_input": "2024-11-23T15:00:57.847421Z",
     "iopub.status.busy": "2024-11-23T15:00:57.847057Z",
     "iopub.status.idle": "2024-11-23T15:00:57.865636Z",
     "shell.execute_reply": "2024-11-23T15:00:57.864444Z",
     "shell.execute_reply.started": "2024-11-23T15:00:57.847368Z"
    }
   },
   "outputs": [],
   "source": [
    "all_df.head()"
   ]
  },
  {
   "cell_type": "code",
   "execution_count": null,
   "metadata": {
    "execution": {
     "iopub.execute_input": "2024-11-23T15:00:57.867296Z",
     "iopub.status.busy": "2024-11-23T15:00:57.866949Z",
     "iopub.status.idle": "2024-11-23T15:00:57.881238Z",
     "shell.execute_reply": "2024-11-23T15:00:57.879974Z",
     "shell.execute_reply.started": "2024-11-23T15:00:57.867263Z"
    }
   },
   "outputs": [],
   "source": [
    "X, y = all_df.drop(columns = ['Survived']), all_df['Survived']"
   ]
  },
  {
   "cell_type": "markdown",
   "metadata": {},
   "source": [
    "## Split X and y"
   ]
  },
  {
   "cell_type": "code",
   "execution_count": null,
   "metadata": {
    "execution": {
     "iopub.execute_input": "2024-11-23T15:00:57.885080Z",
     "iopub.status.busy": "2024-11-23T15:00:57.884636Z",
     "iopub.status.idle": "2024-11-23T15:00:57.896812Z",
     "shell.execute_reply": "2024-11-23T15:00:57.895278Z",
     "shell.execute_reply.started": "2024-11-23T15:00:57.885033Z"
    }
   },
   "outputs": [],
   "source": [
    "X_train, X_test, y_train, y_test = train_test_split(X, y, test_size=0.1, random_state=326)"
   ]
  },
  {
   "cell_type": "code",
   "execution_count": null,
   "metadata": {
    "execution": {
     "iopub.execute_input": "2024-11-23T15:00:57.901824Z",
     "iopub.status.busy": "2024-11-23T15:00:57.898544Z",
     "iopub.status.idle": "2024-11-23T15:00:58.125260Z",
     "shell.execute_reply": "2024-11-23T15:00:58.124063Z",
     "shell.execute_reply.started": "2024-11-23T15:00:57.901762Z"
    }
   },
   "outputs": [],
   "source": [
    "rf_classifier = RandomForestClassifier(n_estimators=100, random_state=326)  # n_estimators is the number of trees\n",
    "rf_classifier.fit(X_train, y_train)"
   ]
  },
  {
   "cell_type": "code",
   "execution_count": null,
   "metadata": {
    "execution": {
     "iopub.execute_input": "2024-11-23T15:00:58.126905Z",
     "iopub.status.busy": "2024-11-23T15:00:58.126522Z",
     "iopub.status.idle": "2024-11-23T15:00:58.143880Z",
     "shell.execute_reply": "2024-11-23T15:00:58.142690Z",
     "shell.execute_reply.started": "2024-11-23T15:00:58.126871Z"
    }
   },
   "outputs": [],
   "source": [
    "y_pred = rf_classifier.predict(X_test)\n",
    "accuracy = accuracy_score(y_test, y_pred)\n",
    "print(\"Accuracy:\", accuracy)"
   ]
  },
  {
   "cell_type": "markdown",
   "metadata": {},
   "source": [
    "## 10 fold CV"
   ]
  },
  {
   "cell_type": "code",
   "execution_count": null,
   "metadata": {
    "execution": {
     "iopub.execute_input": "2024-11-23T15:05:58.038552Z",
     "iopub.status.busy": "2024-11-23T15:05:58.037750Z",
     "iopub.status.idle": "2024-11-23T15:05:58.044231Z",
     "shell.execute_reply": "2024-11-23T15:05:58.043091Z",
     "shell.execute_reply.started": "2024-11-23T15:05:58.038511Z"
    }
   },
   "outputs": [],
   "source": [
    "param_grid = {\n",
    "    'n_estimators': [25, 50, 75, 100],  # Number of trees in the forest\n",
    "    'max_features': [6, 7, 8, 9, 10],  # Number of features to consider at every split\n",
    "    'max_depth': [10, 12, 14, 16, 18],  # Maximum number of levels in tree\n",
    "    'criterion': ['gini', 'entropy'],  # Function to measure the quality of a split\n",
    "    'min_samples_split':[2, 4, 6, 8, 10],\n",
    "    'max_samples': [0.7, 0.8, 0.9]\n",
    "    \n",
    "}\n"
   ]
  },
  {
   "cell_type": "code",
   "execution_count": null,
   "metadata": {
    "execution": {
     "iopub.execute_input": "2024-11-23T15:05:59.024877Z",
     "iopub.status.busy": "2024-11-23T15:05:59.024495Z",
     "iopub.status.idle": "2024-11-23T15:05:59.030497Z",
     "shell.execute_reply": "2024-11-23T15:05:59.029434Z",
     "shell.execute_reply.started": "2024-11-23T15:05:59.024841Z"
    }
   },
   "outputs": [],
   "source": [
    "\n",
    "rf_classifier = RandomForestClassifier(random_state=42)\n",
    "stratified_kfold = StratifiedKFold(n_splits=2, shuffle=True, random_state=326)\n",
    "grid_search = GridSearchCV(estimator=rf_classifier, param_grid=param_grid, cv=stratified_kfold, \n",
    "                           scoring='accuracy', verbose=1, n_jobs=-1)\n"
   ]
  },
  {
   "cell_type": "code",
   "execution_count": null,
   "metadata": {
    "_kg_hide-output": true,
    "execution": {
     "iopub.execute_input": "2024-11-23T15:06:18.317024Z",
     "iopub.status.busy": "2024-11-23T15:06:18.316633Z",
     "iopub.status.idle": "2024-11-23T15:11:43.070243Z",
     "shell.execute_reply": "2024-11-23T15:11:43.068953Z",
     "shell.execute_reply.started": "2024-11-23T15:06:18.316987Z"
    },
    "scrolled": true
   },
   "outputs": [],
   "source": [
    "grid_search.fit(X, y)"
   ]
  },
  {
   "cell_type": "code",
   "execution_count": null,
   "metadata": {
    "execution": {
     "iopub.execute_input": "2024-11-23T15:11:43.072881Z",
     "iopub.status.busy": "2024-11-23T15:11:43.072477Z",
     "iopub.status.idle": "2024-11-23T15:11:43.079091Z",
     "shell.execute_reply": "2024-11-23T15:11:43.077872Z",
     "shell.execute_reply.started": "2024-11-23T15:11:43.072839Z"
    }
   },
   "outputs": [],
   "source": [
    "print(\"Best parameters:\", grid_search.best_params_)\n",
    "print(\"Best cross-validation score (best accuracy):\", grid_search.best_score_)"
   ]
  },
  {
   "cell_type": "code",
   "execution_count": null,
   "metadata": {
    "execution": {
     "iopub.execute_input": "2024-11-23T15:11:43.080416Z",
     "iopub.status.busy": "2024-11-23T15:11:43.080133Z",
     "iopub.status.idle": "2024-11-23T15:11:43.111838Z",
     "shell.execute_reply": "2024-11-23T15:11:43.110835Z",
     "shell.execute_reply.started": "2024-11-23T15:11:43.080387Z"
    }
   },
   "outputs": [],
   "source": [
    "pd.DataFrame(grid_search.cv_results_).sort_values(by='mean_test_score', ascending=False).head(10)"
   ]
  },
  {
   "cell_type": "code",
   "execution_count": null,
   "metadata": {
    "execution": {
     "iopub.execute_input": "2024-11-23T15:11:43.114387Z",
     "iopub.status.busy": "2024-11-23T15:11:43.114064Z",
     "iopub.status.idle": "2024-11-23T15:11:43.124712Z",
     "shell.execute_reply": "2024-11-23T15:11:43.123691Z",
     "shell.execute_reply.started": "2024-11-23T15:11:43.114356Z"
    }
   },
   "outputs": [],
   "source": [
    "results = pd.DataFrame(grid_search.cv_results_)\n",
    "top_models = results.nlargest(10, 'mean_test_score')"
   ]
  },
  {
   "cell_type": "code",
   "execution_count": null,
   "metadata": {
    "execution": {
     "iopub.execute_input": "2024-11-23T15:11:43.126144Z",
     "iopub.status.busy": "2024-11-23T15:11:43.125837Z",
     "iopub.status.idle": "2024-11-23T15:11:43.135178Z",
     "shell.execute_reply": "2024-11-23T15:11:43.134268Z",
     "shell.execute_reply.started": "2024-11-23T15:11:43.126112Z"
    }
   },
   "outputs": [],
   "source": [
    "base_models = []\n",
    "for index, row in top_models.iterrows():\n",
    "    model = RandomForestClassifier(n_estimators=row['param_n_estimators'],\n",
    "                                   max_features=row['param_max_features'],\n",
    "                                   max_depth=row['param_max_depth'],\n",
    "                                   criterion=row['param_criterion'],\n",
    "                                   min_samples_split=row['param_min_samples_split'],\n",
    "                                   max_samples=row['param_max_samples'],\n",
    "                                   random_state=index)\n",
    "    base_models.append(('rf_{}'.format(index), model))\n"
   ]
  },
  {
   "cell_type": "code",
   "execution_count": null,
   "metadata": {
    "execution": {
     "iopub.execute_input": "2024-11-23T15:11:43.136791Z",
     "iopub.status.busy": "2024-11-23T15:11:43.136434Z",
     "iopub.status.idle": "2024-11-23T15:11:43.154011Z",
     "shell.execute_reply": "2024-11-23T15:11:43.152872Z",
     "shell.execute_reply.started": "2024-11-23T15:11:43.136760Z"
    }
   },
   "outputs": [],
   "source": [
    "# Logistic Regression as the final estimator\n",
    "final_estimator = LogisticRegression()\n",
    "\n",
    "# Stacking Classifier\n",
    "stacking_classifier = StackingClassifier(estimators=base_models, final_estimator=final_estimator, cv=10)"
   ]
  },
  {
   "cell_type": "code",
   "execution_count": null,
   "metadata": {
    "execution": {
     "iopub.execute_input": "2024-11-23T15:11:43.155788Z",
     "iopub.status.busy": "2024-11-23T15:11:43.155386Z",
     "iopub.status.idle": "2024-11-23T15:11:54.041162Z",
     "shell.execute_reply": "2024-11-23T15:11:54.040049Z",
     "shell.execute_reply.started": "2024-11-23T15:11:43.155755Z"
    }
   },
   "outputs": [],
   "source": [
    "X_train, X_test, y_train, y_test = train_test_split(X, y, test_size=0.2, random_state=42)\n",
    "stacking_classifier.fit(X_train, y_train)"
   ]
  },
  {
   "cell_type": "code",
   "execution_count": null,
   "metadata": {
    "execution": {
     "iopub.execute_input": "2024-11-23T15:11:54.043015Z",
     "iopub.status.busy": "2024-11-23T15:11:54.042587Z",
     "iopub.status.idle": "2024-11-23T15:11:54.101618Z",
     "shell.execute_reply": "2024-11-23T15:11:54.100582Z",
     "shell.execute_reply.started": "2024-11-23T15:11:54.042969Z"
    }
   },
   "outputs": [],
   "source": [
    "# Predictions\n",
    "y_pred = stacking_classifier.predict(X_test)\n",
    "\n",
    "# Performance\n",
    "from sklearn.metrics import accuracy_score\n",
    "accuracy = accuracy_score(y_test, y_pred)\n",
    "print(\"Stacking model accuracy:\", accuracy)\n"
   ]
  },
  {
   "cell_type": "markdown",
   "metadata": {
    "execution": {
     "iopub.execute_input": "2024-11-23T14:11:54.922040Z",
     "iopub.status.busy": "2024-11-23T14:11:54.921703Z",
     "iopub.status.idle": "2024-11-23T14:12:07.533732Z",
     "shell.execute_reply": "2024-11-23T14:12:07.532572Z",
     "shell.execute_reply.started": "2024-11-23T14:11:54.922010Z"
    }
   },
   "source": [
    "final_estimator = LogisticRegression()\n",
    "stacking_classifier = StackingClassifier(estimators=base_models, final_estimator=final_estimator, cv=10)\n",
    "stacking_classifier.fit(X, y)"
   ]
  },
  {
   "cell_type": "markdown",
   "metadata": {},
   "source": [
    "## Prediction"
   ]
  },
  {
   "cell_type": "code",
   "execution_count": null,
   "metadata": {
    "execution": {
     "iopub.execute_input": "2024-11-23T15:11:54.103092Z",
     "iopub.status.busy": "2024-11-23T15:11:54.102805Z",
     "iopub.status.idle": "2024-11-23T15:11:54.118964Z",
     "shell.execute_reply": "2024-11-23T15:11:54.118034Z",
     "shell.execute_reply.started": "2024-11-23T15:11:54.103062Z"
    }
   },
   "outputs": [],
   "source": [
    "test_df = all_df = pd.read_csv(\"/kaggle/input/titanic/test.csv\")"
   ]
  },
  {
   "cell_type": "code",
   "execution_count": null,
   "metadata": {
    "execution": {
     "iopub.execute_input": "2024-11-23T15:11:54.122055Z",
     "iopub.status.busy": "2024-11-23T15:11:54.121757Z",
     "iopub.status.idle": "2024-11-23T15:11:54.127491Z",
     "shell.execute_reply": "2024-11-23T15:11:54.126358Z",
     "shell.execute_reply.started": "2024-11-23T15:11:54.122027Z"
    }
   },
   "outputs": [],
   "source": [
    "Results = test_df[['PassengerId']]"
   ]
  },
  {
   "cell_type": "code",
   "execution_count": null,
   "metadata": {
    "execution": {
     "iopub.execute_input": "2024-11-23T15:11:54.128885Z",
     "iopub.status.busy": "2024-11-23T15:11:54.128541Z",
     "iopub.status.idle": "2024-11-23T15:11:54.142455Z",
     "shell.execute_reply": "2024-11-23T15:11:54.141389Z",
     "shell.execute_reply.started": "2024-11-23T15:11:54.128846Z"
    }
   },
   "outputs": [],
   "source": [
    "test_df = test_df[[ 'Pclass', 'Sex', 'Age', 'SibSp',\n",
    "       'Parch', 'Fare', 'Cabin', 'Embarked']]"
   ]
  },
  {
   "cell_type": "code",
   "execution_count": null,
   "metadata": {
    "execution": {
     "iopub.execute_input": "2024-11-23T15:11:54.144092Z",
     "iopub.status.busy": "2024-11-23T15:11:54.143792Z",
     "iopub.status.idle": "2024-11-23T15:11:54.165208Z",
     "shell.execute_reply": "2024-11-23T15:11:54.163946Z",
     "shell.execute_reply.started": "2024-11-23T15:11:54.144062Z"
    }
   },
   "outputs": [],
   "source": [
    "test_df.head()"
   ]
  },
  {
   "cell_type": "code",
   "execution_count": null,
   "metadata": {
    "execution": {
     "iopub.execute_input": "2024-11-23T15:11:54.166923Z",
     "iopub.status.busy": "2024-11-23T15:11:54.166524Z",
     "iopub.status.idle": "2024-11-23T15:11:54.178904Z",
     "shell.execute_reply": "2024-11-23T15:11:54.177648Z",
     "shell.execute_reply.started": "2024-11-23T15:11:54.166890Z"
    }
   },
   "outputs": [],
   "source": [
    "test_df['Cabin_Count'] = test_df['Cabin'].str.count(' ') + 1\n",
    "test_df['Cabin_level'] = test_df['Cabin'].str[0]"
   ]
  },
  {
   "cell_type": "code",
   "execution_count": null,
   "metadata": {
    "execution": {
     "iopub.execute_input": "2024-11-23T15:11:54.180705Z",
     "iopub.status.busy": "2024-11-23T15:11:54.180272Z",
     "iopub.status.idle": "2024-11-23T15:11:54.193217Z",
     "shell.execute_reply": "2024-11-23T15:11:54.191945Z",
     "shell.execute_reply.started": "2024-11-23T15:11:54.180657Z"
    }
   },
   "outputs": [],
   "source": [
    "def extract_first_number(cabin_string):\n",
    "    if pd.isna(cabin_string):\n",
    "        return None  # Return None if the cabin string is NaN\n",
    "    numbers = re.findall(r'\\d+', cabin_string)\n",
    "    return int(numbers[0]) if numbers else None\n",
    "\n",
    "test_df['First_Number'] = test_df['Cabin'].apply(extract_first_number)"
   ]
  },
  {
   "cell_type": "code",
   "execution_count": null,
   "metadata": {
    "execution": {
     "iopub.execute_input": "2024-11-23T15:11:54.195583Z",
     "iopub.status.busy": "2024-11-23T15:11:54.195239Z",
     "iopub.status.idle": "2024-11-23T15:11:54.210267Z",
     "shell.execute_reply": "2024-11-23T15:11:54.209063Z",
     "shell.execute_reply.started": "2024-11-23T15:11:54.195550Z"
    }
   },
   "outputs": [],
   "source": [
    "test_df['Sex'] = test_df['Sex'].replace({'male': 0, 'female': 1})\n",
    "cabin_mapping = {'A': 1, 'B': 2, 'C': 3, 'D': 4, 'E': 5, 'F': 6, 'G': 7, 'T': 8}\n",
    "test_df['Cabin_level'] = test_df['Cabin_level'].map(cabin_mapping)"
   ]
  },
  {
   "cell_type": "code",
   "execution_count": null,
   "metadata": {
    "execution": {
     "iopub.execute_input": "2024-11-23T15:11:54.212188Z",
     "iopub.status.busy": "2024-11-23T15:11:54.211771Z",
     "iopub.status.idle": "2024-11-23T15:11:54.231012Z",
     "shell.execute_reply": "2024-11-23T15:11:54.229761Z",
     "shell.execute_reply.started": "2024-11-23T15:11:54.212141Z"
    }
   },
   "outputs": [],
   "source": [
    "Embarked_mapping = {'S': 1, 'C': 2, 'Q': 3}\n",
    "test_df['Embarked'] = test_df['Embarked'].map(Embarked_mapping)"
   ]
  },
  {
   "cell_type": "code",
   "execution_count": null,
   "metadata": {
    "execution": {
     "iopub.execute_input": "2024-11-23T15:11:54.232721Z",
     "iopub.status.busy": "2024-11-23T15:11:54.232251Z",
     "iopub.status.idle": "2024-11-23T15:11:54.250820Z",
     "shell.execute_reply": "2024-11-23T15:11:54.249462Z",
     "shell.execute_reply.started": "2024-11-23T15:11:54.232675Z"
    }
   },
   "outputs": [],
   "source": [
    "test_df.head()"
   ]
  },
  {
   "cell_type": "code",
   "execution_count": null,
   "metadata": {
    "execution": {
     "iopub.execute_input": "2024-11-23T15:11:54.252535Z",
     "iopub.status.busy": "2024-11-23T15:11:54.252182Z",
     "iopub.status.idle": "2024-11-23T15:11:54.263992Z",
     "shell.execute_reply": "2024-11-23T15:11:54.262956Z",
     "shell.execute_reply.started": "2024-11-23T15:11:54.252500Z"
    }
   },
   "outputs": [],
   "source": [
    "test_df.columns"
   ]
  },
  {
   "cell_type": "code",
   "execution_count": null,
   "metadata": {
    "execution": {
     "iopub.execute_input": "2024-11-23T15:11:54.265619Z",
     "iopub.status.busy": "2024-11-23T15:11:54.265229Z",
     "iopub.status.idle": "2024-11-23T15:11:54.275815Z",
     "shell.execute_reply": "2024-11-23T15:11:54.274694Z",
     "shell.execute_reply.started": "2024-11-23T15:11:54.265565Z"
    }
   },
   "outputs": [],
   "source": [
    "test_df = test_df[['Pclass', 'Sex', 'Age', 'SibSp',\n",
    "       'Parch', 'Fare', 'Embarked', 'Cabin_Count', 'Cabin_level', 'First_Number']]"
   ]
  },
  {
   "cell_type": "code",
   "execution_count": null,
   "metadata": {
    "execution": {
     "iopub.execute_input": "2024-11-23T15:11:54.277831Z",
     "iopub.status.busy": "2024-11-23T15:11:54.277357Z",
     "iopub.status.idle": "2024-11-23T15:11:54.287566Z",
     "shell.execute_reply": "2024-11-23T15:11:54.286448Z",
     "shell.execute_reply.started": "2024-11-23T15:11:54.277782Z"
    }
   },
   "outputs": [],
   "source": [
    "test_df = test_df.fillna(0) "
   ]
  },
  {
   "cell_type": "code",
   "execution_count": null,
   "metadata": {
    "execution": {
     "iopub.execute_input": "2024-11-23T15:11:54.289525Z",
     "iopub.status.busy": "2024-11-23T15:11:54.288997Z",
     "iopub.status.idle": "2024-11-23T15:11:54.359516Z",
     "shell.execute_reply": "2024-11-23T15:11:54.358670Z",
     "shell.execute_reply.started": "2024-11-23T15:11:54.289475Z"
    }
   },
   "outputs": [],
   "source": [
    "pred_y = stacking_classifier.predict(test_df)"
   ]
  },
  {
   "cell_type": "code",
   "execution_count": null,
   "metadata": {
    "execution": {
     "iopub.execute_input": "2024-11-23T15:11:54.360991Z",
     "iopub.status.busy": "2024-11-23T15:11:54.360679Z",
     "iopub.status.idle": "2024-11-23T15:11:54.366638Z",
     "shell.execute_reply": "2024-11-23T15:11:54.365647Z",
     "shell.execute_reply.started": "2024-11-23T15:11:54.360960Z"
    }
   },
   "outputs": [],
   "source": [
    "Results['Survived'] = pred_y"
   ]
  },
  {
   "cell_type": "code",
   "execution_count": null,
   "metadata": {
    "execution": {
     "iopub.execute_input": "2024-11-23T15:11:54.368363Z",
     "iopub.status.busy": "2024-11-23T15:11:54.367977Z",
     "iopub.status.idle": "2024-11-23T15:11:54.384174Z",
     "shell.execute_reply": "2024-11-23T15:11:54.383040Z",
     "shell.execute_reply.started": "2024-11-23T15:11:54.368320Z"
    }
   },
   "outputs": [],
   "source": [
    "Results"
   ]
  },
  {
   "cell_type": "code",
   "execution_count": null,
   "metadata": {
    "execution": {
     "iopub.execute_input": "2024-11-23T15:11:54.385942Z",
     "iopub.status.busy": "2024-11-23T15:11:54.385628Z",
     "iopub.status.idle": "2024-11-23T15:11:54.399354Z",
     "shell.execute_reply": "2024-11-23T15:11:54.398414Z",
     "shell.execute_reply.started": "2024-11-23T15:11:54.385912Z"
    }
   },
   "outputs": [],
   "source": [
    "Results.to_csv('submission.csv', index=False)"
   ]
  },
  {
   "cell_type": "code",
   "execution_count": null,
   "metadata": {},
   "outputs": [],
   "source": []
  },
  {
   "cell_type": "code",
   "execution_count": null,
   "metadata": {},
   "outputs": [],
   "source": []
  },
  {
   "cell_type": "code",
   "execution_count": null,
   "metadata": {},
   "outputs": [],
   "source": []
  }
 ],
 "metadata": {
  "kaggle": {
   "accelerator": "none",
   "dataSources": [
    {
     "databundleVersionId": 26502,
     "sourceId": 3136,
     "sourceType": "competition"
    }
   ],
   "dockerImageVersionId": 30786,
   "isGpuEnabled": false,
   "isInternetEnabled": true,
   "language": "python",
   "sourceType": "notebook"
  },
  "kernelspec": {
   "display_name": "Python 3 (ipykernel)",
   "language": "python",
   "name": "python3"
  },
  "language_info": {
   "codemirror_mode": {
    "name": "ipython",
    "version": 3
   },
   "file_extension": ".py",
   "mimetype": "text/x-python",
   "name": "python",
   "nbconvert_exporter": "python",
   "pygments_lexer": "ipython3",
   "version": "3.9.19"
  }
 },
 "nbformat": 4,
 "nbformat_minor": 4
}
